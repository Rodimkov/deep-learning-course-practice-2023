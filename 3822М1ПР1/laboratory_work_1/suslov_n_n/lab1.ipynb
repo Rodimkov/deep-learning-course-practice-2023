{
 "cells": [
  {
   "cell_type": "code",
   "execution_count": 10,
   "metadata": {
    "editable": true,
    "id": "kNymLG0T7Gux",
    "slideshow": {
     "slide_type": ""
    },
    "tags": []
   },
   "outputs": [],
   "source": [
    "import time\n",
    "import numpy as np\n",
    "import matplotlib.pyplot as plt"
   ]
  },
  {
   "cell_type": "markdown",
   "metadata": {
    "id": "0wh7RjZa7evG"
   },
   "source": [
    "Нейронная сеть"
   ]
  },
  {
   "cell_type": "code",
   "execution_count": 11,
   "metadata": {
    "editable": true,
    "id": "c5P_aFVr7h51",
    "slideshow": {
     "slide_type": ""
    },
    "tags": []
   },
   "outputs": [],
   "source": [
    "def Relu(x):\n",
    "    return np.maximum(0, x)\n",
    "\n",
    "def ReluDerivative(x):\n",
    "    return (x >= 0).astype(float)\n",
    "\n",
    "def Softmax(x):\n",
    "    shiftx = x - np.max(x, axis=1, keepdims=True)\n",
    "    exps = np.exp(shiftx)\n",
    "    return exps / np.sum(exps, axis=1, keepdims=True)\n",
    "\n",
    "def CrossEntropy(x, y):\n",
    "    N = x.shape[0]\n",
    "    return -np.sum(y * np.log(x + 1e-10)) / N\n",
    "\n",
    "def CrossEntropyDerivative(x, y):\n",
    "    return x - y\n",
    "\n",
    "# Вовзращает список массивов размером packetSize из входных и соответствующих выходных данных\n",
    "def CreatePackets(x, y, packetSize):\n",
    "    nRows = x.shape[0]\n",
    "    packetResX = []\n",
    "    packetResY = []\n",
    "    perm = np.random.permutation(nRows)\n",
    "    X = x[perm]\n",
    "    Y = y[perm]\n",
    "    # Если количество данных не делится на размер пачки\n",
    "    fullPacketCount = nRows // packetSize\n",
    "    for k in range(fullPacketCount):\n",
    "        packetX = X[k * packetSize: k * packetSize + packetSize]\n",
    "        packetY = Y[k * packetSize: k * packetSize + packetSize]\n",
    "        packetResX.append(packetX)\n",
    "        packetResY.append(packetY)\n",
    "    if nRows % packetSize != 0:\n",
    "        packetX = X[fullPacketCount * packetSize:]\n",
    "        packetY = Y[fullPacketCount * packetSize:]\n",
    "        packetResX.append(packetX)\n",
    "        packetResY.append(packetY)\n",
    "    return packetResX, packetResY\n",
    "\n",
    "class NeuralNetwork:\n",
    "    def __init__(self, inputNodesCount, hiddenNodesCount, outputNodesCount, learningSpeed):\n",
    "        self.w1 = np.random.randn(inputNodesCount, hiddenNodesCount)\n",
    "        self.b1 = np.zeros((1, hiddenNodesCount))\n",
    "        self.w2 = np.random.randn(hiddenNodesCount, outputNodesCount)\n",
    "        self.b2 = np.zeros((1, outputNodesCount))\n",
    "        self.learningSpeed = learningSpeed\n",
    "\n",
    "    def Forward(self, x):\n",
    "        self.i1 = np.matmul(x, self.w1) + self.b1 # Значения входа скрытого слоя\n",
    "        self.o1 = Relu(self.i1) # Значения выхода скрытого слоя\n",
    "        self.i2 = np.matmul(self.o1, self.w2) + self.b2 # Значения входа выходного слоя\n",
    "        self.z = Softmax(self.i2) # Значение выхода выходного слоя (вектор результата классификации)\n",
    "        return self.z\n",
    "\n",
    "    def Back(self, x, y):\n",
    "        m = x.shape[0]\n",
    "        error = CrossEntropyDerivative(self.z, y) # Ошибка полученного результата и эталонного\n",
    "        db2 = (1 / m) * np.sum(error, axis=0, keepdims=True) # Производная для смещений b2\n",
    "        dW2 = (1 / m) * np.dot(self.o1.T, error) # Производная для весов w2\n",
    "        tmp = np.dot(error, self.w2.T) * ReluDerivative(self.i1)\n",
    "        db1 = (1 / m) * np.sum(tmp, axis=0, keepdims=True) # Производная для смещений b2\n",
    "        dW1 = (1 / m) * np.dot(x.T, tmp) # Производная для весов w2\n",
    "        # Спуск против градиента\n",
    "        self.b2 -= self.learningSpeed * db2\n",
    "        self.w2 -= self.learningSpeed * dW2\n",
    "        self.b1 -= self.learningSpeed * db1\n",
    "        self.w1 -= self.learningSpeed * dW1\n",
    "\n",
    "    def Train(self, x, y, epochCount, packetSize):\n",
    "        loss = []\n",
    "        for epoch in range(epochCount):\n",
    "            startTime = time.time()\n",
    "            packetsX, packetsY = CreatePackets(x, y, packetSize)\n",
    "            for i in range(len(packetsX)):\n",
    "                packetX = packetsX[i]\n",
    "                packetY = packetsY[i]\n",
    "                predictions = self.Forward(packetX) # Вычисление предсказанного значения\n",
    "                loss.append( CrossEntropy(predictions, packetY) ) # Ошибка предсказания\n",
    "                self.Back(packetX, packetY) # Обратное распространение ошибки\n",
    "\n",
    "            epochTime = time.time() - startTime\n",
    "            print(f\"{epoch} Loss: {loss[i]} Time: {epochTime} seconds\")\n",
    "\n",
    "        plt.plot(loss)\n",
    "        plt.show()"
   ]
  },
  {
   "cell_type": "markdown",
   "metadata": {
    "id": "2VPDpRvQ74gI"
   },
   "source": [
    "Загрузка обучающих примеров"
   ]
  },
  {
   "cell_type": "code",
   "execution_count": 12,
   "metadata": {
    "colab": {
     "base_uri": "https://localhost:8080/"
    },
    "editable": true,
    "id": "RMm4M1W177go",
    "outputId": "4effe28c-235f-4199-ce17-84ccffa94d7f",
    "slideshow": {
     "slide_type": ""
    },
    "tags": []
   },
   "outputs": [
    {
     "name": "stdout",
     "output_type": "stream",
     "text": [
      "WARNING:tensorflow:From C:\\Users\\nikita\\AppData\\Roaming\\Python\\Python311\\site-packages\\keras\\src\\losses.py:2976: The name tf.losses.sparse_softmax_cross_entropy is deprecated. Please use tf.compat.v1.losses.sparse_softmax_cross_entropy instead.\n",
      "\n",
      "Downloading data from https://storage.googleapis.com/tensorflow/tf-keras-datasets/mnist.npz\n",
      "11490434/11490434 [==============================] - 2s 0us/step\n",
      "xTrain: (60000, 28, 28)\n",
      "yTrain: (60000,)\n",
      "xTest: (10000, 28, 28)\n",
      "yTest: (10000,)\n"
     ]
    }
   ],
   "source": [
    "from tensorflow.keras import datasets\n",
    "(xTrain, yTrain), (xTest, yTest) = datasets.mnist.load_data()\n",
    "print(f\"xTrain: {xTrain.shape}\")\n",
    "print(f\"yTrain: {yTrain.shape}\")\n",
    "print(f\"xTest: {xTest.shape}\")\n",
    "print(f\"yTest: {yTest.shape}\")"
   ]
  },
  {
   "cell_type": "markdown",
   "metadata": {
    "editable": true,
    "id": "3WZIzkgj8TeK",
    "slideshow": {
     "slide_type": ""
    },
    "tags": []
   },
   "source": [
    "Отображение обучающих примеров"
   ]
  },
  {
   "cell_type": "code",
   "execution_count": 13,
   "metadata": {
    "colab": {
     "base_uri": "https://localhost:8080/",
     "height": 125
    },
    "id": "O906SAlJ8Yjv",
    "outputId": "37c30054-43e2-40c0-ae5a-b29bd8be474a"
   },
   "outputs": [
    {
     "data": {
      "image/png": "[encoded data removed]",
      "text/plain": [
       "<Figure size 1000x500 with 10 Axes>"
      ]
     },
     "metadata": {},
     "output_type": "display_data"
    }
   ],
   "source": [
    "fig, axes = plt.subplots(1, 10, figsize=(10, 5))\n",
    "for ax, image, label in zip(axes, xTrain, yTrain):\n",
    "    ax.set_title(label)\n",
    "    ax.imshow(image)\n",
    "    ax.axis(\"off\")\n",
    "plt.show()"
   ]
  },
  {
   "cell_type": "markdown",
   "metadata": {
    "id": "WBIM9GTz8yfx"
   },
   "source": [
    "Определение констант"
   ]
  },
  {
   "cell_type": "code",
   "execution_count": 14,
   "metadata": {
    "id": "HRehzuUE80ei"
   },
   "outputs": [],
   "source": [
    "INPUT_NODES_COUNT = 28 * 28\n",
    "HIDDEN_NODES_COUNT = 300\n",
    "OUTPUT_NODES_COUNT = 10\n",
    "LEARNING_SPEED = 0.1\n",
    "EPOCHS = 20\n",
    "PACKET_SIZE = 32"
   ]
  },
  {
   "cell_type": "markdown",
   "metadata": {
    "id": "G1yzWfCz9Ank"
   },
   "source": [
    "Нормировка"
   ]
  },
  {
   "cell_type": "code",
   "execution_count": 15,
   "metadata": {
    "id": "BMWSzG6a8_x_"
   },
   "outputs": [],
   "source": [
    "xTrain = xTrain.reshape(xTrain.shape[0], -1) / 255.0 # Перевод трёхмерного массива 60000*28*28 в двумерный 60000*784\n",
    "xTest = xTest.reshape(xTest.shape[0], -1) / 255.0\n",
    "yTrain = np.eye(OUTPUT_NODES_COUNT)[yTrain] # Переводит цифру в массив из нулей и единицей на индексе цифры"
   ]
  },
  {
   "cell_type": "markdown",
   "metadata": {
    "id": "_XsZsJfW9Jux"
   },
   "source": [
    "Обучение"
   ]
  },
  {
   "cell_type": "code",
   "execution_count": 16,
   "metadata": {
    "colab": {
     "base_uri": "https://localhost:8080/",
     "height": 465
    },
    "id": "4P-Yhb6l9MIC",
    "outputId": "91a2651d-8cc8-4cfb-e9d4-b93869a2f0a9"
   },
   "outputs": [
    {
     "name": "stdout",
     "output_type": "stream",
     "text": [
      "0 Loss: 0.9349928059919355 Time: 3.8135242462158203 seconds\n",
      "1 Loss: 0.9349928059919355 Time: 3.458496570587158 seconds\n",
      "2 Loss: 0.9349928059919355 Time: 3.85101318359375 seconds\n",
      "3 Loss: 0.9349928059919355 Time: 3.8416805267333984 seconds\n",
      "4 Loss: 0.9349928059919355 Time: 3.8771488666534424 seconds\n",
      "5 Loss: 0.9349928059919355 Time: 3.9383084774017334 seconds\n",
      "6 Loss: 0.9349928059919355 Time: 3.9170565605163574 seconds\n",
      "7 Loss: 0.9349928059919355 Time: 3.939192295074463 seconds\n",
      "8 Loss: 0.9349928059919355 Time: 3.8891866207122803 seconds\n",
      "9 Loss: 0.9349928059919355 Time: 3.8104498386383057 seconds\n",
      "10 Loss: 0.9349928059919355 Time: 3.924285411834717 seconds\n",
      "11 Loss: 0.9349928059919355 Time: 3.809114456176758 seconds\n",
      "12 Loss: 0.9349928059919355 Time: 3.8624794483184814 seconds\n",
      "13 Loss: 0.9349928059919355 Time: 4.039188385009766 seconds\n",
      "14 Loss: 0.9349928059919355 Time: 3.9247214794158936 seconds\n",
      "15 Loss: 0.9349928059919355 Time: 3.8539772033691406 seconds\n",
      "16 Loss: 0.9349928059919355 Time: 3.9599406719207764 seconds\n",
      "17 Loss: 0.9349928059919355 Time: 3.8702142238616943 seconds\n",
      "18 Loss: 0.9349928059919355 Time: 3.929675817489624 seconds\n",
      "19 Loss: 0.9349928059919355 Time: 3.8726017475128174 seconds\n"
     ]
    },
    {
     "data": {
      "image/png": "[encoded data removed]",
      "text/plain": [
       "<Figure size 640x480 with 1 Axes>"
      ]
     },
     "metadata": {},
     "output_type": "display_data"
    }
   ],
   "source": [
    "model = NeuralNetwork(inputNodesCount=INPUT_NODES_COUNT,\n",
    "                            hiddenNodesCount=HIDDEN_NODES_COUNT,\n",
    "                            outputNodesCount=OUTPUT_NODES_COUNT,\n",
    "                            learningSpeed=LEARNING_SPEED)\n",
    "model.Train(xTrain, yTrain, EPOCHS, PACKET_SIZE)"
   ]
  },
  {
   "cell_type": "markdown",
   "metadata": {
    "id": "KLLIRuG79V1X"
   },
   "source": [
    "Оценка качества на тестовых данных"
   ]
  },
  {
   "cell_type": "code",
   "execution_count": 17,
   "metadata": {
    "colab": {
     "base_uri": "https://localhost:8080/"
    },
    "editable": true,
    "id": "X9WBBJam9X0R",
    "outputId": "2d8fcf82-8d95-4ca9-f8d7-2ce7102b802e",
    "slideshow": {
     "slide_type": ""
    },
    "tags": []
   },
   "outputs": [
    {
     "name": "stdout",
     "output_type": "stream",
     "text": [
      "Test result: 95.34%\n"
     ]
    }
   ],
   "source": [
    "predict = model.Forward(xTest)\n",
    "predictNumber = np.argmax(predict, axis=1)  # Массив предсказанных цифр\n",
    "accuracy = np.mean(predictNumber == yTest) * 100.0\n",
    "print(f\"Test result: {accuracy}%\")"
   ]
  }
 ],
 "metadata": {
  "colab": {
   "provenance": []
  },
  "kernelspec": {
   "display_name": "Python 3 (ipykernel)",
   "language": "python",
   "name": "python3"
  },
  "language_info": {
   "codemirror_mode": {
    "name": "ipython",
    "version": 3
   },
   "file_extension": ".py",
   "mimetype": "text/x-python",
   "name": "python",
   "nbconvert_exporter": "python",
   "pygments_lexer": "ipython3",
   "version": "3.11.8"
  }
 },
 "nbformat": 4,
 "nbformat_minor": 4
}
