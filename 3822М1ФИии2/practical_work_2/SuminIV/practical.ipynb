{
 "cells": [
  {
   "cell_type": "markdown",
   "metadata": {},
   "source": [
    "### Загрузка данных"
   ]
  },
  {
   "cell_type": "code",
   "execution_count": 1,
   "metadata": {},
   "outputs": [
    {
     "name": "stdout",
     "output_type": "stream",
     "text": [
      "Requirement already satisfied: torch in c:\\users\\asus\\appdata\\local\\programs\\python\\python38\\lib\\site-packages (1.9.1)\n",
      "Requirement already satisfied: torchvision in c:\\users\\asus\\appdata\\local\\programs\\python\\python38\\lib\\site-packages (0.10.1)\n",
      "Requirement already satisfied: typing-extensions in c:\\users\\asus\\appdata\\local\\programs\\python\\python38\\lib\\site-packages (from torch) (4.0.1)\n",
      "Requirement already satisfied: numpy in c:\\users\\asus\\appdata\\local\\programs\\python\\python38\\lib\\site-packages (from torchvision) (1.22.4)\n",
      "Requirement already satisfied: pillow>=5.3.0 in c:\\users\\asus\\appdata\\local\\programs\\python\\python38\\lib\\site-packages (from torchvision) (9.5.0)\n",
      "Note: you may need to restart the kernel to use updated packages.\n"
     ]
    },
    {
     "name": "stderr",
     "output_type": "stream",
     "text": [
      "DEPRECATION: pytorch-lightning 1.7.7 has a non-standard dependency specifier torch>=1.9.*. pip 24.0 will enforce this behaviour change. A possible replacement is to upgrade to a newer version of pytorch-lightning or contact the author to suggest that they release a version with a conforming dependency specifiers. Discussion can be found at https://github.com/pypa/pip/issues/12063\n"
     ]
    }
   ],
   "source": [
    "pip install torch torchvision"
   ]
  },
  {
   "cell_type": "code",
   "execution_count": 2,
   "metadata": {},
   "outputs": [],
   "source": [
    "import torch\n",
    "import torchvision\n",
    "import torchvision.transforms as transforms\n",
    "import torchvision.models as models\n",
    "\n",
    "import torch.nn as nn\n",
    "import torch.nn.functional as F\n",
    "import torch.optim as optim\n",
    "\n",
    "import os\n",
    "import time\n",
    "import ssl\n",
    "import urllib.request\n",
    "\n",
    "from matplotlib import pyplot as plt\n",
    "import numpy as np"
   ]
  },
  {
   "cell_type": "code",
   "execution_count": 3,
   "metadata": {},
   "outputs": [],
   "source": [
    "# Отключение проверки SSL-сертификата для загрузки CIFAR-10\n",
    "ssl._create_default_https_context = ssl._create_unverified_context"
   ]
  },
  {
   "cell_type": "code",
   "execution_count": 4,
   "metadata": {},
   "outputs": [],
   "source": [
    "# Преобразование данных\n",
    "transform = transforms.Compose([\n",
    "    transforms.ToTensor()\n",
    "])"
   ]
  },
  {
   "cell_type": "code",
   "execution_count": 5,
   "metadata": {},
   "outputs": [
    {
     "name": "stdout",
     "output_type": "stream",
     "text": [
      "Files already downloaded and verified\n",
      "Files already downloaded and verified\n"
     ]
    }
   ],
   "source": [
    "trainset = torchvision.datasets.CIFAR10(root='./data', train=True, download=True, transform=transform)\n",
    "testset = torchvision.datasets.CIFAR10(root='./data', train=False, download=True, transform=transform)\n",
    "\n",
    "trainloader = torch.utils.data.DataLoader(trainset, batch_size=64, shuffle=True, num_workers=2)\n",
    "testloader = torch.utils.data.DataLoader(testset, batch_size=64, shuffle=False, num_workers=2)"
   ]
  },
  {
   "cell_type": "markdown",
   "metadata": {},
   "source": [
    "### Обучение и тестирование модели. "
   ]
  },
  {
   "cell_type": "code",
   "execution_count": 6,
   "metadata": {},
   "outputs": [],
   "source": [
    "# Загрузка предварительно обученной модели ResNet18\n",
    "model_resnet18 = models.resnet18(pretrained=True)\n",
    "\n",
    "# Загрузка предварительно обученной модели ResNet34\n",
    "model_resnet34 = models.resnet34(pretrained=True)\n",
    "\n",
    "# Загрузка предварительно обученной модели MnasNet 0.5\n",
    "model_mnasnet0_5 = models.mnasnet0_5(pretrained=True)\n",
    "\n",
    "# Загрузка предварительно обученной модели MnasNet 1.0\n",
    "model_mnasnet1_0 = models.mnasnet1_0(pretrained=True)"
   ]
  },
  {
   "cell_type": "code",
   "execution_count": 7,
   "metadata": {},
   "outputs": [],
   "source": [
    "def train_model(model, trainloader, criterion, optimizer, num_epochs=5):\n",
    "    \"\"\"\n",
    "    Функция для обучения переданной модели.\n",
    "\n",
    "    - model: Обучаемая модель.\n",
    "    - trainloader: Загрузчик данных, содержащий обучающий набор.\n",
    "    - criterion: Функция потерь для вычисления потерь.\n",
    "    - optimizer: Алгоритм оптимизации для обновления весов модели.\n",
    "    - num_epochs: Количество эпох обучения.\n",
    "    \"\"\"\n",
    "    # Переводим модель в режим обучения\n",
    "    model.train()\n",
    "    for epoch in range(num_epochs):\n",
    "        running_loss = 0.0\n",
    "        for inputs, labels in trainloader:\n",
    "            # Обнуляем градиенты\n",
    "            optimizer.zero_grad()\n",
    "            # Прямой проход\n",
    "            outputs = model(inputs)\n",
    "            # Вычисление потерь\n",
    "            loss = criterion(outputs, labels)\n",
    "            # Обратное распространение\n",
    "            loss.backward()\n",
    "            # Шаг оптимизации\n",
    "            optimizer.step()\n",
    "            running_loss += loss.item()\n",
    "        \n",
    "        # Средние потери для эпохи\n",
    "        print(f\"Epoch [{epoch+1}/{num_epochs}], Loss: {running_loss / len(trainloader)}\")"
   ]
  },
  {
   "cell_type": "code",
   "execution_count": 8,
   "metadata": {},
   "outputs": [],
   "source": [
    "def test_model(model, testloader):\n",
    "    \"\"\"\n",
    "    Функция для оценки производительности модели на тестовом наборе.\n",
    "\n",
    "    - model: Обученная модель.\n",
    "    - testloader: Загрузчик данных, содержащий тестовый набор.\n",
    "    \"\"\"\n",
    "    # Переводим модель в режим оценки\n",
    "    model.eval()\n",
    "    correct = 0\n",
    "    total = 0\n",
    "    with torch.no_grad():\n",
    "        for inputs, labels in testloader:\n",
    "            outputs = model(inputs)\n",
    "            # Получение предсказанных меток\n",
    "            _, predicted = torch.max(outputs, 1)\n",
    "            #  Обновление общего количества образцов\n",
    "            total += labels.size(0)\n",
    "            # Подсчет количества правильных предсказаний\n",
    "            correct += (predicted == labels).sum().item()\n",
    "    \n",
    "    # Точность на тестовом наборе\n",
    "    accuracy = 100 * correct / total\n",
    "    print(f'Accuracy на testset: {accuracy}%')\n",
    "    \n",
    "    return accuracy"
   ]
  },
  {
   "cell_type": "code",
   "execution_count": 9,
   "metadata": {},
   "outputs": [
    {
     "name": "stdout",
     "output_type": "stream",
     "text": [
      "Training and testing ResNet18:\n",
      "Epoch [1/5], Loss: 1.2744559022929052\n",
      "Epoch [2/5], Loss: 0.6930753830296305\n",
      "Epoch [3/5], Loss: 0.540298489848976\n",
      "Epoch [4/5], Loss: 0.4371457584869221\n",
      "Epoch [5/5], Loss: 0.35170074198823753\n",
      "Accuracy на testset: 79.21%\n",
      "Training and testing ResNet34:\n",
      "Epoch [1/5], Loss: 1.2184406032647623\n",
      "Epoch [2/5], Loss: 0.6210962229258264\n",
      "Epoch [3/5], Loss: 0.4616198279249394\n",
      "Epoch [4/5], Loss: 0.3524309266977908\n",
      "Epoch [5/5], Loss: 0.27896592064815406\n",
      "Accuracy на testset: 81.14%\n",
      "Training and testing MnasNet 0.5:\n",
      "Epoch [1/5], Loss: 10.68209184100256\n",
      "Epoch [2/5], Loss: 5.706657162712663\n",
      "Epoch [3/5], Loss: 4.463339354376049\n",
      "Epoch [4/5], Loss: 3.6561268107665468\n",
      "Epoch [5/5], Loss: 3.1418729718688807\n",
      "Accuracy на testset: 9.62%\n",
      "Training and testing MnasNet 1.0:\n",
      "Epoch [1/5], Loss: 2.823415596466845\n",
      "Epoch [2/5], Loss: 1.24093738952866\n",
      "Epoch [3/5], Loss: 1.033964692631646\n",
      "Epoch [4/5], Loss: 0.9210170217029884\n",
      "Epoch [5/5], Loss: 0.8500492014086155\n",
      "Accuracy на testset: 36.12%\n"
     ]
    }
   ],
   "source": [
    "def train_and_test_model(model, model_name):\n",
    "    criterion = nn.CrossEntropyLoss()\n",
    "    optimizer = optim.SGD(model.parameters(), lr=0.001, momentum=0.9)\n",
    "\n",
    "    print(f\"Training and testing {model_name}:\")\n",
    "    train_model(model, trainloader, criterion, optimizer, num_epochs=5)\n",
    "    return test_model(model, testloader)\n",
    "\n",
    "# Обучение и тестирование моделей\n",
    "accuracy_resnet18 = train_and_test_model(model_resnet18, \"ResNet18\")\n",
    "accuracy_resnet34 = train_and_test_model(model_resnet34, \"ResNet34\")\n",
    "accuracy_mnasnet0_5 = train_and_test_model(model_mnasnet0_5, \"MnasNet 0.5\")\n",
    "accuracy_mnasnet1_0 = train_and_test_model(model_mnasnet1_0, \"MnasNet 1.0\")"
   ]
  },
  {
   "cell_type": "markdown",
   "metadata": {},
   "source": [
    "### Представление результатов"
   ]
  },
  {
   "cell_type": "code",
   "execution_count": 11,
   "metadata": {},
   "outputs": [
    {
     "data": {
      "image/png": "[encoded data removed]",
      "text/plain": [
       "<Figure size 432x288 with 1 Axes>"
      ]
     },
     "metadata": {
      "needs_background": "light"
     },
     "output_type": "display_data"
    }
   ],
   "source": [
    "# Модели и точности\n",
    "models = ['ResNet18', 'ResNet34', 'MnasNet 0.5', 'MnasNet 1.0']\n",
    "accuracies = [accuracy_resnet18, accuracy_resnet34, accuracy_mnasnet0_5, accuracy_mnasnet1_0]\n",
    "\n",
    "fig, ax = plt.subplots()\n",
    "bars = ax.bar(models, accuracies)\n",
    "\n",
    "for bar in bars:\n",
    "    yval = bar.get_height()\n",
    "    ax.text(bar.get_x() + bar.get_width()/2, yval, round(yval, 2), ha='center', va='bottom')\n",
    "\n",
    "# Среднее и максимальное значения точности\n",
    "avg_accuracy = np.mean(accuracies)\n",
    "max_accuracy = max(accuracies)\n",
    "\n",
    "# Среднее и максимальное значения точности\n",
    "ax.axhline(y=avg_accuracy, color='gray', linestyle='--', linewidth=0.8, label=f'Среднее: {round(avg_accuracy, 2)}')\n",
    "ax.axhline(y=max_accuracy, color='red', linestyle='--', linewidth=0.8, label=f'Максимум: {round(max_accuracy, 2)}')\n",
    "\n",
    "ax.set_xlabel('Модель')\n",
    "ax.set_ylabel('Точность')\n",
    "ax.set_title('Сравнительная точность моделей')\n",
    "\n",
    "ax.legend(loc='upper right')\n",
    "plt.show()"
   ]
  },
  {
   "cell_type": "markdown",
   "metadata": {},
   "source": [
    "В конечном итоге лучшую точность (`81.14%`) показала модель ResNet34 при предварительной обученности.  \n",
    "В целом, обе модели ResNet показали достойный результат, в отличие от моделей MnasNet."
   ]
  }
 ],
 "metadata": {
  "kernelspec": {
   "display_name": "Python 3",
   "language": "python",
   "name": "python3"
  },
  "language_info": {
   "codemirror_mode": {
    "name": "ipython",
    "version": 3
   },
   "file_extension": ".py",
   "mimetype": "text/x-python",
   "name": "python",
   "nbconvert_exporter": "python",
   "pygments_lexer": "ipython3",
   "version": "3.8.3"
  }
 },
 "nbformat": 4,
 "nbformat_minor": 4
}
