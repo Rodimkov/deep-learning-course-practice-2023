{
 "cells": [
  {
   "cell_type": "code",
   "execution_count": 1,
   "metadata": {},
   "outputs": [],
   "source": [
    "import itertools\n",
    "import time\n",
    "import torch\n",
    "import torchvision\n",
    "import warnings\n",
    "\n",
    "import pandas as pd\n",
    "import seaborn as sns\n",
    "import matplotlib.pyplot as plt\n",
    "import torch.nn as nn\n",
    "import torch.optim as optim\n",
    "\n",
    "from torchvision import models, transforms\n",
    "from IPython.display import clear_output\n",
    "from torch.optim import lr_scheduler\n",
    "from torch.utils.data import DataLoader"
   ]
  },
  {
   "cell_type": "code",
   "execution_count": 2,
   "metadata": {},
   "outputs": [],
   "source": [
    "SEED = 0xDEAD\n",
    "torch.manual_seed(SEED)\n",
    "torch.random.manual_seed(SEED)\n",
    "torch.cuda.random.manual_seed_all(SEED)"
   ]
  },
  {
   "cell_type": "code",
   "execution_count": 3,
   "metadata": {},
   "outputs": [],
   "source": [
    "sns.set(style=\"darkgrid\")"
   ]
  },
  {
   "cell_type": "markdown",
   "metadata": {},
   "source": [
    "#### Data"
   ]
  },
  {
   "cell_type": "code",
   "execution_count": 4,
   "metadata": {},
   "outputs": [
    {
     "name": "stdout",
     "output_type": "stream",
     "text": [
      "Files already downloaded and verified\n",
      "Files already downloaded and verified\n"
     ]
    },
    {
     "data": {
      "text/plain": [
       "10"
      ]
     },
     "execution_count": 4,
     "metadata": {},
     "output_type": "execute_result"
    }
   ],
   "source": [
    "batch_size = 128\n",
    "\n",
    "transform = transforms.Compose(\n",
    "    [\n",
    "        transforms.Resize((224, 224)),\n",
    "        transforms.ToTensor(),\n",
    "        transforms.Normalize((0.485, 0.456, 0.406), (0.229, 0.224, 0.225)),\n",
    "    ]\n",
    ")\n",
    "\n",
    "train_transform = transforms.Compose(\n",
    "    [\n",
    "        transforms.RandomHorizontalFlip(),\n",
    "        transforms.ColorJitter(brightness=0.2, contrast=0.2, saturation=0.2, hue=0.2),\n",
    "        transforms.Resize((224, 224)),\n",
    "        transforms.ToTensor(),\n",
    "        transforms.Normalize((0.485, 0.456, 0.406), (0.229, 0.224, 0.225)),\n",
    "    ]\n",
    ")\n",
    "\n",
    "trainset = torchvision.datasets.CIFAR10(\n",
    "    root=\"./data\", train=True, download=True, transform=train_transform\n",
    ")\n",
    "testset = torchvision.datasets.CIFAR10(\n",
    "    root=\"./data\", train=False, download=True, transform=transform\n",
    ")\n",
    "\n",
    "num_gpus = torch.cuda.device_count()\n",
    "\n",
    "trainloader = DataLoader(\n",
    "    trainset,\n",
    "    batch_size=batch_size,\n",
    "    shuffle=True,\n",
    "    pin_memory=True,\n",
    ")\n",
    "\n",
    "testloader = DataLoader(\n",
    "    testset,\n",
    "    batch_size=batch_size,\n",
    "    shuffle=False,\n",
    "    pin_memory=True,\n",
    ")\n",
    "\n",
    "# means = []\n",
    "# stdevs = []\n",
    "\n",
    "# for X, _ in trainloader:\n",
    "#     means.append(X.mean(dim=(0, 2, 3)))\n",
    "#     stdevs.append(X.std(dim=(0, 2, 3)))\n",
    "\n",
    "# mean = torch.stack(means, dim=0).mean(dim=0)\n",
    "# stdev = torch.stack(stdevs, dim=0).mean(dim=0)\n",
    "\n",
    "# print(mean, stdev)\n",
    "\n",
    "classes = (\n",
    "    \"plane\",\n",
    "    \"car\",\n",
    "    \"bird\",\n",
    "    \"cat\",\n",
    "    \"deer\",\n",
    "    \"dog\",\n",
    "    \"frog\",\n",
    "    \"horse\",\n",
    "    \"ship\",\n",
    "    \"truck\",\n",
    ")\n",
    "\n",
    "num_classes = len(classes)\n",
    "num_classes"
   ]
  },
  {
   "cell_type": "markdown",
   "metadata": {},
   "source": [
    "#### Utils"
   ]
  },
  {
   "cell_type": "code",
   "execution_count": 5,
   "metadata": {},
   "outputs": [
    {
     "data": {
      "text/plain": [
       "'cuda'"
      ]
     },
     "execution_count": 5,
     "metadata": {},
     "output_type": "execute_result"
    }
   ],
   "source": [
    "device = \"cuda\" if torch.cuda.is_available() else \"cpu\"\n",
    "device"
   ]
  },
  {
   "cell_type": "markdown",
   "metadata": {},
   "source": [
    "nice"
   ]
  },
  {
   "cell_type": "code",
   "execution_count": 6,
   "metadata": {},
   "outputs": [],
   "source": [
    "def plot_accuracy(\n",
    "    model_name, phase, train_accuracy_history, test_accuracy_history\n",
    "):\n",
    "    epoch = len(train_accuracy_history) - 1\n",
    "\n",
    "    plt.figure(figsize=(12, 4))\n",
    "    plt.suptitle(f\"{model_name} on {phase}\")\n",
    "\n",
    "    plt.subplot(131)\n",
    "    plt.plot(train_accuracy_history, \"-x\", label=\"train\")\n",
    "    plt.plot(test_accuracy_history, \"-x\", label=\"test\")\n",
    "    plt.xlabel(\"epoch\")\n",
    "    plt.ylabel(\"accuracy\")\n",
    "    plt.legend()\n",
    "    plt.title(\"Accuracy\")\n",
    "\n",
    "    current_train_accuracy = train_accuracy_history[-1]\n",
    "    current_test_accuracy = test_accuracy_history[-1]\n",
    "\n",
    "    plt.text(\n",
    "        epoch,\n",
    "        current_train_accuracy,\n",
    "        f\"{current_train_accuracy:.2f}%\",\n",
    "        va=\"center\",\n",
    "        ha=\"right\",\n",
    "    )\n",
    "    plt.text(\n",
    "        epoch,\n",
    "        current_test_accuracy,\n",
    "        f\"{current_test_accuracy:.2f}%\",\n",
    "        va=\"center\",\n",
    "        ha=\"right\",\n",
    "    )\n",
    "\n",
    "    plt.tight_layout()\n",
    "    plt.show()"
   ]
  },
  {
   "cell_type": "code",
   "execution_count": 7,
   "metadata": {},
   "outputs": [],
   "source": [
    "def plot_training_progress(\n",
    "    model_name, phase, train_loss_history, test_loss_history, train_accuracy_history, test_accuracy_history\n",
    "):\n",
    "    clear_output(wait=True)\n",
    "\n",
    "    epoch = len(train_loss_history) - 1\n",
    "\n",
    "    plt.figure(figsize=(12, 4))\n",
    "    plt.suptitle(f\"{model_name} on {phase}\")\n",
    "    plt.subplot(1, 2, 1)\n",
    "    plt.plot(train_loss_history, \"-x\", label=\"train\")\n",
    "    plt.plot(test_loss_history, \"-x\", label=\"test\")\n",
    "    plt.xlabel(\"epoch\")\n",
    "    plt.ylabel(\"loss\")\n",
    "    plt.legend()\n",
    "    plt.title(\"Loss\")\n",
    "\n",
    "    current_train_loss = train_loss_history[-1]\n",
    "    current_test_loss = test_loss_history[-1]\n",
    "\n",
    "    plt.text(\n",
    "        epoch, current_train_loss, f\"{current_train_loss:.3f}\", va=\"center\", ha=\"right\"\n",
    "    )\n",
    "    plt.text(\n",
    "        epoch,\n",
    "        current_test_loss,\n",
    "        f\"{current_test_loss:.3f}\",\n",
    "        va=\"center\",\n",
    "        ha=\"right\",\n",
    "    )\n",
    "\n",
    "    plt.subplot(1, 2, 2)\n",
    "    plt.plot(train_accuracy_history, \"-x\", label=\"train\")\n",
    "    plt.plot(test_accuracy_history, \"-x\", label=\"test\")\n",
    "    plt.xlabel(\"epoch\")\n",
    "    plt.ylabel(\"accuracy\")\n",
    "    plt.legend()\n",
    "    plt.title(\"Accuracy\")\n",
    "\n",
    "    current_train_accuracy = train_accuracy_history[-1]\n",
    "    current_test_accuracy = test_accuracy_history[-1]\n",
    "\n",
    "    plt.text(\n",
    "        epoch,\n",
    "        current_train_accuracy,\n",
    "        f\"{current_train_accuracy:.2f}%\",\n",
    "        va=\"center\",\n",
    "        ha=\"right\",\n",
    "    )\n",
    "    plt.text(\n",
    "        epoch,\n",
    "        current_test_accuracy,\n",
    "        f\"{current_test_accuracy:.2f}%\",\n",
    "        va=\"center\",\n",
    "        ha=\"right\",\n",
    "    )\n",
    "\n",
    "    plt.tight_layout()\n",
    "    plt.show()"
   ]
  },
  {
   "cell_type": "code",
   "execution_count": 8,
   "metadata": {},
   "outputs": [],
   "source": [
    "def train_one_epoch(model, trainloader, criterion, optimizer, scheduler):\n",
    "    \n",
    "    train_loss = torch.tensor(0., device=device)\n",
    "    train_accuracy = torch.tensor(0., device=device)\n",
    "\n",
    "    for inputs, labels in trainloader:\n",
    "        inputs = inputs.to(device)\n",
    "        labels = labels.to(device)\n",
    "\n",
    "        optimizer.zero_grad()\n",
    "\n",
    "        outputs = model(inputs)\n",
    "        loss = criterion(outputs, labels)\n",
    "        loss.backward()\n",
    "\n",
    "        optimizer.step()\n",
    "        \n",
    "        with torch.no_grad():\n",
    "            train_loss += loss * trainloader.batch_size\n",
    "            train_accuracy += (torch.argmax(outputs, dim=1) == labels).sum()\n",
    "\n",
    "    if scheduler:\n",
    "        scheduler.step()\n",
    "\n",
    "    return (train_loss/len(trainloader.dataset)).cpu(), (100*train_accuracy/len(trainloader.dataset)).cpu()"
   ]
  },
  {
   "cell_type": "code",
   "execution_count": 9,
   "metadata": {},
   "outputs": [],
   "source": [
    "def evaluate(model, testloader, criterion):\n",
    "\n",
    "    test_loss = torch.tensor(0., device=device)\n",
    "    test_accuracy = torch.tensor(0., device=device)\n",
    "\n",
    "    with torch.no_grad():\n",
    "        for inputs, labels in testloader:\n",
    "            inputs = inputs.to(device)\n",
    "            labels = labels.to(device)\n",
    "\n",
    "            outputs = model(inputs)\n",
    "            loss = criterion(outputs, labels)\n",
    "            \n",
    "            test_loss += loss * testloader.batch_size\n",
    "            test_accuracy += (torch.argmax(outputs, dim=1) == labels).sum()\n",
    "\n",
    "    return (test_loss/len(testloader.dataset)).cpu(), (100*test_accuracy/len(testloader.dataset)).cpu()"
   ]
  },
  {
   "cell_type": "code",
   "execution_count": 10,
   "metadata": {},
   "outputs": [],
   "source": [
    "def train_and_evaluate(\n",
    "    model,\n",
    "    trainloader,\n",
    "    testloader,\n",
    "    criterion,\n",
    "    optimizer,\n",
    "    scheduler=None,\n",
    "    num_epochs=10,\n",
    "    model_name=None,\n",
    "    phase=\"first\",\n",
    "):\n",
    "    train_loss_history = []\n",
    "    test_loss_history = []\n",
    "    train_accuracy_history = []\n",
    "    test_accuracy_history = []\n",
    "    epoch_times = []\n",
    "\n",
    "    for epoch in range(num_epochs):\n",
    "        start_time = time.time()\n",
    "        model.train()\n",
    "        train_loss, train_accuracy = train_one_epoch(\n",
    "            model, trainloader, criterion, optimizer, scheduler\n",
    "        )\n",
    "        end_time = time.time()\n",
    "        model.eval()\n",
    "        test_loss, test_accuracy = evaluate(model, testloader, criterion)\n",
    "\n",
    "\n",
    "        train_loss_history.append(train_loss)\n",
    "        test_loss_history.append(test_loss)\n",
    "        train_accuracy_history.append(train_accuracy)\n",
    "        test_accuracy_history.append(test_accuracy)\n",
    "        epoch_times.append(end_time - start_time)\n",
    "\n",
    "        plot_training_progress(\n",
    "            model_name,\n",
    "            phase,\n",
    "            train_loss_history,\n",
    "            test_loss_history,\n",
    "            train_accuracy_history,\n",
    "            test_accuracy_history,\n",
    "        )\n",
    "\n",
    "        print(\n",
    "            \"Epoch {}/{} (from 0-idx) Epoch Time: {:.2f} sec.\\n\"\n",
    "            \"Train Loss: {:5.3f}  Train Accuracy: {:5.2f}%\\n\"\n",
    "            \"Test Loss: {:6.3f}  Test Accuracy: {:6.2f}%\".format(\n",
    "                epoch,\n",
    "                num_epochs - 1,\n",
    "                epoch_times[-1],\n",
    "                train_loss,\n",
    "                train_accuracy,\n",
    "                test_loss,\n",
    "                test_accuracy,\n",
    "            )\n",
    "        )\n",
    "\n",
    "    total_training_time = sum(epoch_times)\n",
    "    avg_epoch_time = total_training_time / num_epochs\n",
    "\n",
    "    print(\n",
    "        f\"Total train time: {total_training_time:.2f} sec.\\n\"\n",
    "        f\"Average epoch time: {avg_epoch_time:.2f} sec.\"\n",
    "    )\n",
    "\n",
    "    return (total_training_time, train_accuracy_history, test_accuracy_history)"
   ]
  },
  {
   "cell_type": "markdown",
   "metadata": {},
   "source": [
    "### Pretrained models"
   ]
  },
  {
   "cell_type": "code",
   "execution_count": 11,
   "metadata": {},
   "outputs": [],
   "source": [
    "def find_last_linear(model):\n",
    "    last_linear_info = None\n",
    "    for name, module in list(model.named_modules()):\n",
    "        if isinstance(module, nn.Linear):\n",
    "            parts = name.split(\".\")\n",
    "            if len(parts) == 1:\n",
    "                last_linear_info = (name, module)\n",
    "            elif len(parts) == 2:\n",
    "                last_linear_info = (parts[0], int(parts[1]), module)\n",
    "    return last_linear_info"
   ]
  },
  {
   "cell_type": "code",
   "execution_count": 12,
   "metadata": {},
   "outputs": [],
   "source": [
    "def freeze_except_last(model, last_layer):\n",
    "    for name, param in model.named_parameters():\n",
    "        param.requires_grad = name in [f\"{last_layer}.weight\", f\"{last_layer}.bias\"]"
   ]
  },
  {
   "cell_type": "code",
   "execution_count": 13,
   "metadata": {},
   "outputs": [],
   "source": [
    "def freeze_except_block(model, last_layer, blocks):\n",
    "    for name, param in model.named_parameters():\n",
    "        in_block = any((block in name for block in blocks))\n",
    "        param.requires_grad = (\n",
    "            in_block or name == f\"{last_layer}.weight\" or name == f\"{last_layer}.bias\"\n",
    "        )"
   ]
  },
  {
   "cell_type": "markdown",
   "metadata": {},
   "source": [
    "The `xavier_uniform_` function initializes the weights to random values, following the _Xavier Initialization_ method with uniform distribution.\n",
    "\n",
    "The _Xavier Initialization_ method sets the initial values of the weights so that their variance (the variance of the layer's inputs and outputs) is approximately the same."
   ]
  },
  {
   "cell_type": "code",
   "execution_count": 14,
   "metadata": {},
   "outputs": [],
   "source": [
    "def modify_layer_of_sequence(last_linear_info, model, num_classes):\n",
    "    seq_name, seq_index, last_linear = last_linear_info\n",
    "    seq = model._modules[seq_name]\n",
    "    seq[seq_index] = nn.Linear(last_linear.in_features, num_classes).to(device)\n",
    "\n",
    "    print(f\"Modified Last Layer in Sequential: {seq[seq_index]}\")\n",
    "\n",
    "    # for param in seq[seq_index].parameters():\n",
    "    #     param.requires_grad = True\n",
    "\n",
    "    torch.nn.init.xavier_uniform_(seq[seq_index].weight)\n",
    "\n",
    "\n",
    "def modify_model(model, phase=\"first\", blocks=[]):\n",
    "    last_linear_info = find_last_linear(model)\n",
    "    print(f\"Last layer: {last_linear_info}\")\n",
    "\n",
    "    if last_linear_info:\n",
    "        if len(last_linear_info) == 2:\n",
    "            last_linear_name, last_linear = last_linear_info\n",
    "            model._modules[last_linear_name] = nn.Linear(\n",
    "                last_linear.in_features, num_classes\n",
    "            ).to(device)\n",
    "\n",
    "            print(f\"Modified Last Layer: {model._modules[last_linear_name]}\")\n",
    "\n",
    "            torch.nn.init.xavier_uniform_(model._modules[last_linear_name].weight)\n",
    "\n",
    "        elif len(last_linear_info) == 3:\n",
    "            modify_layer_of_sequence(last_linear_info, model, num_classes)\n",
    "\n",
    "    if len(last_linear_info) == 2:\n",
    "        last_layer_name = last_linear_info[0]\n",
    "    if len(last_linear_info) == 3:\n",
    "        name, index = last_linear_info[:2]\n",
    "        last_layer_name = f\"{name}.{str(index)}\"\n",
    "\n",
    "    if phase == \"first\":\n",
    "        freeze_except_last(model, last_layer_name)\n",
    "    if phase == \"second\":\n",
    "        freeze_except_block(model, last_layer_name, blocks)\n",
    "    return model"
   ]
  },
  {
   "cell_type": "code",
   "execution_count": 15,
   "metadata": {},
   "outputs": [],
   "source": [
    "def count_all_params(model):\n",
    "    num_params = sum(p.numel() for p in model.parameters())\n",
    "    num_trainable_params = sum(p.numel() for p in model.parameters() if p.requires_grad)\n",
    "    print(f\"Total number of parameters: {num_params}\")\n",
    "    print(f\"Number of trainable parameters: {num_trainable_params}\\n\")\n",
    "    return num_params, num_trainable_params"
   ]
  },
  {
   "cell_type": "markdown",
   "metadata": {},
   "source": [
    "Since I am training models that are not all similar in architecture and for each I have experienced and exclusively selected training parameters — let’s create a training config for the models"
   ]
  },
  {
   "cell_type": "code",
   "execution_count": 16,
   "metadata": {},
   "outputs": [],
   "source": [
    "config_params = {\n",
    "    \"resnet18\": {\n",
    "        \"lr\": 1e-2,\n",
    "        \"momentum\": 0.85,\n",
    "        \"weight_decay\": 5e-4,\n",
    "        \"step_size\": 4,\n",
    "        \"gamma\": 0.1,\n",
    "        \"num_epoch\": 6,\n",
    "        \"blocks\": [\"conv1\", \"bn1\", \"layer1\", \"layer4\"],\n",
    "    },\n",
    "    \"resnet34\": {\n",
    "        \"lr\": 1e-2,\n",
    "        \"momentum\": 0.85,\n",
    "        \"weight_decay\": 5e-4,\n",
    "        \"step_size\": 4,\n",
    "        \"gamma\": 0.1,\n",
    "        \"num_epoch\": 6,\n",
    "        \"blocks\": [\"conv1\", \"bn1\", \"layer1\", \"layer4\"],\n",
    "    },\n",
    "    \"mobilenet_v3_small\": {\n",
    "        \"lr\": 1e-1,\n",
    "        \"momentum\": 0.9,\n",
    "        \"weight_decay\": 5e-3,\n",
    "        \"T_max\": 6,\n",
    "        \"eta_min\": 1e-4,\n",
    "        \"num_epoch\": 6,\n",
    "        \"blocks\": [\n",
    "            \"features.0\",\n",
    "            \"features.1\",\n",
    "            \"features.11\",\n",
    "            \"features.12\",\n",
    "            \"classifier\",\n",
    "        ],\n",
    "    },\n",
    "    \"shufflenet_v2_x1_5\": {\n",
    "        \"lr\": 1e-1,\n",
    "        \"momentum\": 0.9,\n",
    "        \"weight_decay\": 5e-3,\n",
    "        \"step_size\": 4,\n",
    "        \"gamma\": 0.1,\n",
    "        \"num_epoch\": 6,\n",
    "        \"blocks\": [\"conv1\", \"conv5\", \"stage2\", \"stage4\"],\n",
    "    },\n",
    "}"
   ]
  },
  {
   "cell_type": "markdown",
   "metadata": {},
   "source": [
    "### Train and evaluate"
   ]
  },
  {
   "cell_type": "code",
   "execution_count": 17,
   "metadata": {},
   "outputs": [],
   "source": [
    "warnings.filterwarnings(\n",
    "    \"ignore\", category=UserWarning, module=\"torchvision.models._utils\"\n",
    ")"
   ]
  },
  {
   "cell_type": "markdown",
   "metadata": {},
   "source": [
    "__Loss__ and __accuracy__ graphs are updated for each model and each experiment"
   ]
  },
  {
   "cell_type": "code",
   "execution_count": 18,
   "metadata": {},
   "outputs": [],
   "source": [
    "results_frozen = {}\n",
    "results_from_scratch = {}\n",
    "\n",
    "\n",
    "def create_train_params(\n",
    "    model_name, optimizer_params, scheduler_params, num_epoch, phase, blocks\n",
    "):\n",
    "    clear_output(wait=True)\n",
    "    print(f\"{model_name} on {phase} phase\\n\")\n",
    "\n",
    "    try:\n",
    "        model = getattr(models, model_name)(pretrained=True).to(device)\n",
    "    except AttributeError:\n",
    "        print(f\"Model '{model_name}' not found in torchvision.models\")\n",
    "\n",
    "    modify_model(model, phase, blocks)\n",
    "    trainable_params = count_all_params(model)\n",
    "\n",
    "    criterion = nn.CrossEntropyLoss()\n",
    "    optimizer = optim.SGD(model.parameters(), **optimizer_params)\n",
    "\n",
    "    if model_name in [\"mobilenet_v3_small\"]:\n",
    "        scheduler = lr_scheduler.CosineAnnealingLR(optimizer, **scheduler_params)\n",
    "    else:\n",
    "        scheduler = lr_scheduler.StepLR(optimizer, **scheduler_params)\n",
    "\n",
    "    results = train_and_evaluate(\n",
    "        model,\n",
    "        trainloader,\n",
    "        testloader,\n",
    "        criterion,\n",
    "        optimizer,\n",
    "        scheduler,\n",
    "        num_epoch,\n",
    "        model_name,\n",
    "        phase,\n",
    "    )\n",
    "\n",
    "    if phase in [\"first\", \"second\"]:\n",
    "        results_dict = results_frozen if phase == \"first\" else results_from_scratch\n",
    "        results_dict[(model_name, phase)] = [\n",
    "            results,\n",
    "            optimizer,\n",
    "            scheduler,\n",
    "            blocks,\n",
    "            trainable_params,\n",
    "        ]"
   ]
  },
  {
   "cell_type": "markdown",
   "metadata": {},
   "source": [
    "Import of parameters to the training cycle"
   ]
  },
  {
   "cell_type": "code",
   "execution_count": 19,
   "metadata": {},
   "outputs": [],
   "source": [
    "def import_train_params(model_name, phase):\n",
    "    params = config_params.get(model_name, {})\n",
    "    optimizer_params = {\n",
    "        \"lr\": params.get(\"lr\", 1e-1),\n",
    "        \"momentum\": params.get(\"momentum\", 0.9),\n",
    "        \"weight_decay\": params.get(\"weight_decay\", 1e-4),\n",
    "    }\n",
    "    param_names = [\"step_size\", \"gamma\", \"T_max\", \"eta_min\"]\n",
    "    scheduler_params = {\n",
    "        param_name: params[param_name]\n",
    "        for param_name in param_names\n",
    "        if param_name in params\n",
    "    }\n",
    "    num_epoch = params.get(\"num_epoch\", 30)\n",
    "    blocks = params.get(\"blocks\", [])\n",
    "\n",
    "    create_train_params(\n",
    "        model_name, \n",
    "        optimizer_params, \n",
    "        scheduler_params, \n",
    "        num_epoch, \n",
    "        phase, \n",
    "        blocks\n",
    "    )"
   ]
  },
  {
   "cell_type": "markdown",
   "metadata": {},
   "source": [
    "Models and types of transfer learning"
   ]
  },
  {
   "cell_type": "markdown",
   "metadata": {},
   "source": [
    "- `resnet18` and `resnet34` are compared since I heard that they have good accuracy for `cifar10` in particular\n",
    "as well as two smaller models so you don’t have to wait long (also in the comments below are more models that I trained, but did not contribute later)\n",
    "- `batch_size` = 128 — optimal so that `cuda` does not crash due to memory overflow for these 4 models\n",
    "- `num_epoch` = 6 for all models — I was already tired of waiting longer and at one point decided that I would rather qualitatively improve the models and select parameters within this number of epochs than wait more (after all, during these 5-6 epochs an `test_accuracy` of > 95 is achieved)\n",
    "- two types of experiments are described below:\n",
    "\n",
    "    *  _\"first\"_ — the __last layer__ is found in the model through the `find_last_linear` function (even if it is part of a sequence) and all layers except the last one found are frozen in the `modify_model` function through `freeze_except_last` (the last layer also changes `out_features` to `num_classes` in the `modify_model` function by redefining the last layer with a new `out_features` value — the weights in it are initialized via `xavier_uniform_`)\n",
    "    * _\"second\"_ — everything is the same as in _\"first\"_, but also from the `config_params` _\"blocks\"_ of each model a list is taken with layers that will be additionally trained (the head — the __last layers__ of the model, not only the very last, and the end of the tail — the __first conv and first bn layers__ or the first two and last two blocks of models)"
   ]
  },
  {
   "cell_type": "code",
   "execution_count": 20,
   "metadata": {},
   "outputs": [
    {
     "data": {
      "image/png": "[encoded data removed]",
      "text/plain": [
       "<Figure size 1200x400 with 2 Axes>"
      ]
     },
     "metadata": {},
     "output_type": "display_data"
    },
    {
     "name": "stdout",
     "output_type": "stream",
     "text": [
      "Epoch 5/5 (from 0-idx) Epoch Time: 51.31 sec.\n",
      "Train Loss: 0.558  Train Accuracy: 81.37%\n",
      "Test Loss:  0.568  Test Accuracy:  81.54%\n",
      "Total train time: 308.03 sec.\n",
      "Average epoch time: 51.34 sec.\n"
     ]
    }
   ],
   "source": [
    "# \"resnet18\", \"resnet34\", \"resnet50\", \"resnext50_32x4d\", \"mobilenet_v2\", \"shufflenet_v2_x2_0\"\n",
    "model_names = [\n",
    "    \"resnet18\",\n",
    "    \"resnet34\",\n",
    "    \"mobilenet_v3_small\",\n",
    "    \"shufflenet_v2_x1_5\",\n",
    "]\n",
    "types_of_exps = [\"first\", \"second\"]\n",
    "\n",
    "for model_name, phase in itertools.product(model_names, types_of_exps):\n",
    "    import_train_params(model_name, phase)"
   ]
  },
  {
   "cell_type": "code",
   "execution_count": 21,
   "metadata": {},
   "outputs": [],
   "source": [
    "warnings.filterwarnings(\n",
    "    \"default\", category=UserWarning, module=\"torchvision.models._utils\"\n",
    ")"
   ]
  },
  {
   "cell_type": "markdown",
   "metadata": {},
   "source": [
    "Saving results"
   ]
  },
  {
   "cell_type": "code",
   "execution_count": 22,
   "metadata": {},
   "outputs": [],
   "source": [
    "results_frozen_df = pd.DataFrame(results_frozen)\n",
    "results_frozen_df.to_csv(\"pw2_frozen.csv\", index=False)\n",
    "\n",
    "results_from_scratch_df = pd.DataFrame(results_from_scratch)\n",
    "results_from_scratch_df.to_csv(\"pw2_scratch.csv\", index=False)"
   ]
  },
  {
   "cell_type": "code",
   "execution_count": 23,
   "metadata": {},
   "outputs": [
    {
     "name": "stdout",
     "output_type": "stream",
     "text": [
      "                              first\n",
      "model_name                         \n",
      "resnet18            tensor(79.4300)\n",
      "resnet34            tensor(80.3600)\n",
      "mobilenet_v3_small  tensor(83.7500)\n",
      "shufflenet_v2_x1_5  tensor(82.1900)\n",
      "                             second\n",
      "model_name                         \n",
      "resnet18            tensor(95.7100)\n",
      "resnet34            tensor(96.7100)\n",
      "mobilenet_v3_small  tensor(79.9600)\n",
      "shufflenet_v2_x1_5  tensor(81.5400)\n"
     ]
    }
   ],
   "source": [
    "test_accuracy_first = {}\n",
    "test_accuracy_sec = {}\n",
    "\n",
    "for key, value in results_frozen_df.items():\n",
    "    model_name, _ = key\n",
    "    test_accuracy_first[model_name] = value[0][2][-1]  # from create_train_params results_dict\n",
    "first_df = pd.DataFrame(\n",
    "    test_accuracy_first.items(), columns=[\"model_name\", \"first\"]\n",
    ").set_index(\"model_name\")\n",
    "\n",
    "for key, value in results_from_scratch_df.items():\n",
    "    model_name, _ = key\n",
    "    test_accuracy_sec[model_name] = value[0][2][-1]\n",
    "sec_df = pd.DataFrame(\n",
    "    test_accuracy_sec.items(), columns=[\"model_name\", \"second\"]\n",
    ").set_index(\"model_name\")\n",
    "\n",
    "print(first_df)\n",
    "\n",
    "print(sec_df)"
   ]
  },
  {
   "cell_type": "code",
   "execution_count": 24,
   "metadata": {},
   "outputs": [
    {
     "name": "stdout",
     "output_type": "stream",
     "text": [
      "                    first  second\n",
      "model_name                       \n",
      "resnet18            79.43   95.71\n",
      "resnet34            80.36   96.71\n",
      "mobilenet_v3_small  83.75   79.96\n",
      "shufflenet_v2_x1_5  82.19   81.54\n"
     ]
    }
   ],
   "source": [
    "def process_value(value):\n",
    "    return round(float(value.item()), 2)\n",
    "\n",
    "\n",
    "result_df = pd.concat([first_df[\"first\"], sec_df[\"second\"]], axis=1)\n",
    "result_df = result_df.map(process_value)\n",
    "print(result_df)"
   ]
  },
  {
   "cell_type": "markdown",
   "metadata": {},
   "source": [
    "### Results"
   ]
  },
  {
   "cell_type": "code",
   "execution_count": 25,
   "metadata": {},
   "outputs": [
    {
     "name": "stdout",
     "output_type": "stream",
     "text": [
      "model resnet34 in second experiment with 96.71% test_accuracy\n",
      " time of training 490.52 sec.\n",
      " optimizer SGD (\n",
      "Parameter Group 0\n",
      "    dampening: 0\n",
      "    differentiable: False\n",
      "    foreach: None\n",
      "    initial_lr: 0.01\n",
      "    lr: 0.001\n",
      "    maximize: False\n",
      "    momentum: 0.85\n",
      "    nesterov: False\n",
      "    weight_decay: 0.0005\n",
      ")\n",
      " scheduler.step_size 4\n",
      " scheduler.gamma 0.1\n",
      " trainable blocks ['conv1', 'bn1', 'layer1', 'layer4']\n",
      " total num params 21289802\n",
      " trainable params 17115210\n",
      "\n"
     ]
    }
   ],
   "source": [
    "max_element = result_df.values.max()\n",
    "row_idx, col_idx = (result_df.values == max_element).nonzero()\n",
    "\n",
    "row_name = result_df.index[row_idx[0]]\n",
    "col_name = result_df.columns[col_idx[0]]\n",
    "\n",
    "result = results_from_scratch.get((row_name, col_name), None)\n",
    "print(\n",
    "    f\"model {row_name} in {col_name} experiment with {max_element}% test_accuracy\\n\",\n",
    "    f\"time of training {round(result[0][0], 2)} sec.\\n\",\n",
    "    f\"optimizer {result[1]}\\n\",\n",
    "    f\"scheduler.step_size {result[2].step_size}\\n\",\n",
    "    f\"scheduler.gamma {result[2].gamma}\\n\",\n",
    "    f\"trainable blocks {result[3]}\\n\",\n",
    "    f\"total num params {result[4][0]}\\n\",\n",
    "    f\"trainable params {result[4][1]}\\n\",\n",
    ")"
   ]
  },
  {
   "cell_type": "markdown",
   "metadata": {},
   "source": [
    "Let's add `test_accuracy` results from 1 practical work — \"similar_to_AlexNet\""
   ]
  },
  {
   "cell_type": "code",
   "execution_count": 26,
   "metadata": {},
   "outputs": [
    {
     "data": {
      "text/html": [
       "<div>\n",
       "<style scoped>\n",
       "    .dataframe tbody tr th:only-of-type {\n",
       "        vertical-align: middle;\n",
       "    }\n",
       "\n",
       "    .dataframe tbody tr th {\n",
       "        vertical-align: top;\n",
       "    }\n",
       "\n",
       "    .dataframe thead th {\n",
       "        text-align: right;\n",
       "    }\n",
       "</style>\n",
       "<table border=\"1\" class=\"dataframe\">\n",
       "  <thead>\n",
       "    <tr style=\"text-align: right;\">\n",
       "      <th></th>\n",
       "      <th>first</th>\n",
       "      <th>second</th>\n",
       "      <th>0</th>\n",
       "    </tr>\n",
       "  </thead>\n",
       "  <tbody>\n",
       "    <tr>\n",
       "      <th>resnet18</th>\n",
       "      <td>79.43</td>\n",
       "      <td>95.71</td>\n",
       "      <td>NaN</td>\n",
       "    </tr>\n",
       "    <tr>\n",
       "      <th>resnet34</th>\n",
       "      <td>80.36</td>\n",
       "      <td>96.71</td>\n",
       "      <td>NaN</td>\n",
       "    </tr>\n",
       "    <tr>\n",
       "      <th>mobilenet_v3_small</th>\n",
       "      <td>83.75</td>\n",
       "      <td>79.96</td>\n",
       "      <td>NaN</td>\n",
       "    </tr>\n",
       "    <tr>\n",
       "      <th>shufflenet_v2_x1_5</th>\n",
       "      <td>82.19</td>\n",
       "      <td>81.54</td>\n",
       "      <td>NaN</td>\n",
       "    </tr>\n",
       "    <tr>\n",
       "      <th>similar_to_AlexNet</th>\n",
       "      <td>NaN</td>\n",
       "      <td>NaN</td>\n",
       "      <td>89.68</td>\n",
       "    </tr>\n",
       "  </tbody>\n",
       "</table>\n",
       "</div>"
      ],
      "text/plain": [
       "                    first  second      0\n",
       "resnet18            79.43   95.71    NaN\n",
       "resnet34            80.36   96.71    NaN\n",
       "mobilenet_v3_small  83.75   79.96    NaN\n",
       "shufflenet_v2_x1_5  82.19   81.54    NaN\n",
       "similar_to_AlexNet    NaN     NaN  89.68"
      ]
     },
     "execution_count": 26,
     "metadata": {},
     "output_type": "execute_result"
    }
   ],
   "source": [
    "pw1_results = pd.read_csv(\"pw1_results.csv\")\n",
    "pw1_results = pw1_results.iloc[1:]\n",
    "pw1_results = pw1_results.rename(index={pw1_results.index[-1]: \"similar_to_AlexNet\"})\n",
    "all_results = pd.concat([result_df, pw1_results], axis=0)\n",
    "all_results"
   ]
  },
  {
   "cell_type": "code",
   "execution_count": 27,
   "metadata": {},
   "outputs": [
    {
     "data": {
      "text/html": [
       "<div>\n",
       "<style scoped>\n",
       "    .dataframe tbody tr th:only-of-type {\n",
       "        vertical-align: middle;\n",
       "    }\n",
       "\n",
       "    .dataframe tbody tr th {\n",
       "        vertical-align: top;\n",
       "    }\n",
       "\n",
       "    .dataframe thead th {\n",
       "        text-align: right;\n",
       "    }\n",
       "</style>\n",
       "<table border=\"1\" class=\"dataframe\">\n",
       "  <thead>\n",
       "    <tr style=\"text-align: right;\">\n",
       "      <th></th>\n",
       "      <th>model</th>\n",
       "      <th>experiment</th>\n",
       "      <th>accuracy</th>\n",
       "    </tr>\n",
       "  </thead>\n",
       "  <tbody>\n",
       "    <tr>\n",
       "      <th>0</th>\n",
       "      <td>resnet18</td>\n",
       "      <td>first</td>\n",
       "      <td>79.43</td>\n",
       "    </tr>\n",
       "    <tr>\n",
       "      <th>1</th>\n",
       "      <td>resnet34</td>\n",
       "      <td>first</td>\n",
       "      <td>80.36</td>\n",
       "    </tr>\n",
       "    <tr>\n",
       "      <th>2</th>\n",
       "      <td>mobilenet_v3_small</td>\n",
       "      <td>first</td>\n",
       "      <td>83.75</td>\n",
       "    </tr>\n",
       "    <tr>\n",
       "      <th>3</th>\n",
       "      <td>shufflenet_v2_x1_5</td>\n",
       "      <td>first</td>\n",
       "      <td>82.19</td>\n",
       "    </tr>\n",
       "    <tr>\n",
       "      <th>4</th>\n",
       "      <td>resnet18</td>\n",
       "      <td>second</td>\n",
       "      <td>95.71</td>\n",
       "    </tr>\n",
       "    <tr>\n",
       "      <th>5</th>\n",
       "      <td>resnet34</td>\n",
       "      <td>second</td>\n",
       "      <td>96.71</td>\n",
       "    </tr>\n",
       "    <tr>\n",
       "      <th>6</th>\n",
       "      <td>mobilenet_v3_small</td>\n",
       "      <td>second</td>\n",
       "      <td>79.96</td>\n",
       "    </tr>\n",
       "    <tr>\n",
       "      <th>7</th>\n",
       "      <td>shufflenet_v2_x1_5</td>\n",
       "      <td>second</td>\n",
       "      <td>81.54</td>\n",
       "    </tr>\n",
       "    <tr>\n",
       "      <th>8</th>\n",
       "      <td>similar_to_AlexNet</td>\n",
       "      <td>0</td>\n",
       "      <td>89.68</td>\n",
       "    </tr>\n",
       "  </tbody>\n",
       "</table>\n",
       "</div>"
      ],
      "text/plain": [
       "                model experiment  accuracy\n",
       "0            resnet18      first     79.43\n",
       "1            resnet34      first     80.36\n",
       "2  mobilenet_v3_small      first     83.75\n",
       "3  shufflenet_v2_x1_5      first     82.19\n",
       "4            resnet18     second     95.71\n",
       "5            resnet34     second     96.71\n",
       "6  mobilenet_v3_small     second     79.96\n",
       "7  shufflenet_v2_x1_5     second     81.54\n",
       "8  similar_to_AlexNet          0     89.68"
      ]
     },
     "execution_count": 27,
     "metadata": {},
     "output_type": "execute_result"
    }
   ],
   "source": [
    "pw1_results = pw1_results.rename(index={pw1_results.index[-1]: \"similar_to_AlexNet\"})\n",
    "melted_result_df = result_df.melt(var_name=\"experiment\", value_name=\"accuracy\", ignore_index=False)\n",
    "melted_pw1_results = pw1_results.melt(var_name=\"experiment\", value_name=\"accuracy\", ignore_index=False)\n",
    "all_results = pd.concat([melted_result_df, melted_pw1_results])\n",
    "all_results.reset_index(inplace=True, names=\"model\")\n",
    "all_results"
   ]
  },
  {
   "cell_type": "markdown",
   "metadata": {},
   "source": [
    "Comparative histogram of classification accuracy results"
   ]
  },
  {
   "cell_type": "code",
   "execution_count": 28,
   "metadata": {},
   "outputs": [
    {
     "data": {
      "image/png": "[encoded data removed]",
      "text/plain": [
       "<Figure size 1000x600 with 1 Axes>"
      ]
     },
     "metadata": {},
     "output_type": "display_data"
    }
   ],
   "source": [
    "similar_to_AlexNet_data = all_results[all_results[\"model\"] == \"similar_to_AlexNet\"]\n",
    "filtered_results = all_results[all_results[\"model\"] != \"similar_to_AlexNet\"]\n",
    "\n",
    "plt.figure(figsize=(10, 6))\n",
    "\n",
    "sns.barplot(\n",
    "    data=filtered_results,\n",
    "    x=\"model\",\n",
    "    y=\"accuracy\",\n",
    "    hue=\"experiment\",\n",
    "    palette=sns.color_palette(\"Set2\")[:2],\n",
    "    gap=0.05,\n",
    ")\n",
    "sns.barplot(\n",
    "    data=similar_to_AlexNet_data,\n",
    "    x=\"model\",\n",
    "    y=\"accuracy\",\n",
    "    color=sns.color_palette(\"Set2\")[3],\n",
    "    width=0.4,\n",
    ")\n",
    "\n",
    "plt.title(\"Comparison of models\")\n",
    "plt.ylim(0, 105)\n",
    "plt.xlabel(\"\")\n",
    "ax = plt.gca()\n",
    "plt.legend()\n",
    "\n",
    "for p in ax.patches:\n",
    "    ax.annotate(\n",
    "        f\"{p.get_height():.2f}\",\n",
    "        (p.get_x() + p.get_width() / 2.0, p.get_height() - 7),\n",
    "        ha=\"center\",\n",
    "        va=\"center\",\n",
    "        fontsize=10,\n",
    "        color=\"snow\",\n",
    "        xytext=(0, 10),\n",
    "        textcoords=\"offset points\",\n",
    "    )\n",
    "plt.show()"
   ]
  },
  {
   "cell_type": "code",
   "execution_count": null,
   "metadata": {},
   "outputs": [],
   "source": []
  }
 ],
 "metadata": {
  "kernelspec": {
   "display_name": "dl",
   "language": "python",
   "name": "python3"
  },
  "language_info": {
   "codemirror_mode": {
    "name": "ipython",
    "version": 3
   },
   "file_extension": ".py",
   "mimetype": "text/x-python",
   "name": "python",
   "nbconvert_exporter": "python",
   "pygments_lexer": "ipython3",
   "version": "3.9.18"
  }
 },
 "nbformat": 4,
 "nbformat_minor": 2
}
