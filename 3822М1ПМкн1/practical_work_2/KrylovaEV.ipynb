{
  "cells": [
    {
      "cell_type": "code",
      "execution_count": 1,
      "metadata": {
        "colab": {
          "base_uri": "https://localhost:8080/"
        },
        "id": "hMcWkDLE1ed_",
        "outputId": "6c4ad156-c263-4384-99e2-561b2b5b1112"
      },
      "outputs": [
        {
          "output_type": "stream",
          "name": "stdout",
          "text": [
            "Collecting torchview\n",
            "  Downloading torchview-0.2.6-py3-none-any.whl (25 kB)\n",
            "Installing collected packages: torchview\n",
            "Successfully installed torchview-0.2.6\n",
            "Requirement already satisfied: graphviz in /usr/local/lib/python3.10/dist-packages (0.20.1)\n"
          ]
        }
      ],
      "source": [
        "!pip install torchview\n",
        "!pip install graphviz\n",
        "import torch\n",
        "import torchvision\n",
        "import torchvision.datasets\n",
        "import torchvision.transforms\n",
        "import torch.utils.data\n",
        "import torch.nn\n",
        "import math\n",
        "from torchvision import models as torch_model\n",
        "import numpy as np\n",
        "import torch.nn as nn\n",
        "import graphviz\n",
        "from torchview import draw_graph\n",
        "import os\n",
        "from matplotlib import pyplot as plot\n",
        "import time"
      ]
    },
    {
      "cell_type": "code",
      "execution_count": 63,
      "metadata": {
        "id": "iCswgi0d1gEA"
      },
      "outputs": [],
      "source": [
        "batch_size = 64\n",
        "epochs = 20\n",
        "num_classes = 10\n",
        "dir_name = os.getcwd()\n",
        "device = torch.device(\"cuda:0\" if torch.cuda.is_available() else \"cpu\")"
      ]
    },
    {
      "cell_type": "code",
      "execution_count": 3,
      "metadata": {
        "colab": {
          "base_uri": "https://localhost:8080/"
        },
        "id": "Bo1k35yS3zCu",
        "outputId": "a146a56e-c23e-45b4-e6d3-17d3f3c1d8ec"
      },
      "outputs": [
        {
          "output_type": "stream",
          "name": "stdout",
          "text": [
            "Downloading https://www.cs.toronto.edu/~kriz/cifar-10-python.tar.gz to /content/cifar-10-python.tar.gz\n"
          ]
        },
        {
          "output_type": "stream",
          "name": "stderr",
          "text": [
            "100%|██████████| 170498071/170498071 [00:04<00:00, 39221357.76it/s]\n"
          ]
        },
        {
          "output_type": "stream",
          "name": "stdout",
          "text": [
            "Extracting /content/cifar-10-python.tar.gz to /content\n",
            "Files already downloaded and verified\n"
          ]
        }
      ],
      "source": [
        "train_dataset = torchvision.datasets.CIFAR10(\n",
        "    root = dir_name, train = True, download = True,\n",
        "    transform = torchvision.transforms.ToTensor()\n",
        ")\n",
        "test_dataset = torchvision.datasets.CIFAR10(\n",
        "    root = dir_name, train = False, download = True,\n",
        "    transform = torchvision.transforms.ToTensor()\n",
        ")\n",
        "\n",
        "train_data_loader = torch.utils.data.DataLoader(\n",
        "    train_dataset, batch_size = batch_size, shuffle = True\n",
        ")\n",
        "test_data_loader = torch.utils.data.DataLoader(\n",
        "    test_dataset, batch_size = batch_size, shuffle = False\n",
        ")"
      ]
    },
    {
      "cell_type": "code",
      "execution_count": 4,
      "metadata": {
        "id": "6Nmx36pnhrv3"
      },
      "outputs": [],
      "source": [
        "means = []\n",
        "stdevs = []\n",
        "for X, _ in train_data_loader:\n",
        "    # Dimensions 0,2,3 are respectively the batch, height and width dimensions\n",
        "    means.append(X.mean(dim=(0,2,3)))\n",
        "    stdevs.append(X.std(dim=(0,2,3)))\n",
        "\n",
        "mean = torch.stack(means, dim=0).mean(dim=0)\n",
        "stdev = torch.stack(stdevs, dim=0).mean(dim=0)"
      ]
    },
    {
      "cell_type": "code",
      "execution_count": 5,
      "metadata": {
        "id": "gY1OzNLGiWbv"
      },
      "outputs": [],
      "source": [
        "train_transforms = torchvision.transforms.Compose([\n",
        "        torchvision.transforms.Resize((224,224)),\n",
        "        torchvision.transforms.AutoAugment(policy=torchvision.transforms.AutoAugmentPolicy.CIFAR10),\n",
        "        torchvision.transforms.ToTensor(),\n",
        "        torchvision.transforms.Normalize(mean, stdev)\n",
        "    ])\n",
        "\n",
        "valid_transforms = torchvision.transforms.Compose([\n",
        "        torchvision.transforms.Resize((224,224)),\n",
        "        torchvision.transforms.ToTensor(),\n",
        "        torchvision.transforms.Normalize(mean, stdev)\n",
        "    ])"
      ]
    },
    {
      "cell_type": "code",
      "execution_count": 6,
      "metadata": {
        "id": "4K-LTy471wc2"
      },
      "outputs": [],
      "source": [
        "import time\n",
        "\n",
        "def train(net, train_dataloader, criterion, optimizer, scheduler=None, epochs=10, checkpoint_epochs=10):\n",
        "    start = time.time()\n",
        "    print(f'Training for {epochs} epochs on {device}')\n",
        "\n",
        "    for epoch in range(1,epochs+1):\n",
        "        print(f\"Epoch {epoch}/{epochs}\", end=\" \")\n",
        "\n",
        "        net.train()  # put network in train mode for Dropout and Batch Normalization\n",
        "        train_loss = torch.tensor(0., device=device)  # loss and accuracy tensors are on the GPU to avoid data transfers\n",
        "        train_accuracy = torch.tensor(0., device=device)\n",
        "        for X, y in train_dataloader:\n",
        "            X = X.to(device)\n",
        "            y = y.to(device)\n",
        "            preds = net(X)\n",
        "            loss = criterion(preds, y)\n",
        "\n",
        "            optimizer.zero_grad()\n",
        "            loss.backward()\n",
        "            optimizer.step()\n",
        "\n",
        "            with torch.no_grad():\n",
        "                train_loss += loss * train_dataloader.batch_size\n",
        "                train_accuracy += (torch.argmax(preds, dim=1) == y).sum()\n",
        "\n",
        "        if scheduler is not None:\n",
        "            scheduler.step()\n",
        "\n",
        "        print(f'Training loss: {train_loss/len(train_dataloader.dataset):.2f}; Training accuracy: {100*train_accuracy/len(train_dataloader.dataset):.2f}')\n",
        "\n",
        "    end = time.time()\n",
        "    print(f'Total training time: {end-start:.1f} seconds')\n",
        "    return net"
      ]
    },
    {
      "cell_type": "code",
      "execution_count": 16,
      "metadata": {
        "id": "34A2wkuQi3VU"
      },
      "outputs": [],
      "source": [
        "def get_resnet34(conf):\n",
        "  weights=torchvision.models.ResNet34_Weights.DEFAULT.transforms()\n",
        "  resnet = torchvision.models.resnet34(weights=weights)\n",
        "  resnet.to(device)\n",
        "  if conf == 1:\n",
        "    features_count = resnet.fc.in_features\n",
        "    resnet.fc = torch.nn.Linear(features_count, 10)\n",
        "  else:\n",
        "    for prm_of_model in resnet.parameters():\n",
        "      prm_of_model.requires_grad = False\n",
        "    features_count = resnet.fc.in_features\n",
        "    resnet.fc = torch.nn.Sequential(\n",
        "    torch.nn.Linear(features_count, features_count//2),\n",
        "    torch.nn.ReLU(),\n",
        "    torch.nn.Linear(features_count//2, 10),\n",
        "    )\n",
        "  return resnet\n",
        "\n",
        "lr = 0.01\n",
        "\n",
        "# Standard CrossEntropy Loss for multi-class classification problems\n",
        "criterion = torch.nn.CrossEntropyLoss()"
      ]
    },
    {
      "cell_type": "code",
      "source": [
        "# FIRST RESNET18\n",
        "\n",
        "net = get_resnet34(1).to(device)\n",
        "params_1x = [param for name, param in net.named_parameters() if 'fc' not in str(name)]\n",
        "optimizer = torch.optim.SGD([{'params':params_1x}, {'params': net.fc.parameters(), 'lr': lr*10}], lr=lr)\n",
        "net = train(net, train_data_loader, criterion, optimizer, None, 10, device)"
      ],
      "metadata": {
        "colab": {
          "base_uri": "https://localhost:8080/"
        },
        "id": "2pzvTrnbdgix",
        "outputId": "487c19cf-da3e-483d-b663-df2acc0b1a30"
      },
      "execution_count": 14,
      "outputs": [
        {
          "output_type": "stream",
          "name": "stdout",
          "text": [
            "Training for 10 epochs on cuda:0\n",
            "Epoch 1/10 Training loss: 1.04; Training accuracy: 64.78\n",
            "Epoch 2/10 Training loss: 0.61; Training accuracy: 79.20\n",
            "Epoch 3/10 Training loss: 0.45; Training accuracy: 84.42\n",
            "Epoch 4/10 Training loss: 0.34; Training accuracy: 88.20\n",
            "Epoch 5/10 Training loss: 0.26; Training accuracy: 90.89\n",
            "Epoch 6/10 Training loss: 0.27; Training accuracy: 90.70\n",
            "Epoch 7/10 Training loss: 0.16; Training accuracy: 94.48\n",
            "Epoch 8/10 Training loss: 0.12; Training accuracy: 95.81\n",
            "Epoch 9/10 Training loss: 0.09; Training accuracy: 96.86\n",
            "Epoch 10/10 Training loss: 0.07; Training accuracy: 97.47\n",
            "Total training time: 208.5 seconds\n"
          ]
        }
      ]
    },
    {
      "cell_type": "code",
      "source": [
        "# SECOND RESNET18\n",
        "\n",
        "net2 = get_resnet34(2).to(device)\n",
        "params_1x = [param for name, param in net2.named_parameters() if 'fc' not in str(name)]\n",
        "optimizer = torch.optim.SGD([{'params':params_1x}, {'params': net2.fc.parameters(), 'lr': lr*10}], lr=lr)\n",
        "net2 = train(net2, train_data_loader, criterion, optimizer, None, 10, device)"
      ],
      "metadata": {
        "colab": {
          "base_uri": "https://localhost:8080/"
        },
        "id": "VXPw12yPdOC0",
        "outputId": "4585b397-ae76-4254-e5d5-9e7605682915"
      },
      "execution_count": 17,
      "outputs": [
        {
          "output_type": "stream",
          "name": "stdout",
          "text": [
            "Training for 10 epochs on cuda:0\n",
            "Epoch 1/10 Training loss: 1.69; Training accuracy: 39.98\n",
            "Epoch 2/10 Training loss: 1.53; Training accuracy: 46.03\n",
            "Epoch 3/10 Training loss: 1.47; Training accuracy: 47.80\n",
            "Epoch 4/10 Training loss: 1.44; Training accuracy: 49.14\n",
            "Epoch 5/10 Training loss: 1.40; Training accuracy: 50.35\n",
            "Epoch 6/10 Training loss: 1.37; Training accuracy: 51.32\n",
            "Epoch 7/10 Training loss: 1.36; Training accuracy: 52.36\n",
            "Epoch 8/10 Training loss: 1.34; Training accuracy: 52.86\n",
            "Epoch 9/10 Training loss: 1.32; Training accuracy: 53.55\n",
            "Epoch 10/10 Training loss: 1.31; Training accuracy: 54.18\n",
            "Total training time: 130.3 seconds\n"
          ]
        }
      ]
    },
    {
      "cell_type": "code",
      "execution_count": 19,
      "metadata": {
        "id": "hkokxah0U8D7"
      },
      "outputs": [],
      "source": [
        "def get_resnet50(conf):\n",
        "  weights=torchvision.models.ResNet50_Weights.DEFAULT.transforms()\n",
        "  resnet = torchvision.models.resnet50(weights=weights)\n",
        "  resnet.to(device)\n",
        "  if conf == 1:\n",
        "    features_count = resnet.fc.in_features\n",
        "    resnet.fc = torch.nn.Linear(features_count, 10)\n",
        "  else:\n",
        "    for prm_of_model in resnet.parameters():\n",
        "      prm_of_model.requires_grad = False\n",
        "    features_count = resnet.fc.in_features\n",
        "    resnet.fc = torch.nn.Sequential(\n",
        "    torch.nn.Linear(features_count, features_count//2),\n",
        "    torch.nn.ReLU(),\n",
        "    torch.nn.Linear(features_count//2, 10),\n",
        "    )\n",
        "  return resnet"
      ]
    },
    {
      "cell_type": "code",
      "execution_count": 20,
      "metadata": {
        "colab": {
          "base_uri": "https://localhost:8080/"
        },
        "id": "rzCTdOYBVjP_",
        "outputId": "11ccc4c9-7a4b-4e6e-c920-ca7f1ef1a198"
      },
      "outputs": [
        {
          "output_type": "stream",
          "name": "stderr",
          "text": [
            "/usr/local/lib/python3.10/dist-packages/torchvision/models/_utils.py:223: UserWarning: Arguments other than a weight enum or `None` for 'weights' are deprecated since 0.13 and may be removed in the future. The current behavior is equivalent to passing `weights=ResNet50_Weights.IMAGENET1K_V1`. You can also use `weights=ResNet50_Weights.DEFAULT` to get the most up-to-date weights.\n",
            "  warnings.warn(msg)\n",
            "Downloading: \"https://download.pytorch.org/models/resnet50-0676ba61.pth\" to /root/.cache/torch/hub/checkpoints/resnet50-0676ba61.pth\n",
            "100%|██████████| 97.8M/97.8M [00:01<00:00, 77.7MB/s]\n"
          ]
        },
        {
          "output_type": "stream",
          "name": "stdout",
          "text": [
            "Training for 10 epochs on cuda:0\n",
            "Epoch 1/10 Training loss: 1.63; Training accuracy: 49.29\n",
            "Epoch 2/10 Training loss: 0.83; Training accuracy: 70.77\n",
            "Epoch 3/10 Training loss: 0.71; Training accuracy: 75.31\n",
            "Epoch 4/10 Training loss: 0.51; Training accuracy: 82.14\n",
            "Epoch 5/10 Training loss: 0.40; Training accuracy: 86.11\n",
            "Epoch 6/10 Training loss: 0.30; Training accuracy: 89.59\n",
            "Epoch 7/10 Training loss: 0.23; Training accuracy: 92.05\n",
            "Epoch 8/10 Training loss: 0.17; Training accuracy: 94.01\n",
            "Epoch 9/10 Training loss: 0.17; Training accuracy: 94.01\n",
            "Epoch 10/10 Training loss: 0.11; Training accuracy: 96.35\n",
            "Total training time: 276.0 seconds\n"
          ]
        }
      ],
      "source": [
        "# FIRST RESNET50\n",
        "\n",
        "net50 = get_resnet50(1).to(device)\n",
        "params_1x = [param for name, param in net50.named_parameters() if 'fc' not in str(name)]\n",
        "optimizer = torch.optim.SGD([{'params':params_1x}, {'params': net50.fc.parameters(), 'lr': lr*10}], lr=lr)\n",
        "net50 = train(net50, train_data_loader, criterion, optimizer, None, 10, device)"
      ]
    },
    {
      "cell_type": "code",
      "source": [
        "# SECOND RESNET50\n",
        "\n",
        "net502 = get_resnet50(2).to(device)\n",
        "params_1x = [param for name, param in net502.named_parameters() if 'fc' not in str(name)]\n",
        "optimizer = torch.optim.SGD([{'params':params_1x}, {'params': net502.fc.parameters(), 'lr': lr*10}], lr=lr)\n",
        "net502 = train(net502, train_data_loader, criterion, optimizer, None, 10, device)"
      ],
      "metadata": {
        "colab": {
          "base_uri": "https://localhost:8080/"
        },
        "id": "HrBUBGITfDoh",
        "outputId": "dcb8b068-d0c9-4180-cec2-44197dfb46a4"
      },
      "execution_count": 22,
      "outputs": [
        {
          "output_type": "stream",
          "name": "stdout",
          "text": [
            "Training for 10 epochs on cuda:0\n",
            "Epoch 1/10 Training loss: 1.67; Training accuracy: 40.48\n",
            "Epoch 2/10 Training loss: 1.48; Training accuracy: 47.74\n",
            "Epoch 3/10 Training loss: 1.40; Training accuracy: 50.59\n",
            "Epoch 4/10 Training loss: 1.35; Training accuracy: 52.49\n",
            "Epoch 5/10 Training loss: 1.30; Training accuracy: 54.25\n",
            "Epoch 6/10 Training loss: 1.26; Training accuracy: 55.73\n",
            "Epoch 7/10 Training loss: 1.23; Training accuracy: 56.62\n",
            "Epoch 8/10 Training loss: 1.20; Training accuracy: 57.89\n",
            "Epoch 9/10 Training loss: 1.17; Training accuracy: 59.07\n",
            "Epoch 10/10 Training loss: 1.15; Training accuracy: 59.81\n",
            "Total training time: 160.1 seconds\n"
          ]
        }
      ]
    },
    {
      "cell_type": "code",
      "execution_count": 33,
      "metadata": {
        "id": "JBOHfJ2lVEZm"
      },
      "outputs": [],
      "source": [
        "def get_vgg(conf):\n",
        "  vgg = torchvision.models.vgg19(weights=torchvision.models.VGG19_Weights.DEFAULT)\n",
        "  vgg = vgg.to(device)\n",
        "  if conf == 1:\n",
        "    vgg.classifier = torch.nn.Linear(25088, 10)\n",
        "  else:\n",
        "    for prm_of_model in vgg.parameters():\n",
        "      prm_of_model.requires_grad = False\n",
        "    number_features = vgg.classifier[6].in_features\n",
        "    features = list(vgg.classifier.children())[:-1] # Remove last layer\n",
        "    features.extend([torch.nn.Linear(number_features, 10)])\n",
        "    vgg.classifier = torch.nn.Sequential(*features)\n",
        "  return vgg"
      ]
    },
    {
      "cell_type": "code",
      "execution_count": 27,
      "metadata": {
        "colab": {
          "base_uri": "https://localhost:8080/"
        },
        "id": "62LJG5uDVz0v",
        "outputId": "30efb790-4843-4432-eabf-be0eecbf7176"
      },
      "outputs": [
        {
          "output_type": "stream",
          "name": "stdout",
          "text": [
            "Training for 10 epochs on cuda:0\n",
            "Epoch 1/10 Training loss: 0.86; Training accuracy: 71.19\n",
            "Epoch 2/10 Training loss: 0.46; Training accuracy: 84.91\n",
            "Epoch 3/10 Training loss: 0.33; Training accuracy: 89.14\n",
            "Epoch 4/10 Training loss: 0.24; Training accuracy: 91.88\n",
            "Epoch 5/10 Training loss: 0.18; Training accuracy: 93.92\n",
            "Epoch 6/10 Training loss: 0.15; Training accuracy: 95.07\n",
            "Epoch 7/10 Training loss: 0.12; Training accuracy: 96.21\n",
            "Epoch 8/10 Training loss: 0.10; Training accuracy: 96.66\n",
            "Epoch 9/10 Training loss: 0.08; Training accuracy: 97.42\n",
            "Epoch 10/10 Training loss: 0.07; Training accuracy: 97.85\n",
            "Total training time: 285.7 seconds\n"
          ]
        }
      ],
      "source": [
        "netvgg = get_vgg(1).to(device)\n",
        "optimizer = torch.optim.SGD(netvgg.parameters(), lr=lr, momentum=0.9)\n",
        "netvgg = train(netvgg, train_data_loader, criterion, optimizer, None, 10, device)"
      ]
    },
    {
      "cell_type": "code",
      "source": [
        "netvgg2 = get_vgg(2).to(device)\n",
        "optimizer = torch.optim.SGD(netvgg2.parameters(), lr=lr, momentum=0.9)\n",
        "netvgg2 = train(netvgg2, train_data_loader, criterion, optimizer, None, 10, device)"
      ],
      "metadata": {
        "colab": {
          "base_uri": "https://localhost:8080/"
        },
        "id": "9Rm0veWkiJ1v",
        "outputId": "628fc0eb-a321-4320-cc6a-e6cf73949db0"
      },
      "execution_count": 66,
      "outputs": [
        {
          "output_type": "stream",
          "name": "stdout",
          "text": [
            "Training for 10 epochs on cuda:0\n",
            "Epoch 1/10 Training loss: 3.25; Training accuracy: 39.52\n",
            "Epoch 2/10 Training loss: 3.54; Training accuracy: 41.18\n",
            "Epoch 3/10 Training loss: 3.62; Training accuracy: 41.50\n",
            "Epoch 4/10 Training loss: 3.64; Training accuracy: 41.93\n",
            "Epoch 5/10 Training loss: 3.62; Training accuracy: 42.63\n",
            "Epoch 6/10 Training loss: 3.63; Training accuracy: 42.50\n",
            "Epoch 7/10 Training loss: 3.61; Training accuracy: 42.39\n",
            "Epoch 8/10 Training loss: 3.61; Training accuracy: 42.61\n",
            "Epoch 9/10 Training loss: 3.63; Training accuracy: 42.68\n",
            "Epoch 10/10 Training loss: 3.65; Training accuracy: 42.66\n",
            "Total training time: 150.2 seconds\n"
          ]
        }
      ]
    },
    {
      "cell_type": "code",
      "execution_count": 67,
      "metadata": {
        "id": "cfbfThAEWbOZ"
      },
      "outputs": [],
      "source": [
        "def get_googlenet(conf):\n",
        "  weights=torchvision.models.GoogLeNet_Weights.DEFAULT\n",
        "  googlenet = torchvision.models.googlenet(weights=weights)\n",
        "  googlenet.to(device)\n",
        "  if conf == 1:\n",
        "    features_count = googlenet.fc.in_features\n",
        "    googlenet.fc = torch.nn.Linear(features_count, 10)\n",
        "  else:\n",
        "    for prm_of_model in googlenet.parameters():\n",
        "      prm_of_model.requires_grad = False\n",
        "    features_count = googlenet.fc.in_features\n",
        "    googlenet.fc = torch.nn.Sequential(\n",
        "    torch.nn.Linear(features_count, features_count//2),\n",
        "    torch.nn.ReLU(),\n",
        "    torch.nn.Linear(features_count//2, 10),\n",
        "    )\n",
        "  return googlenet"
      ]
    },
    {
      "cell_type": "code",
      "execution_count": 69,
      "metadata": {
        "colab": {
          "base_uri": "https://localhost:8080/"
        },
        "id": "acc18kZiXug_",
        "outputId": "df5baf1c-09f0-4398-dd16-5addc29127b6"
      },
      "outputs": [
        {
          "output_type": "stream",
          "name": "stdout",
          "text": [
            "Training for 10 epochs on cuda:0\n",
            "Epoch 1/10 Training loss: 1.05; Training accuracy: 64.16\n",
            "Epoch 2/10 Training loss: 0.64; Training accuracy: 78.23\n",
            "Epoch 3/10 Training loss: 0.49; Training accuracy: 83.42\n",
            "Epoch 4/10 Training loss: 0.39; Training accuracy: 86.59\n",
            "Epoch 5/10 Training loss: 0.32; Training accuracy: 88.95\n",
            "Epoch 6/10 Training loss: 0.27; Training accuracy: 90.71\n",
            "Epoch 7/10 Training loss: 0.22; Training accuracy: 92.54\n",
            "Epoch 8/10 Training loss: 0.20; Training accuracy: 93.26\n",
            "Epoch 9/10 Training loss: 0.17; Training accuracy: 94.19\n",
            "Epoch 10/10 Training loss: 0.14; Training accuracy: 95.11\n",
            "Total training time: 303.7 seconds\n"
          ]
        }
      ],
      "source": [
        "googlenet = get_googlenet(1).to(device)\n",
        "optimizer = torch.optim.SGD(googlenet.parameters(), lr=lr, momentum=0.9)\n",
        "googlenet = train(googlenet, train_data_loader, criterion, optimizer, None, 10, device)"
      ]
    },
    {
      "cell_type": "code",
      "source": [
        "googlenet2 = get_googlenet(2).to(device)\n",
        "optimizer = torch.optim.SGD(googlenet2.parameters(), lr=lr, momentum=0.9)\n",
        "googlenet2 = train(googlenet2, train_data_loader, criterion, optimizer, None, 10, device)"
      ],
      "metadata": {
        "colab": {
          "base_uri": "https://localhost:8080/"
        },
        "id": "0pnqa0dOp5VZ",
        "outputId": "a5a5b27e-f385-4871-fccc-fd81a13324c1"
      },
      "execution_count": 70,
      "outputs": [
        {
          "output_type": "stream",
          "name": "stdout",
          "text": [
            "Training for 10 epochs on cuda:0\n",
            "Epoch 1/10 Training loss: 1.90; Training accuracy: 32.61\n",
            "Epoch 2/10 Training loss: 1.78; Training accuracy: 37.35\n",
            "Epoch 3/10 Training loss: 1.73; Training accuracy: 38.76\n",
            "Epoch 4/10 Training loss: 1.70; Training accuracy: 39.94\n",
            "Epoch 5/10 Training loss: 1.67; Training accuracy: 41.07\n",
            "Epoch 6/10 Training loss: 1.64; Training accuracy: 41.76\n",
            "Epoch 7/10 Training loss: 1.63; Training accuracy: 42.50\n",
            "Epoch 8/10 Training loss: 1.60; Training accuracy: 43.44\n",
            "Epoch 9/10 Training loss: 1.59; Training accuracy: 43.97\n",
            "Epoch 10/10 Training loss: 1.57; Training accuracy: 44.71\n",
            "Total training time: 180.7 seconds\n"
          ]
        }
      ]
    },
    {
      "cell_type": "code",
      "execution_count": 74,
      "metadata": {
        "id": "Gyo05qSUmkVA"
      },
      "outputs": [],
      "source": [
        "def get_accuracy(predictions, Y):\n",
        "    return np.sum(predictions == Y) / Y.size"
      ]
    },
    {
      "cell_type": "code",
      "source": [
        "nets = [\"resnet34_one\", \"resnet34_two\",\"resnet50_one\",\"resnet50_two\", \"googlenet_one\", \"googlenet_two\",\"vgg_one\",\"vgg_two\" ]\n",
        "nets_acc = []"
      ],
      "metadata": {
        "id": "D4vdUu8BqZvb"
      },
      "execution_count": 75,
      "outputs": []
    },
    {
      "cell_type": "code",
      "execution_count": 76,
      "metadata": {
        "colab": {
          "base_uri": "https://localhost:8080/"
        },
        "id": "PeidBYeMkQ3m",
        "outputId": "f2aa1d38-7b0d-4b8e-b33d-b93ceff7b4cf"
      },
      "outputs": [
        {
          "output_type": "stream",
          "name": "stdout",
          "text": [
            "Average accuracy: 0.90625\n",
            "Average accuracy: 0.59375\n"
          ]
        }
      ],
      "source": [
        "acc = -1\n",
        "i = 0\n",
        "with torch.no_grad():\n",
        "    for X, Y in test_data_loader:\n",
        "        i += 1\n",
        "        X = X.to(device)\n",
        "        pred = net(X).argmax(dim=1).type(torch.int32).cpu().numpy()\n",
        "        acc = max(acc, get_accuracy(pred, Y.numpy()))\n",
        "nets_acc.append(acc)\n",
        "print(f'Average accuracy: {acc}')\n",
        "\n",
        "acc = -1\n",
        "i = 0\n",
        "with torch.no_grad():\n",
        "    for X, Y in test_data_loader:\n",
        "        i += 1\n",
        "        X = X.to(device)\n",
        "        pred = net2(X).argmax(dim=1).type(torch.int32).cpu().numpy()\n",
        "        acc = max(acc, get_accuracy(pred, Y.numpy()))\n",
        "nets_acc.append(acc)\n",
        "print(f'Average accuracy: {acc}')"
      ]
    },
    {
      "cell_type": "code",
      "source": [
        "acc = -1\n",
        "i = 0\n",
        "with torch.no_grad():\n",
        "    for X, Y in test_data_loader:\n",
        "        i += 1\n",
        "        X = X.to(device)\n",
        "        pred = net50(X).argmax(dim=1).type(torch.int32).cpu().numpy()\n",
        "        acc = max(acc, get_accuracy(pred, Y.numpy()))\n",
        "nets_acc.append(acc)\n",
        "print(f'Average accuracy: {acc}')\n",
        "\n",
        "acc = -1\n",
        "i = 0\n",
        "with torch.no_grad():\n",
        "    for X, Y in test_data_loader:\n",
        "        i += 1\n",
        "        X = X.to(device)\n",
        "        pred = net502(X).argmax(dim=1).type(torch.int32).cpu().numpy()\n",
        "        acc = max(acc, get_accuracy(pred, Y.numpy()))\n",
        "nets_acc.append(acc)\n",
        "print(f'Average accuracy: {acc}')"
      ],
      "metadata": {
        "colab": {
          "base_uri": "https://localhost:8080/"
        },
        "id": "Sn5FJ_HVq6kc",
        "outputId": "0fe459d5-8eb5-4168-c90c-0c709ddcb923"
      },
      "execution_count": 77,
      "outputs": [
        {
          "output_type": "stream",
          "name": "stdout",
          "text": [
            "Average accuracy: 0.921875\n",
            "Average accuracy: 0.640625\n"
          ]
        }
      ]
    },
    {
      "cell_type": "code",
      "source": [
        "acc = -1\n",
        "i = 0\n",
        "with torch.no_grad():\n",
        "    for X, Y in test_data_loader:\n",
        "        i += 1\n",
        "        X = X.to(device)\n",
        "        pred = googlenet(X).argmax(dim=1).type(torch.int32).cpu().numpy()\n",
        "        acc = max(acc, get_accuracy(pred, Y.numpy()))\n",
        "nets_acc.append(acc)\n",
        "print(f'Average accuracy: {acc}')\n",
        "\n",
        "acc = -1\n",
        "i = 0\n",
        "with torch.no_grad():\n",
        "    for X, Y in test_data_loader:\n",
        "        i += 1\n",
        "        X = X.to(device)\n",
        "        pred = googlenet2(X).argmax(dim=1).type(torch.int32).cpu().numpy()\n",
        "        acc = max(acc, get_accuracy(pred, Y.numpy()))\n",
        "nets_acc.append(acc)\n",
        "print(f'Average accuracy: {acc}')"
      ],
      "metadata": {
        "colab": {
          "base_uri": "https://localhost:8080/"
        },
        "id": "Q9dhtlr6qWoF",
        "outputId": "7e240608-b7da-45ff-96d9-17eb04536d9b"
      },
      "execution_count": 78,
      "outputs": [
        {
          "output_type": "stream",
          "name": "stdout",
          "text": [
            "Average accuracy: 0.953125\n",
            "Average accuracy: 0.5625\n"
          ]
        }
      ]
    },
    {
      "cell_type": "code",
      "source": [
        "acc = -1\n",
        "i = 0\n",
        "with torch.no_grad():\n",
        "    for X, Y in test_data_loader:\n",
        "        i += 1\n",
        "        X = X.to(device)\n",
        "        pred = netvgg(X).argmax(dim=1).type(torch.int32).cpu().numpy()\n",
        "        acc = max(acc, get_accuracy(pred, Y.numpy()))\n",
        "nets_acc.append(acc)\n",
        "print(f'Average accuracy: {acc}')\n",
        "\n",
        "acc = -1\n",
        "i = 0\n",
        "with torch.no_grad():\n",
        "    for X, Y in test_data_loader:\n",
        "        i += 1\n",
        "        X = X.to(device)\n",
        "        pred = netvgg2(X).argmax(dim=1).type(torch.int32).cpu().numpy()\n",
        "        acc = max(acc, get_accuracy(pred, Y.numpy()))\n",
        "nets_acc.append(acc)\n",
        "print(f'Average accuracy: {acc}')"
      ],
      "metadata": {
        "colab": {
          "base_uri": "https://localhost:8080/"
        },
        "id": "lAvc-hMjrL-g",
        "outputId": "5b577893-ff20-42d4-81f2-8423973bcee5"
      },
      "execution_count": 79,
      "outputs": [
        {
          "output_type": "stream",
          "name": "stdout",
          "text": [
            "Average accuracy: 0.984375\n",
            "Average accuracy: 0.5625\n"
          ]
        }
      ]
    },
    {
      "cell_type": "code",
      "source": [
        "plot.figure(figsize = (24, 10))\n",
        "plot.bar(nets, nets_acc)"
      ],
      "metadata": {
        "colab": {
          "base_uri": "https://localhost:8080/",
          "height": 309
        },
        "id": "VxLDXY-5rWkP",
        "outputId": "8c83d2df-1398-4996-d5af-5abc73d2d0cc"
      },
      "execution_count": 81,
      "outputs": [
        {
          "output_type": "execute_result",
          "data": {
            "text/plain": [
              "<BarContainer object of 8 artists>"
            ]
          },
          "metadata": {},
          "execution_count": 81
        },
        {
          "output_type": "display_data",
          "data": {
            "text/plain": [
              "<Figure size 2400x1000 with 1 Axes>"
            ],
            "image/png": "[encoded data removed]"
          },
          "metadata": {}
        }
      ]
    },
    {
      "cell_type": "code",
      "execution_count": null,
      "metadata": {
        "colab": {
          "base_uri": "https://localhost:8080/"
        },
        "id": "p_6NgydD0EVj",
        "outputId": "4fc6df3c-a316-476c-f2e8-3449521f877b"
      },
      "outputs": [
        {
          "name": "stdout",
          "output_type": "stream",
          "text": [
            "[NbConvertApp] Converting notebook /content/KrylovaEV.ipynb to html\n",
            "[NbConvertApp] Writing 607325 bytes to /content/KrylovaEV.html\n"
          ]
        },
        {
          "data": {
            "text/plain": []
          },
          "execution_count": 56,
          "metadata": {},
          "output_type": "execute_result"
        }
      ],
      "source": [
        "%%shell\n",
        "jupyter nbconvert --to html /content/KrylovaEV.ipynb"
      ]
    },
    {
      "cell_type": "code",
      "execution_count": null,
      "metadata": {
        "id": "QIUyMPAE0FIC"
      },
      "outputs": [],
      "source": []
    }
  ],
  "metadata": {
    "accelerator": "GPU",
    "colab": {
      "provenance": []
    },
    "kernelspec": {
      "display_name": "Python 3 (ipykernel)",
      "language": "python",
      "name": "python3"
    },
    "language_info": {
      "codemirror_mode": {
        "name": "ipython",
        "version": 3
      },
      "file_extension": ".py",
      "mimetype": "text/x-python",
      "name": "python",
      "nbconvert_exporter": "python",
      "pygments_lexer": "ipython3",
      "version": "3.11.5"
    }
  },
  "nbformat": 4,
  "nbformat_minor": 0
}