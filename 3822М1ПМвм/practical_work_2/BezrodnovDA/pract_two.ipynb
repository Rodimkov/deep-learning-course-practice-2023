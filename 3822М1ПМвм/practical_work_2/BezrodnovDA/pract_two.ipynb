{
  "nbformat": 4,
  "nbformat_minor": 0,
  "metadata": {
    "colab": {
      "provenance": [],
      "gpuType": "T4"
    },
    "kernelspec": {
      "name": "python3",
      "display_name": "Python 3"
    },
    "language_info": {
      "name": "python"
    },
    "accelerator": "GPU"
  },
  "cells": [
    {
      "cell_type": "code",
      "execution_count": 6,
      "metadata": {
        "id": "Xoh_AwyCWxgG"
      },
      "outputs": [],
      "source": [
        "import torch\n",
        "import torch.nn as nn\n",
        "import torch.nn.functional as F\n",
        "import torch.optim as optim\n",
        "import torch.backends.cudnn as cudnn\n",
        "\n",
        "import torchvision\n",
        "import torchvision.transforms as transforms\n",
        "from torchvision import models\n",
        "\n",
        "import os\n",
        "import argparse\n",
        "import time\n",
        "from time import perf_counter\n",
        "import sys\n",
        "\n",
        "from matplotlib import pyplot as plt\n",
        "import numpy as np"
      ]
    },
    {
      "cell_type": "code",
      "source": [
        "learning_rate = 0.001\n",
        "num_epochs = 2\n",
        "batch_size = 512\n",
        "loss_function = torch.nn.CrossEntropyLoss()\n",
        "dir_name = os.getcwd()"
      ],
      "metadata": {
        "id": "LJ8hfLu1XS8j"
      },
      "execution_count": 18,
      "outputs": []
    },
    {
      "cell_type": "code",
      "source": [
        "device = torch.device(\"cuda:0\" if torch.cuda.is_available() else \"cpu\")"
      ],
      "metadata": {
        "colab": {
          "base_uri": "https://localhost:8080/"
        },
        "id": "i6wR4ILXYAfq",
        "outputId": "b3bf0ba0-eaa3-4616-e2c2-dd159a38ba87"
      },
      "execution_count": 5,
      "outputs": [
        {
          "output_type": "execute_result",
          "data": {
            "text/plain": [
              "device(type='cuda', index=0)"
            ]
          },
          "metadata": {},
          "execution_count": 5
        }
      ]
    },
    {
      "cell_type": "markdown",
      "source": [
        "## ResNet18"
      ],
      "metadata": {
        "id": "CpZeBh8_YxxJ"
      }
    },
    {
      "cell_type": "code",
      "source": [
        "def current_accuracy(outputs, labels):\n",
        "    _, predicted = torch.max(outputs.data, 1)\n",
        "    return torch.tensor(torch.sum(predicted == labels).item() / len(predicted))"
      ],
      "metadata": {
        "id": "PFN7Hk5JjfEx"
      },
      "execution_count": 24,
      "outputs": []
    },
    {
      "cell_type": "code",
      "source": [
        "def train(model, train_data_loader, device, optimizer):\n",
        "  for epoch in range(num_epochs):\n",
        "    loss_list = []\n",
        "    acc_list = []\n",
        "    time_one = perf_counter()\n",
        "    for batch_idx, (images, labels) in enumerate(train_data_loader):\n",
        "        images, labels = images.to(device), labels.to(device)\n",
        "        optimizer.zero_grad()\n",
        "        outputs = model(images)\n",
        "        loss = loss_function(outputs, labels)\n",
        "        loss_list.append(loss)\n",
        "        acc_list.append(current_accuracy(outputs, labels))\n",
        "        loss.backward()\n",
        "        optimizer.step()\n",
        "\n",
        "    time_two = perf_counter()\n",
        "    time = time_two-time_one\n",
        "    print('Epoch {}: loss = {}, acc = {}, time = {}'.format(epoch, torch.stack(loss_list).mean(), torch.stack(acc_list).mean(), time))"
      ],
      "metadata": {
        "id": "-BFFKg6zi233"
      },
      "execution_count": 26,
      "outputs": []
    },
    {
      "cell_type": "code",
      "source": [
        "train_dataset_resnet = torchvision.datasets.CIFAR10(\n",
        "      root = dir_name, train = True, download = True,\n",
        "      transform = models.ResNet18_Weights.DEFAULT.transforms()\n",
        ")\n",
        "test_dataset_resnet = torchvision.datasets.CIFAR10(\n",
        "      root = dir_name, train = False, download = True,\n",
        "      transform = models.ResNet18_Weights.DEFAULT.transforms()\n",
        ")"
      ],
      "metadata": {
        "colab": {
          "base_uri": "https://localhost:8080/"
        },
        "id": "XuLFbjniYAka",
        "outputId": "724e1abf-2fa1-44a6-d22e-7b1800983441"
      },
      "execution_count": 9,
      "outputs": [
        {
          "output_type": "stream",
          "name": "stdout",
          "text": [
            "Downloading https://www.cs.toronto.edu/~kriz/cifar-10-python.tar.gz to /content/cifar-10-python.tar.gz\n"
          ]
        },
        {
          "output_type": "stream",
          "name": "stderr",
          "text": [
            "100%|██████████| 170498071/170498071 [00:03<00:00, 48473566.93it/s]\n"
          ]
        },
        {
          "output_type": "stream",
          "name": "stdout",
          "text": [
            "Extracting /content/cifar-10-python.tar.gz to /content\n",
            "Files already downloaded and verified\n"
          ]
        }
      ]
    },
    {
      "cell_type": "code",
      "source": [
        "train_data_loader = torch.utils.data.DataLoader(\n",
        "      train_dataset_resnet, batch_size = batch_size, shuffle = True\n",
        ")\n",
        "test_data_loader = torch.utils.data.DataLoader(\n",
        "      test_dataset_resnet, batch_size = batch_size, shuffle = False\n",
        ")"
      ],
      "metadata": {
        "id": "g14LZx-iYAn6"
      },
      "execution_count": 10,
      "outputs": []
    },
    {
      "cell_type": "markdown",
      "source": [
        "Плюс линейный слой"
      ],
      "metadata": {
        "id": "txykq6yraWLQ"
      }
    },
    {
      "cell_type": "code",
      "source": [
        "model = models.resnet18(models.ResNet18_Weights.DEFAULT)\n",
        "for params in model.parameters():\n",
        "  params.requires_grad = False\n",
        "\n",
        "input_layers = model.fc.in_features\n",
        "model.fc = torch.nn.Linear(input_layers, 10)\n",
        "model.to(device)\n",
        "optimizer = torch.optim.Adam(model.fc.parameters(), lr = learning_rate)"
      ],
      "metadata": {
        "colab": {
          "base_uri": "https://localhost:8080/"
        },
        "id": "GqtghIBxYAqb",
        "outputId": "37457e56-d851-4d23-c2a9-c12ffd78d096"
      },
      "execution_count": 19,
      "outputs": [
        {
          "output_type": "stream",
          "name": "stderr",
          "text": [
            "/usr/local/lib/python3.10/dist-packages/torchvision/models/_utils.py:135: UserWarning: Using 'weights' as positional parameter(s) is deprecated since 0.13 and may be removed in the future. Please use keyword parameter(s) instead.\n",
            "  warnings.warn(\n"
          ]
        }
      ]
    },
    {
      "cell_type": "markdown",
      "source": [
        "Train"
      ],
      "metadata": {
        "id": "4Rvkw1cabXl8"
      }
    },
    {
      "cell_type": "code",
      "source": [
        "for epoch in range(num_epochs):\n",
        "    loss_list = []\n",
        "    acc_list = []\n",
        "    time_one = perf_counter()\n",
        "    for batch_idx, (images, labels) in enumerate(train_data_loader):\n",
        "        images, labels = images.to(device), labels.to(device)\n",
        "        optimizer.zero_grad()\n",
        "        outputs = model(images)\n",
        "        loss = loss_function(outputs, labels)\n",
        "        loss_list.append(loss)\n",
        "        acc_list.append(current_accuracy(outputs, labels))\n",
        "        loss.backward()\n",
        "        optimizer.step()\n",
        "\n",
        "    time_two = perf_counter()\n",
        "    time = time_two-time_one\n",
        "    print('Epoch {}: loss = {}, acc = {}, time = {}'.format(epoch, torch.stack(loss_list).mean(), torch.stack(acc_list).mean(), time))"
      ],
      "metadata": {
        "colab": {
          "base_uri": "https://localhost:8080/"
        },
        "id": "T-WyLEKGYAs0",
        "outputId": "5bcabb97-a074-4619-e218-ada781c8c22c"
      },
      "execution_count": 20,
      "outputs": [
        {
          "output_type": "stream",
          "name": "stdout",
          "text": [
            "Epoch 0: loss = 1.3542511463165283, acc = 0.5782977342605591, time = 180.19985409599985\n",
            "Epoch 1: loss = 0.8182274699211121, acc = 0.738261342048645, time = 174.757966141\n"
          ]
        }
      ]
    },
    {
      "cell_type": "markdown",
      "source": [
        "Test"
      ],
      "metadata": {
        "id": "uaRzUMEpbxfh"
      }
    },
    {
      "cell_type": "code",
      "source": [
        "loss_list_test = []\n",
        "acc_list_test = []\n",
        "for batch_idx, (images, labels) in enumerate(test_data_loader):\n",
        "    images, labels = images.to(device), labels.to(device)\n",
        "    optimizer.zero_grad()\n",
        "    outputs = model(images)\n",
        "    loss = loss_function(outputs, labels)\n",
        "    loss_list.append(loss)\n",
        "    acc_list.append(current_accuracy(outputs, labels))\n",
        "    loss.backward()\n",
        "    optimizer.step()\n",
        "\n",
        "print('Test loss = {}, Test acc = {}'.format(torch.stack(loss_list).mean(), torch.stack(acc_list).mean()))"
      ],
      "metadata": {
        "colab": {
          "base_uri": "https://localhost:8080/"
        },
        "id": "3ZC8ZuH6YAus",
        "outputId": "ccd182c3-7201-47ab-8184-86f6bfed7622"
      },
      "execution_count": 21,
      "outputs": [
        {
          "output_type": "stream",
          "name": "stdout",
          "text": [
            "Test loss = 0.8096103072166443, Test acc = 0.7398342490196228\n"
          ]
        }
      ]
    },
    {
      "cell_type": "markdown",
      "source": [
        "Плюс линейный слой-релу-линейный"
      ],
      "metadata": {
        "id": "5JsbV4GWgjql"
      }
    },
    {
      "cell_type": "code",
      "source": [
        "train_data_loader = torch.utils.data.DataLoader(\n",
        "      train_dataset_resnet, batch_size = batch_size, shuffle = True\n",
        ")\n",
        "test_data_loader = torch.utils.data.DataLoader(\n",
        "      test_dataset_resnet, batch_size = batch_size, shuffle = False\n",
        ")"
      ],
      "metadata": {
        "id": "Kmy1BlUIjufL"
      },
      "execution_count": 28,
      "outputs": []
    },
    {
      "cell_type": "code",
      "source": [
        "model = models.resnet18(models.ResNet18_Weights.DEFAULT)\n",
        "for params in model.parameters():\n",
        "  params.requires_grad = False\n",
        "\n",
        "input_layers = model.fc.in_features\n",
        "model.fc = torch.nn.Linear(input_layers, 10)\n",
        "model.fc = torch.nn.Sequential(\n",
        "        torch.nn.Linear(input_layers, input_layers//2),\n",
        "        torch.nn.ReLU(),\n",
        "        torch.nn.Linear(input_layers//2, 10),\n",
        "        )\n",
        "model.to(device)\n",
        "optimizer = torch.optim.Adam(model.fc.parameters(), lr = learning_rate)"
      ],
      "metadata": {
        "colab": {
          "base_uri": "https://localhost:8080/"
        },
        "id": "7LHzEr_WgnEn",
        "outputId": "750107a6-aac8-435e-8372-bae064c777bd"
      },
      "execution_count": 27,
      "outputs": [
        {
          "output_type": "stream",
          "name": "stderr",
          "text": [
            "/usr/local/lib/python3.10/dist-packages/torchvision/models/_utils.py:135: UserWarning: Using 'weights' as positional parameter(s) is deprecated since 0.13 and may be removed in the future. Please use keyword parameter(s) instead.\n",
            "  warnings.warn(\n"
          ]
        }
      ]
    },
    {
      "cell_type": "markdown",
      "source": [
        "Train"
      ],
      "metadata": {
        "id": "LO9xmlHmhVHG"
      }
    },
    {
      "cell_type": "code",
      "source": [
        "train(model, train_data_loader, device, optimizer)"
      ],
      "metadata": {
        "colab": {
          "base_uri": "https://localhost:8080/"
        },
        "id": "azD4w1TbhRNN",
        "outputId": "a954d712-d890-44bf-e82b-06f74251eca0"
      },
      "execution_count": 29,
      "outputs": [
        {
          "output_type": "stream",
          "name": "stdout",
          "text": [
            "Epoch 0: loss = 0.9640857577323914, acc = 0.6889605522155762, time = 176.2004740729999\n",
            "Epoch 1: loss = 0.6718161106109619, acc = 0.7661934494972229, time = 171.12686706099976\n"
          ]
        }
      ]
    },
    {
      "cell_type": "markdown",
      "source": [
        "Test"
      ],
      "metadata": {
        "id": "kyc0AH3UhZbd"
      }
    },
    {
      "cell_type": "code",
      "source": [
        "loss_list_test = []\n",
        "acc_list_test = []\n",
        "for batch_idx, (images, labels) in enumerate(test_data_loader):\n",
        "    images, labels = images.to(device), labels.to(device)\n",
        "    optimizer.zero_grad()\n",
        "    outputs = model(images)\n",
        "    loss = loss_function(outputs, labels)\n",
        "    loss_list.append(loss)\n",
        "    acc_list.append(current_accuracy(outputs, labels))\n",
        "    loss.backward()\n",
        "    optimizer.step()\n",
        "\n",
        "print('Test loss = {}, Test acc = {}'.format(torch.stack(loss_list).mean(), torch.stack(acc_list).mean()))"
      ],
      "metadata": {
        "colab": {
          "base_uri": "https://localhost:8080/"
        },
        "id": "cqVxiZ71haZi",
        "outputId": "f82791f6-9d87-45ae-cde4-20689b445204"
      },
      "execution_count": 30,
      "outputs": [
        {
          "output_type": "stream",
          "name": "stdout",
          "text": [
            "Test loss = 2.043820381164551, Test acc = 0.21254104375839233\n"
          ]
        }
      ]
    },
    {
      "cell_type": "markdown",
      "source": [
        "## ShuffleNet_V2_X1_5"
      ],
      "metadata": {
        "id": "XSn3yml4mJNq"
      }
    },
    {
      "cell_type": "code",
      "source": [
        "train_dataset_shufflenet = torchvision.datasets.CIFAR10(\n",
        "      root = dir_name, train = True, download = True,\n",
        "      transform = models.ShuffleNet_V2_X1_5_Weights.DEFAULT.transforms()\n",
        ")\n",
        "test_dataset_shufflenet = torchvision.datasets.CIFAR10(\n",
        "      root = dir_name, train = False, download = True,\n",
        "      transform = models.ShuffleNet_V2_X1_5_Weights.DEFAULT.transforms()\n",
        ")"
      ],
      "metadata": {
        "colab": {
          "base_uri": "https://localhost:8080/"
        },
        "id": "xXiaTmX8lcbn",
        "outputId": "7c3b1f87-5d32-450f-c51a-f4195da96caa"
      },
      "execution_count": 32,
      "outputs": [
        {
          "output_type": "stream",
          "name": "stdout",
          "text": [
            "Files already downloaded and verified\n",
            "Files already downloaded and verified\n"
          ]
        }
      ]
    },
    {
      "cell_type": "code",
      "source": [
        "train_data_loader = torch.utils.data.DataLoader(\n",
        "      train_dataset_shufflenet, batch_size = batch_size, shuffle = True\n",
        ")\n",
        "test_data_loader = torch.utils.data.DataLoader(\n",
        "      test_dataset_shufflenet, batch_size = batch_size, shuffle = False\n",
        ")"
      ],
      "metadata": {
        "id": "fWxUclIGmkUb"
      },
      "execution_count": 33,
      "outputs": []
    },
    {
      "cell_type": "markdown",
      "source": [
        "Плюс один линейный слой"
      ],
      "metadata": {
        "id": "LQlmqhTSnBss"
      }
    },
    {
      "cell_type": "code",
      "source": [
        "model = models.shufflenet_v2_x1_5(models.ShuffleNet_V2_X1_5_Weights.DEFAULT)\n",
        "for params in model.parameters():\n",
        "  params.requires_grad = False\n",
        "\n",
        "input_layers = model.fc.in_features\n",
        "model.fc = torch.nn.Sequential(\n",
        "        torch.nn.Linear(input_layers, input_layers//2),\n",
        "        torch.nn.ReLU(),\n",
        "        torch.nn.Linear(input_layers//2, 10),\n",
        "        )\n",
        "model.to(device)\n",
        "optimizer = torch.optim.Adam(model.fc.parameters(), lr = learning_rate)"
      ],
      "metadata": {
        "colab": {
          "base_uri": "https://localhost:8080/"
        },
        "id": "nLFW7quYmyJJ",
        "outputId": "e39bf2dd-11e0-4b85-d871-b2a85a8c59d2"
      },
      "execution_count": 35,
      "outputs": [
        {
          "output_type": "stream",
          "name": "stderr",
          "text": [
            "/usr/local/lib/python3.10/dist-packages/torchvision/models/_utils.py:135: UserWarning: Using 'weights' as positional parameter(s) is deprecated since 0.13 and may be removed in the future. Please use keyword parameter(s) instead.\n",
            "  warnings.warn(\n",
            "Downloading: \"https://download.pytorch.org/models/shufflenetv2_x1_5-3c479a10.pth\" to /root/.cache/torch/hub/checkpoints/shufflenetv2_x1_5-3c479a10.pth\n",
            "100%|██████████| 13.6M/13.6M [00:00<00:00, 55.1MB/s]\n"
          ]
        }
      ]
    },
    {
      "cell_type": "markdown",
      "source": [
        "Train"
      ],
      "metadata": {
        "id": "k-hpdCb5nQEP"
      }
    },
    {
      "cell_type": "code",
      "source": [
        "train(model, train_data_loader, device, optimizer)"
      ],
      "metadata": {
        "colab": {
          "base_uri": "https://localhost:8080/"
        },
        "id": "kO1moCz7nRSq",
        "outputId": "05ad36b1-efbb-49c9-b908-22c5bae03ce4"
      },
      "execution_count": 36,
      "outputs": [
        {
          "output_type": "stream",
          "name": "stdout",
          "text": [
            "Epoch 0: loss = 1.24503755569458, acc = 0.6684479713439941, time = 157.0673728640004\n",
            "Epoch 1: loss = 0.7350917458534241, acc = 0.7790235280990601, time = 152.7255569400004\n"
          ]
        }
      ]
    },
    {
      "cell_type": "markdown",
      "source": [
        "Test"
      ],
      "metadata": {
        "id": "yLQsT93fnRd2"
      }
    },
    {
      "cell_type": "code",
      "source": [
        "loss_list_test = []\n",
        "acc_list_test = []\n",
        "for batch_idx, (images, labels) in enumerate(test_data_loader):\n",
        "    images, labels = images.to(device), labels.to(device)\n",
        "    optimizer.zero_grad()\n",
        "    outputs = model(images)\n",
        "    loss = loss_function(outputs, labels)\n",
        "    loss_list.append(loss)\n",
        "    acc_list.append(current_accuracy(outputs, labels))\n",
        "    loss.backward()\n",
        "    optimizer.step()\n",
        "\n",
        "print('Test loss = {}, Test acc = {}'.format(torch.stack(loss_list).mean(), torch.stack(acc_list).mean()))"
      ],
      "metadata": {
        "colab": {
          "base_uri": "https://localhost:8080/"
        },
        "id": "cOZrHak2nRq4",
        "outputId": "3e0fbb04-fb67-4840-d076-77bcf1171587"
      },
      "execution_count": 37,
      "outputs": [
        {
          "output_type": "stream",
          "name": "stdout",
          "text": [
            "Test loss = 1.8444106578826904, Test acc = 0.2960549294948578\n"
          ]
        }
      ]
    },
    {
      "cell_type": "markdown",
      "source": [
        "Плюс линейный слой-релу-линейный"
      ],
      "metadata": {
        "id": "zGWawtlfnizu"
      }
    },
    {
      "cell_type": "code",
      "source": [
        "train_data_loader = torch.utils.data.DataLoader(\n",
        "      train_dataset_shufflenet, batch_size = batch_size, shuffle = True\n",
        ")\n",
        "test_data_loader = torch.utils.data.DataLoader(\n",
        "      test_dataset_shufflenet, batch_size = batch_size, shuffle = False\n",
        ")"
      ],
      "metadata": {
        "id": "cpb4GYZWnlVM"
      },
      "execution_count": 38,
      "outputs": []
    },
    {
      "cell_type": "code",
      "source": [
        "model = models.shufflenet_v2_x1_5(models.ShuffleNet_V2_X1_5_Weights.DEFAULT)\n",
        "for params in model.parameters():\n",
        "  params.requires_grad = False\n",
        "\n",
        "input_layers = model.fc.in_features\n",
        "model.fc = torch.nn.Linear(input_layers, 10)\n",
        "model.to(device)\n",
        "optimizer = torch.optim.Adam(model.fc.parameters(), lr = learning_rate)"
      ],
      "metadata": {
        "colab": {
          "base_uri": "https://localhost:8080/"
        },
        "id": "QqJkI05dnnbH",
        "outputId": "75f088fe-b19f-4d70-8a81-86d6a45b053a"
      },
      "execution_count": 39,
      "outputs": [
        {
          "output_type": "stream",
          "name": "stderr",
          "text": [
            "/usr/local/lib/python3.10/dist-packages/torchvision/models/_utils.py:135: UserWarning: Using 'weights' as positional parameter(s) is deprecated since 0.13 and may be removed in the future. Please use keyword parameter(s) instead.\n",
            "  warnings.warn(\n"
          ]
        }
      ]
    },
    {
      "cell_type": "markdown",
      "source": [
        "Train"
      ],
      "metadata": {
        "id": "A4VnjBJUnx2v"
      }
    },
    {
      "cell_type": "code",
      "source": [
        "train(model, train_data_loader, device, optimizer)"
      ],
      "metadata": {
        "colab": {
          "base_uri": "https://localhost:8080/"
        },
        "id": "cYnXY371nyvo",
        "outputId": "5127118c-c71e-49d1-bc60-def8e1b0f83f"
      },
      "execution_count": 40,
      "outputs": [
        {
          "output_type": "stream",
          "name": "stdout",
          "text": [
            "Epoch 0: loss = 1.2410244941711426, acc = 0.6689121723175049, time = 152.84427278699968\n",
            "Epoch 1: loss = 0.7323034405708313, acc = 0.7809140086174011, time = 153.34246092099966\n"
          ]
        }
      ]
    },
    {
      "cell_type": "markdown",
      "source": [
        "Test"
      ],
      "metadata": {
        "id": "q-fd3kocn27w"
      }
    },
    {
      "cell_type": "code",
      "source": [
        "loss_list_test = []\n",
        "acc_list_test = []\n",
        "for batch_idx, (images, labels) in enumerate(test_data_loader):\n",
        "    images, labels = images.to(device), labels.to(device)\n",
        "    optimizer.zero_grad()\n",
        "    outputs = model(images)\n",
        "    loss = loss_function(outputs, labels)\n",
        "    loss_list.append(loss)\n",
        "    acc_list.append(current_accuracy(outputs, labels))\n",
        "    loss.backward()\n",
        "    optimizer.step()\n",
        "\n",
        "print('Test loss = {}, Test acc = {}'.format(torch.stack(loss_list).mean(), torch.stack(acc_list).mean()))"
      ],
      "metadata": {
        "colab": {
          "base_uri": "https://localhost:8080/"
        },
        "id": "mPhiSecSn4AH",
        "outputId": "7f94c36f-321b-4665-c6b8-7609a3b564a7"
      },
      "execution_count": 41,
      "outputs": [
        {
          "output_type": "stream",
          "name": "stdout",
          "text": [
            "Test loss = 1.6952788829803467, Test acc = 0.35858818888664246\n"
          ]
        }
      ]
    }
  ]
}