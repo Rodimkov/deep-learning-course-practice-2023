{
 "cells": [
  {
   "cell_type": "markdown",
   "metadata": {},
   "source": [
    "Практическая работа №2"
   ]
  },
  {
   "cell_type": "code",
   "execution_count": 1,
   "metadata": {},
   "outputs": [
    {
     "name": "stderr",
     "output_type": "stream",
     "text": [
      "c:\\Users\\blizz\\AppData\\Local\\Programs\\Python\\Python311\\Lib\\site-packages\\torchvision\\io\\image.py:13: UserWarning: Failed to load image Python extension: '[WinError 127] Не найдена указанная процедура'If you don't plan on using image functionality from `torchvision.io`, you can ignore this warning. Otherwise, there might be something wrong with your environment. Did you have `libjpeg` or `libpng` installed before building `torchvision` from source?\n",
      "  warn(\n"
     ]
    }
   ],
   "source": [
    "import multiprocessing as mp\n",
    "import time\n",
    "import os\n",
    "from typing import Any, Generator, Literal\n",
    "\n",
    "import torch\n",
    "import torchvision\n",
    "import torch.nn as nn\n",
    "import torch.nn.functional as F\n",
    "\n",
    "from torch import nn\n",
    "from torch.utils.data import DataLoader\n",
    "from torchvision.datasets import ImageFolder\n",
    "from torchvision import models as torch_model\n",
    "import seaborn as sns\n",
    "\n",
    "%matplotlib inline"
   ]
  },
  {
   "cell_type": "code",
   "execution_count": 2,
   "metadata": {},
   "outputs": [],
   "source": [
    "class Trainer(object):\n",
    "    def __init__(\n",
    "        self,\n",
    "        model: nn.Module,\n",
    "        train_dataloader: DataLoader,\n",
    "        test_dataloader: DataLoader,\n",
    "        optimizer: Any,\n",
    "        loss: Any,\n",
    "        device: Literal[\"cuda\", \"cpu\"],\n",
    "    ) -> None:\n",
    "        self.model = model\n",
    "        self.train_dataloader = train_dataloader\n",
    "        self.test_dataloader = test_dataloader\n",
    "        self.optimizer = optimizer\n",
    "        self.loss = loss\n",
    "        self.device = device\n",
    "\n",
    "    def _train_loop(self) -> float:\n",
    "        self.model.train()\n",
    "\n",
    "        corrects_quantity = 0\n",
    "        total = 0\n",
    "\n",
    "        for images, labels in self.train_dataloader:\n",
    "            self.optimizer.zero_grad()\n",
    "\n",
    "            images = images.type(torch.float32)\n",
    "            images = images.to(self.device)\n",
    "            labels = labels.to(self.device)\n",
    "\n",
    "            preds = self.model(images)\n",
    "\n",
    "            loss = self.loss(\n",
    "                preds.type(torch.float32),\n",
    "                F.one_hot(labels, num_classes=10).type(torch.float32),\n",
    "            )\n",
    "\n",
    "            corrects = labels == preds.argmax(dim=1)\n",
    "            corrects_quantity += int(corrects.sum())\n",
    "\n",
    "            loss.backward()\n",
    "            self.optimizer.step()\n",
    "            total += len(preds)\n",
    "\n",
    "        return corrects_quantity / total\n",
    "\n",
    "    def _test_loop(self) -> float:\n",
    "        self.model.eval()\n",
    "        corrects_quantity = 0\n",
    "        total = 0\n",
    "\n",
    "        with torch.no_grad():\n",
    "            for images, labels in self.test_dataloader:\n",
    "                self.optimizer.zero_grad()\n",
    "\n",
    "                images = images.type(torch.float32)\n",
    "\n",
    "                images = images.to(self.device)\n",
    "                labels = labels.to(self.device)\n",
    "\n",
    "                preds = self.model(images)\n",
    "\n",
    "                corrects = labels == preds.argmax(dim=1)\n",
    "                corrects_quantity += int(corrects.sum())\n",
    "                total += len(preds)\n",
    "\n",
    "        return corrects_quantity / total\n",
    "\n",
    "    def train(self, epoch_num: int) -> Generator[nn.Module, None, None]:\n",
    "        for epoch_no in range(epoch_num):\n",
    "            start_time = time.time()\n",
    "            train_accuracy = self._train_loop()\n",
    "            time_of_train = time.time() - start_time\n",
    "\n",
    "            start_time = time.time()\n",
    "            test_accuracy = self._test_loop()\n",
    "            time_of_test = time.time() - start_time\n",
    "\n",
    "            print(f\"Epoch: {epoch_no + 1}\")\n",
    "            print(f\"Train accuracy: {train_accuracy:.4f}, time: {time_of_train:.2f}\")\n",
    "            print(f\"Test accuracy: {test_accuracy:.4f}, time: {time_of_test:.2f}\")\n",
    "\n",
    "            yield self.model"
   ]
  },
  {
   "cell_type": "code",
   "execution_count": 3,
   "metadata": {},
   "outputs": [],
   "source": [
    "def train(\n",
    "    model, device, train_dataloader, test_dataloader, optimizer, loss, epochs_num\n",
    ") -> None:\n",
    "    model = model\n",
    "    model = model.to(device)\n",
    "\n",
    "    trainer = Trainer(\n",
    "        model,\n",
    "        train_dataloader,\n",
    "        test_dataloader,\n",
    "        optimizer,\n",
    "        loss,\n",
    "        device,\n",
    "    )\n",
    "\n",
    "    for model in trainer.train(epochs_num):\n",
    "        print()"
   ]
  },
  {
   "cell_type": "markdown",
   "metadata": {},
   "source": [
    "Модификации"
   ]
  },
  {
   "cell_type": "code",
   "execution_count": 4,
   "metadata": {},
   "outputs": [],
   "source": [
    "def optim1(in_features):\n",
    "\n",
    "    return nn.Linear(in_features, 10)\n",
    "\n",
    "\n",
    "def optim2(in_features):\n",
    " \n",
    "    return nn.Sequential(\n",
    "        nn.Linear(in_features, in_features//2),\n",
    "        nn.ReLU(),\n",
    "        nn.Linear(in_features//2, 10),\n",
    "        )"
   ]
  },
  {
   "cell_type": "code",
   "execution_count": 5,
   "metadata": {},
   "outputs": [],
   "source": [
    "LEARNING_RATE = 0.001\n",
    "BATCH_SIZE = 128\n",
    "DEVICE = torch.device(\"cuda\" if torch.cuda.is_available() else \"cpu\")\n",
    "LOSS = torch.nn.CrossEntropyLoss()"
   ]
  },
  {
   "cell_type": "markdown",
   "metadata": {},
   "source": [
    "ResNet18"
   ]
  },
  {
   "cell_type": "markdown",
   "metadata": {},
   "source": [
    "optimization 1"
   ]
  },
  {
   "cell_type": "code",
   "execution_count": 6,
   "metadata": {},
   "outputs": [
    {
     "name": "stderr",
     "output_type": "stream",
     "text": [
      "c:\\Users\\blizz\\AppData\\Local\\Programs\\Python\\Python311\\Lib\\site-packages\\torchvision\\models\\_utils.py:135: UserWarning: Using 'weights' as positional parameter(s) is deprecated since 0.13 and may be removed in the future. Please use keyword parameter(s) instead.\n",
      "  warnings.warn(\n"
     ]
    },
    {
     "name": "stdout",
     "output_type": "stream",
     "text": [
      "Files already downloaded and verified\n",
      "Files already downloaded and verified\n",
      "Epoch: 1\n",
      "Train accuracy: 0.6817, time: 87.90\n",
      "Test accuracy: 0.7586, time: 33.92\n",
      "\n",
      "Epoch: 2\n",
      "Train accuracy: 0.7608, time: 86.90\n",
      "Test accuracy: 0.7673, time: 33.74\n",
      "\n",
      "Epoch: 3\n",
      "Train accuracy: 0.7719, time: 85.43\n",
      "Test accuracy: 0.7797, time: 33.45\n",
      "\n",
      "Epoch: 4\n",
      "Train accuracy: 0.7770, time: 86.78\n",
      "Test accuracy: 0.7812, time: 33.02\n",
      "\n",
      "Epoch: 5\n",
      "Train accuracy: 0.7811, time: 87.07\n",
      "Test accuracy: 0.7817, time: 33.36\n",
      "\n",
      "\n",
      "Total time: 601.64\n"
     ]
    }
   ],
   "source": [
    "NETWORK = torch_model.resnet18(torch_model.ResNet18_Weights.DEFAULT)\n",
    "\n",
    "transform = torch_model.ResNet18_Weights.DEFAULT.transforms()\n",
    "\n",
    "train_dataset = torchvision.datasets.CIFAR10(root = os.getcwd(), train = True, download = True, transform = transform)\n",
    "test_dataset = torchvision.datasets.CIFAR10(root = os.getcwd(), train = False, download = True, transform = transform)\n",
    "\n",
    "train_data_loader = torch.utils.data.DataLoader(train_dataset, batch_size = 128, shuffle = True, num_workers=mp.cpu_count() - 2)\n",
    "test_data_loader = torch.utils.data.DataLoader(test_dataset, batch_size = 128, shuffle = False, num_workers=mp.cpu_count() - 2)\n",
    "\n",
    "for param in NETWORK.parameters():\n",
    "    param.requires_grad = False\n",
    "\n",
    "NETWORK.fc = optim1(512)\n",
    "\n",
    "OPTIMIZER = torch.optim.Adam(\n",
    "    NETWORK.fc.parameters(), lr=LEARNING_RATE\n",
    ")\n",
    "\n",
    "EPOCHS = 5\n",
    "\n",
    "start_time = time.time()\n",
    "trained_model = train(NETWORK, DEVICE, train_data_loader, test_data_loader, OPTIMIZER, LOSS, EPOCHS)\n",
    "\n",
    "print()\n",
    "print(f\"Total time: {time.time() - start_time:.2f}\")"
   ]
  },
  {
   "cell_type": "markdown",
   "metadata": {},
   "source": [
    "optimization 2"
   ]
  },
  {
   "cell_type": "code",
   "execution_count": 7,
   "metadata": {},
   "outputs": [
    {
     "name": "stdout",
     "output_type": "stream",
     "text": [
      "Files already downloaded and verified\n",
      "Files already downloaded and verified\n",
      "Epoch: 1\n",
      "Train accuracy: 0.7196, time: 82.27\n",
      "Test accuracy: 0.7637, time: 31.79\n",
      "\n",
      "Epoch: 2\n",
      "Train accuracy: 0.7660, time: 85.43\n",
      "Test accuracy: 0.7819, time: 32.28\n",
      "\n",
      "Epoch: 3\n",
      "Train accuracy: 0.7747, time: 84.15\n",
      "Test accuracy: 0.7761, time: 32.17\n",
      "\n",
      "Epoch: 4\n",
      "Train accuracy: 0.7825, time: 83.81\n",
      "Test accuracy: 0.7699, time: 32.79\n",
      "\n",
      "Epoch: 5\n",
      "Train accuracy: 0.7950, time: 85.69\n",
      "Test accuracy: 0.7863, time: 33.22\n",
      "\n",
      "\n",
      "Total time: 583.59\n"
     ]
    }
   ],
   "source": [
    "transform = torch_model.ResNet18_Weights.DEFAULT.transforms()\n",
    "\n",
    "train_dataset = torchvision.datasets.CIFAR10(root = os.getcwd(), train = True, download = True, transform = transform)\n",
    "test_dataset = torchvision.datasets.CIFAR10(root = os.getcwd(), train = False, download = True, transform = transform)\n",
    "\n",
    "train_data_loader = torch.utils.data.DataLoader(train_dataset, batch_size = 128, shuffle = True, num_workers=mp.cpu_count() - 2)\n",
    "test_data_loader = torch.utils.data.DataLoader(test_dataset, batch_size = 128, shuffle = False, num_workers=mp.cpu_count() - 2)\n",
    "\n",
    "NETWORK = torch_model.resnet18(torch_model.ResNet18_Weights.DEFAULT)\n",
    "\n",
    "for param in NETWORK.parameters():\n",
    "    param.requires_grad = False\n",
    "\n",
    "NETWORK.fc = optim2(512)\n",
    "\n",
    "OPTIMIZER = torch.optim.Adam(\n",
    "    NETWORK.fc.parameters(), lr=LEARNING_RATE\n",
    ")\n",
    "\n",
    "EPOCHS = 5\n",
    "\n",
    "start_time = time.time()\n",
    "trained_model = train(NETWORK, DEVICE, train_data_loader, test_data_loader, OPTIMIZER, LOSS, EPOCHS)\n",
    "\n",
    "print()\n",
    "print(f\"Total time: {time.time() - start_time:.2f}\")"
   ]
  },
  {
   "cell_type": "markdown",
   "metadata": {},
   "source": [
    "DenseNet121"
   ]
  },
  {
   "cell_type": "markdown",
   "metadata": {},
   "source": [
    "optimization 1"
   ]
  },
  {
   "cell_type": "code",
   "execution_count": 8,
   "metadata": {},
   "outputs": [
    {
     "name": "stdout",
     "output_type": "stream",
     "text": [
      "Files already downloaded and verified\n",
      "Files already downloaded and verified\n"
     ]
    },
    {
     "name": "stderr",
     "output_type": "stream",
     "text": [
      "Downloading: \"https://download.pytorch.org/models/densenet121-a639ec97.pth\" to C:\\Users\\blizz/.cache\\torch\\hub\\checkpoints\\densenet121-a639ec97.pth\n",
      "100.0%\n"
     ]
    },
    {
     "name": "stdout",
     "output_type": "stream",
     "text": [
      "Epoch: 1\n",
      "Train accuracy: 0.7065, time: 201.32\n",
      "Test accuracy: 0.7711, time: 56.00\n",
      "\n",
      "Epoch: 2\n",
      "Train accuracy: 0.7776, time: 201.85\n",
      "Test accuracy: 0.7892, time: 53.55\n",
      "\n",
      "Epoch: 3\n",
      "Train accuracy: 0.7899, time: 221.28\n",
      "Test accuracy: 0.7902, time: 54.87\n",
      "\n"
     ]
    },
    {
     "ename": "KeyboardInterrupt",
     "evalue": "",
     "output_type": "error",
     "traceback": [
      "\u001b[1;31m---------------------------------------------------------------------------\u001b[0m",
      "\u001b[1;31mKeyboardInterrupt\u001b[0m                         Traceback (most recent call last)",
      "\u001b[1;32mc:\\Users\\blizz\\OneDrive\\Рабочий стол\\второй курс\\первый семестр\\Глубокое обучение\\prac2.ipynb Cell 15\u001b[0m line \u001b[0;36m2\n\u001b[0;32m     <a href='vscode-notebook-cell:/c%3A/Users/blizz/OneDrive/%D0%A0%D0%B0%D0%B1%D0%BE%D1%87%D0%B8%D0%B9%20%D1%81%D1%82%D0%BE%D0%BB/%D0%B2%D1%82%D0%BE%D1%80%D0%BE%D0%B9%20%D0%BA%D1%83%D1%80%D1%81/%D0%BF%D0%B5%D1%80%D0%B2%D1%8B%D0%B9%20%D1%81%D0%B5%D0%BC%D0%B5%D1%81%D1%82%D1%80/%D0%93%D0%BB%D1%83%D0%B1%D0%BE%D0%BA%D0%BE%D0%B5%20%D0%BE%D0%B1%D1%83%D1%87%D0%B5%D0%BD%D0%B8%D0%B5/prac2.ipynb#X20sZmlsZQ%3D%3D?line=19'>20</a>\u001b[0m EPOCHS \u001b[39m=\u001b[39m \u001b[39m5\u001b[39m\n\u001b[0;32m     <a href='vscode-notebook-cell:/c%3A/Users/blizz/OneDrive/%D0%A0%D0%B0%D0%B1%D0%BE%D1%87%D0%B8%D0%B9%20%D1%81%D1%82%D0%BE%D0%BB/%D0%B2%D1%82%D0%BE%D1%80%D0%BE%D0%B9%20%D0%BA%D1%83%D1%80%D1%81/%D0%BF%D0%B5%D1%80%D0%B2%D1%8B%D0%B9%20%D1%81%D0%B5%D0%BC%D0%B5%D1%81%D1%82%D1%80/%D0%93%D0%BB%D1%83%D0%B1%D0%BE%D0%BA%D0%BE%D0%B5%20%D0%BE%D0%B1%D1%83%D1%87%D0%B5%D0%BD%D0%B8%D0%B5/prac2.ipynb#X20sZmlsZQ%3D%3D?line=21'>22</a>\u001b[0m start_time \u001b[39m=\u001b[39m time\u001b[39m.\u001b[39mtime()\n\u001b[1;32m---> <a href='vscode-notebook-cell:/c%3A/Users/blizz/OneDrive/%D0%A0%D0%B0%D0%B1%D0%BE%D1%87%D0%B8%D0%B9%20%D1%81%D1%82%D0%BE%D0%BB/%D0%B2%D1%82%D0%BE%D1%80%D0%BE%D0%B9%20%D0%BA%D1%83%D1%80%D1%81/%D0%BF%D0%B5%D1%80%D0%B2%D1%8B%D0%B9%20%D1%81%D0%B5%D0%BC%D0%B5%D1%81%D1%82%D1%80/%D0%93%D0%BB%D1%83%D0%B1%D0%BE%D0%BA%D0%BE%D0%B5%20%D0%BE%D0%B1%D1%83%D1%87%D0%B5%D0%BD%D0%B8%D0%B5/prac2.ipynb#X20sZmlsZQ%3D%3D?line=22'>23</a>\u001b[0m trained_model \u001b[39m=\u001b[39m train(NETWORK, DEVICE, train_data_loader, test_data_loader, OPTIMIZER, LOSS, EPOCHS)\n\u001b[0;32m     <a href='vscode-notebook-cell:/c%3A/Users/blizz/OneDrive/%D0%A0%D0%B0%D0%B1%D0%BE%D1%87%D0%B8%D0%B9%20%D1%81%D1%82%D0%BE%D0%BB/%D0%B2%D1%82%D0%BE%D1%80%D0%BE%D0%B9%20%D0%BA%D1%83%D1%80%D1%81/%D0%BF%D0%B5%D1%80%D0%B2%D1%8B%D0%B9%20%D1%81%D0%B5%D0%BC%D0%B5%D1%81%D1%82%D1%80/%D0%93%D0%BB%D1%83%D0%B1%D0%BE%D0%BA%D0%BE%D0%B5%20%D0%BE%D0%B1%D1%83%D1%87%D0%B5%D0%BD%D0%B8%D0%B5/prac2.ipynb#X20sZmlsZQ%3D%3D?line=24'>25</a>\u001b[0m \u001b[39mprint\u001b[39m()\n\u001b[0;32m     <a href='vscode-notebook-cell:/c%3A/Users/blizz/OneDrive/%D0%A0%D0%B0%D0%B1%D0%BE%D1%87%D0%B8%D0%B9%20%D1%81%D1%82%D0%BE%D0%BB/%D0%B2%D1%82%D0%BE%D1%80%D0%BE%D0%B9%20%D0%BA%D1%83%D1%80%D1%81/%D0%BF%D0%B5%D1%80%D0%B2%D1%8B%D0%B9%20%D1%81%D0%B5%D0%BC%D0%B5%D1%81%D1%82%D1%80/%D0%93%D0%BB%D1%83%D0%B1%D0%BE%D0%BA%D0%BE%D0%B5%20%D0%BE%D0%B1%D1%83%D1%87%D0%B5%D0%BD%D0%B8%D0%B5/prac2.ipynb#X20sZmlsZQ%3D%3D?line=25'>26</a>\u001b[0m \u001b[39mprint\u001b[39m(\u001b[39mf\u001b[39m\u001b[39m\"\u001b[39m\u001b[39mTotal time: \u001b[39m\u001b[39m{\u001b[39;00mtime\u001b[39m.\u001b[39mtime()\u001b[39m \u001b[39m\u001b[39m-\u001b[39m\u001b[39m \u001b[39mstart_time\u001b[39m:\u001b[39;00m\u001b[39m.2f\u001b[39m\u001b[39m}\u001b[39;00m\u001b[39m\"\u001b[39m)\n",
      "\u001b[1;32mc:\\Users\\blizz\\OneDrive\\Рабочий стол\\второй курс\\первый семестр\\Глубокое обучение\\prac2.ipynb Cell 15\u001b[0m line \u001b[0;36m1\n\u001b[0;32m      <a href='vscode-notebook-cell:/c%3A/Users/blizz/OneDrive/%D0%A0%D0%B0%D0%B1%D0%BE%D1%87%D0%B8%D0%B9%20%D1%81%D1%82%D0%BE%D0%BB/%D0%B2%D1%82%D0%BE%D1%80%D0%BE%D0%B9%20%D0%BA%D1%83%D1%80%D1%81/%D0%BF%D0%B5%D1%80%D0%B2%D1%8B%D0%B9%20%D1%81%D0%B5%D0%BC%D0%B5%D1%81%D1%82%D1%80/%D0%93%D0%BB%D1%83%D0%B1%D0%BE%D0%BA%D0%BE%D0%B5%20%D0%BE%D0%B1%D1%83%D1%87%D0%B5%D0%BD%D0%B8%D0%B5/prac2.ipynb#X20sZmlsZQ%3D%3D?line=4'>5</a>\u001b[0m model \u001b[39m=\u001b[39m model\u001b[39m.\u001b[39mto(device)\n\u001b[0;32m      <a href='vscode-notebook-cell:/c%3A/Users/blizz/OneDrive/%D0%A0%D0%B0%D0%B1%D0%BE%D1%87%D0%B8%D0%B9%20%D1%81%D1%82%D0%BE%D0%BB/%D0%B2%D1%82%D0%BE%D1%80%D0%BE%D0%B9%20%D0%BA%D1%83%D1%80%D1%81/%D0%BF%D0%B5%D1%80%D0%B2%D1%8B%D0%B9%20%D1%81%D0%B5%D0%BC%D0%B5%D1%81%D1%82%D1%80/%D0%93%D0%BB%D1%83%D0%B1%D0%BE%D0%BA%D0%BE%D0%B5%20%D0%BE%D0%B1%D1%83%D1%87%D0%B5%D0%BD%D0%B8%D0%B5/prac2.ipynb#X20sZmlsZQ%3D%3D?line=6'>7</a>\u001b[0m trainer \u001b[39m=\u001b[39m Trainer(\n\u001b[0;32m      <a href='vscode-notebook-cell:/c%3A/Users/blizz/OneDrive/%D0%A0%D0%B0%D0%B1%D0%BE%D1%87%D0%B8%D0%B9%20%D1%81%D1%82%D0%BE%D0%BB/%D0%B2%D1%82%D0%BE%D1%80%D0%BE%D0%B9%20%D0%BA%D1%83%D1%80%D1%81/%D0%BF%D0%B5%D1%80%D0%B2%D1%8B%D0%B9%20%D1%81%D0%B5%D0%BC%D0%B5%D1%81%D1%82%D1%80/%D0%93%D0%BB%D1%83%D0%B1%D0%BE%D0%BA%D0%BE%D0%B5%20%D0%BE%D0%B1%D1%83%D1%87%D0%B5%D0%BD%D0%B8%D0%B5/prac2.ipynb#X20sZmlsZQ%3D%3D?line=7'>8</a>\u001b[0m     model,\n\u001b[0;32m      <a href='vscode-notebook-cell:/c%3A/Users/blizz/OneDrive/%D0%A0%D0%B0%D0%B1%D0%BE%D1%87%D0%B8%D0%B9%20%D1%81%D1%82%D0%BE%D0%BB/%D0%B2%D1%82%D0%BE%D1%80%D0%BE%D0%B9%20%D0%BA%D1%83%D1%80%D1%81/%D0%BF%D0%B5%D1%80%D0%B2%D1%8B%D0%B9%20%D1%81%D0%B5%D0%BC%D0%B5%D1%81%D1%82%D1%80/%D0%93%D0%BB%D1%83%D0%B1%D0%BE%D0%BA%D0%BE%D0%B5%20%D0%BE%D0%B1%D1%83%D1%87%D0%B5%D0%BD%D0%B8%D0%B5/prac2.ipynb#X20sZmlsZQ%3D%3D?line=8'>9</a>\u001b[0m     train_dataloader,\n\u001b[1;32m   (...)\u001b[0m\n\u001b[0;32m     <a href='vscode-notebook-cell:/c%3A/Users/blizz/OneDrive/%D0%A0%D0%B0%D0%B1%D0%BE%D1%87%D0%B8%D0%B9%20%D1%81%D1%82%D0%BE%D0%BB/%D0%B2%D1%82%D0%BE%D1%80%D0%BE%D0%B9%20%D0%BA%D1%83%D1%80%D1%81/%D0%BF%D0%B5%D1%80%D0%B2%D1%8B%D0%B9%20%D1%81%D0%B5%D0%BC%D0%B5%D1%81%D1%82%D1%80/%D0%93%D0%BB%D1%83%D0%B1%D0%BE%D0%BA%D0%BE%D0%B5%20%D0%BE%D0%B1%D1%83%D1%87%D0%B5%D0%BD%D0%B8%D0%B5/prac2.ipynb#X20sZmlsZQ%3D%3D?line=12'>13</a>\u001b[0m     device,\n\u001b[0;32m     <a href='vscode-notebook-cell:/c%3A/Users/blizz/OneDrive/%D0%A0%D0%B0%D0%B1%D0%BE%D1%87%D0%B8%D0%B9%20%D1%81%D1%82%D0%BE%D0%BB/%D0%B2%D1%82%D0%BE%D1%80%D0%BE%D0%B9%20%D0%BA%D1%83%D1%80%D1%81/%D0%BF%D0%B5%D1%80%D0%B2%D1%8B%D0%B9%20%D1%81%D0%B5%D0%BC%D0%B5%D1%81%D1%82%D1%80/%D0%93%D0%BB%D1%83%D0%B1%D0%BE%D0%BA%D0%BE%D0%B5%20%D0%BE%D0%B1%D1%83%D1%87%D0%B5%D0%BD%D0%B8%D0%B5/prac2.ipynb#X20sZmlsZQ%3D%3D?line=13'>14</a>\u001b[0m )\n\u001b[1;32m---> <a href='vscode-notebook-cell:/c%3A/Users/blizz/OneDrive/%D0%A0%D0%B0%D0%B1%D0%BE%D1%87%D0%B8%D0%B9%20%D1%81%D1%82%D0%BE%D0%BB/%D0%B2%D1%82%D0%BE%D1%80%D0%BE%D0%B9%20%D0%BA%D1%83%D1%80%D1%81/%D0%BF%D0%B5%D1%80%D0%B2%D1%8B%D0%B9%20%D1%81%D0%B5%D0%BC%D0%B5%D1%81%D1%82%D1%80/%D0%93%D0%BB%D1%83%D0%B1%D0%BE%D0%BA%D0%BE%D0%B5%20%D0%BE%D0%B1%D1%83%D1%87%D0%B5%D0%BD%D0%B8%D0%B5/prac2.ipynb#X20sZmlsZQ%3D%3D?line=15'>16</a>\u001b[0m \u001b[39mfor\u001b[39;49;00m model \u001b[39min\u001b[39;49;00m trainer\u001b[39m.\u001b[39;49mtrain(epochs_num):\n\u001b[0;32m     <a href='vscode-notebook-cell:/c%3A/Users/blizz/OneDrive/%D0%A0%D0%B0%D0%B1%D0%BE%D1%87%D0%B8%D0%B9%20%D1%81%D1%82%D0%BE%D0%BB/%D0%B2%D1%82%D0%BE%D1%80%D0%BE%D0%B9%20%D0%BA%D1%83%D1%80%D1%81/%D0%BF%D0%B5%D1%80%D0%B2%D1%8B%D0%B9%20%D1%81%D0%B5%D0%BC%D0%B5%D1%81%D1%82%D1%80/%D0%93%D0%BB%D1%83%D0%B1%D0%BE%D0%BA%D0%BE%D0%B5%20%D0%BE%D0%B1%D1%83%D1%87%D0%B5%D0%BD%D0%B8%D0%B5/prac2.ipynb#X20sZmlsZQ%3D%3D?line=16'>17</a>\u001b[0m     \u001b[39mprint\u001b[39;49m()\n",
      "\u001b[1;32mc:\\Users\\blizz\\OneDrive\\Рабочий стол\\второй курс\\первый семестр\\Глубокое обучение\\prac2.ipynb Cell 15\u001b[0m line \u001b[0;36m7\n\u001b[0;32m     <a href='vscode-notebook-cell:/c%3A/Users/blizz/OneDrive/%D0%A0%D0%B0%D0%B1%D0%BE%D1%87%D0%B8%D0%B9%20%D1%81%D1%82%D0%BE%D0%BB/%D0%B2%D1%82%D0%BE%D1%80%D0%BE%D0%B9%20%D0%BA%D1%83%D1%80%D1%81/%D0%BF%D0%B5%D1%80%D0%B2%D1%8B%D0%B9%20%D1%81%D0%B5%D0%BC%D0%B5%D1%81%D1%82%D1%80/%D0%93%D0%BB%D1%83%D0%B1%D0%BE%D0%BA%D0%BE%D0%B5%20%D0%BE%D0%B1%D1%83%D1%87%D0%B5%D0%BD%D0%B8%D0%B5/prac2.ipynb#X20sZmlsZQ%3D%3D?line=72'>73</a>\u001b[0m time_of_train \u001b[39m=\u001b[39m time\u001b[39m.\u001b[39mtime() \u001b[39m-\u001b[39m start_time\n\u001b[0;32m     <a href='vscode-notebook-cell:/c%3A/Users/blizz/OneDrive/%D0%A0%D0%B0%D0%B1%D0%BE%D1%87%D0%B8%D0%B9%20%D1%81%D1%82%D0%BE%D0%BB/%D0%B2%D1%82%D0%BE%D1%80%D0%BE%D0%B9%20%D0%BA%D1%83%D1%80%D1%81/%D0%BF%D0%B5%D1%80%D0%B2%D1%8B%D0%B9%20%D1%81%D0%B5%D0%BC%D0%B5%D1%81%D1%82%D1%80/%D0%93%D0%BB%D1%83%D0%B1%D0%BE%D0%BA%D0%BE%D0%B5%20%D0%BE%D0%B1%D1%83%D1%87%D0%B5%D0%BD%D0%B8%D0%B5/prac2.ipynb#X20sZmlsZQ%3D%3D?line=74'>75</a>\u001b[0m start_time \u001b[39m=\u001b[39m time\u001b[39m.\u001b[39mtime()\n\u001b[1;32m---> <a href='vscode-notebook-cell:/c%3A/Users/blizz/OneDrive/%D0%A0%D0%B0%D0%B1%D0%BE%D1%87%D0%B8%D0%B9%20%D1%81%D1%82%D0%BE%D0%BB/%D0%B2%D1%82%D0%BE%D1%80%D0%BE%D0%B9%20%D0%BA%D1%83%D1%80%D1%81/%D0%BF%D0%B5%D1%80%D0%B2%D1%8B%D0%B9%20%D1%81%D0%B5%D0%BC%D0%B5%D1%81%D1%82%D1%80/%D0%93%D0%BB%D1%83%D0%B1%D0%BE%D0%BA%D0%BE%D0%B5%20%D0%BE%D0%B1%D1%83%D1%87%D0%B5%D0%BD%D0%B8%D0%B5/prac2.ipynb#X20sZmlsZQ%3D%3D?line=75'>76</a>\u001b[0m test_accuracy \u001b[39m=\u001b[39m \u001b[39mself\u001b[39;49m\u001b[39m.\u001b[39;49m_test_loop()\n\u001b[0;32m     <a href='vscode-notebook-cell:/c%3A/Users/blizz/OneDrive/%D0%A0%D0%B0%D0%B1%D0%BE%D1%87%D0%B8%D0%B9%20%D1%81%D1%82%D0%BE%D0%BB/%D0%B2%D1%82%D0%BE%D1%80%D0%BE%D0%B9%20%D0%BA%D1%83%D1%80%D1%81/%D0%BF%D0%B5%D1%80%D0%B2%D1%8B%D0%B9%20%D1%81%D0%B5%D0%BC%D0%B5%D1%81%D1%82%D1%80/%D0%93%D0%BB%D1%83%D0%B1%D0%BE%D0%BA%D0%BE%D0%B5%20%D0%BE%D0%B1%D1%83%D1%87%D0%B5%D0%BD%D0%B8%D0%B5/prac2.ipynb#X20sZmlsZQ%3D%3D?line=76'>77</a>\u001b[0m time_of_test \u001b[39m=\u001b[39m time\u001b[39m.\u001b[39mtime() \u001b[39m-\u001b[39m start_time\n\u001b[0;32m     <a href='vscode-notebook-cell:/c%3A/Users/blizz/OneDrive/%D0%A0%D0%B0%D0%B1%D0%BE%D1%87%D0%B8%D0%B9%20%D1%81%D1%82%D0%BE%D0%BB/%D0%B2%D1%82%D0%BE%D1%80%D0%BE%D0%B9%20%D0%BA%D1%83%D1%80%D1%81/%D0%BF%D0%B5%D1%80%D0%B2%D1%8B%D0%B9%20%D1%81%D0%B5%D0%BC%D0%B5%D1%81%D1%82%D1%80/%D0%93%D0%BB%D1%83%D0%B1%D0%BE%D0%BA%D0%BE%D0%B5%20%D0%BE%D0%B1%D1%83%D1%87%D0%B5%D0%BD%D0%B8%D0%B5/prac2.ipynb#X20sZmlsZQ%3D%3D?line=78'>79</a>\u001b[0m \u001b[39mprint\u001b[39m(\u001b[39mf\u001b[39m\u001b[39m\"\u001b[39m\u001b[39mEpoch: \u001b[39m\u001b[39m{\u001b[39;00mepoch_no\u001b[39m \u001b[39m\u001b[39m+\u001b[39m\u001b[39m \u001b[39m\u001b[39m1\u001b[39m\u001b[39m}\u001b[39;00m\u001b[39m\"\u001b[39m)\n",
      "\u001b[1;32mc:\\Users\\blizz\\OneDrive\\Рабочий стол\\второй курс\\первый семестр\\Глубокое обучение\\prac2.ipynb Cell 15\u001b[0m line \u001b[0;36m5\n\u001b[0;32m     <a href='vscode-notebook-cell:/c%3A/Users/blizz/OneDrive/%D0%A0%D0%B0%D0%B1%D0%BE%D1%87%D0%B8%D0%B9%20%D1%81%D1%82%D0%BE%D0%BB/%D0%B2%D1%82%D0%BE%D1%80%D0%BE%D0%B9%20%D0%BA%D1%83%D1%80%D1%81/%D0%BF%D0%B5%D1%80%D0%B2%D1%8B%D0%B9%20%D1%81%D0%B5%D0%BC%D0%B5%D1%81%D1%82%D1%80/%D0%93%D0%BB%D1%83%D0%B1%D0%BE%D0%BA%D0%BE%D0%B5%20%D0%BE%D0%B1%D1%83%D1%87%D0%B5%D0%BD%D0%B8%D0%B5/prac2.ipynb#X20sZmlsZQ%3D%3D?line=49'>50</a>\u001b[0m total \u001b[39m=\u001b[39m \u001b[39m0\u001b[39m\n\u001b[0;32m     <a href='vscode-notebook-cell:/c%3A/Users/blizz/OneDrive/%D0%A0%D0%B0%D0%B1%D0%BE%D1%87%D0%B8%D0%B9%20%D1%81%D1%82%D0%BE%D0%BB/%D0%B2%D1%82%D0%BE%D1%80%D0%BE%D0%B9%20%D0%BA%D1%83%D1%80%D1%81/%D0%BF%D0%B5%D1%80%D0%B2%D1%8B%D0%B9%20%D1%81%D0%B5%D0%BC%D0%B5%D1%81%D1%82%D1%80/%D0%93%D0%BB%D1%83%D0%B1%D0%BE%D0%BA%D0%BE%D0%B5%20%D0%BE%D0%B1%D1%83%D1%87%D0%B5%D0%BD%D0%B8%D0%B5/prac2.ipynb#X20sZmlsZQ%3D%3D?line=51'>52</a>\u001b[0m \u001b[39mwith\u001b[39;00m torch\u001b[39m.\u001b[39mno_grad():\n\u001b[1;32m---> <a href='vscode-notebook-cell:/c%3A/Users/blizz/OneDrive/%D0%A0%D0%B0%D0%B1%D0%BE%D1%87%D0%B8%D0%B9%20%D1%81%D1%82%D0%BE%D0%BB/%D0%B2%D1%82%D0%BE%D1%80%D0%BE%D0%B9%20%D0%BA%D1%83%D1%80%D1%81/%D0%BF%D0%B5%D1%80%D0%B2%D1%8B%D0%B9%20%D1%81%D0%B5%D0%BC%D0%B5%D1%81%D1%82%D1%80/%D0%93%D0%BB%D1%83%D0%B1%D0%BE%D0%BA%D0%BE%D0%B5%20%D0%BE%D0%B1%D1%83%D1%87%D0%B5%D0%BD%D0%B8%D0%B5/prac2.ipynb#X20sZmlsZQ%3D%3D?line=52'>53</a>\u001b[0m     \u001b[39mfor\u001b[39;49;00m images, labels \u001b[39min\u001b[39;49;00m \u001b[39mself\u001b[39;49m\u001b[39m.\u001b[39;49mtest_dataloader:\n\u001b[0;32m     <a href='vscode-notebook-cell:/c%3A/Users/blizz/OneDrive/%D0%A0%D0%B0%D0%B1%D0%BE%D1%87%D0%B8%D0%B9%20%D1%81%D1%82%D0%BE%D0%BB/%D0%B2%D1%82%D0%BE%D1%80%D0%BE%D0%B9%20%D0%BA%D1%83%D1%80%D1%81/%D0%BF%D0%B5%D1%80%D0%B2%D1%8B%D0%B9%20%D1%81%D0%B5%D0%BC%D0%B5%D1%81%D1%82%D1%80/%D0%93%D0%BB%D1%83%D0%B1%D0%BE%D0%BA%D0%BE%D0%B5%20%D0%BE%D0%B1%D1%83%D1%87%D0%B5%D0%BD%D0%B8%D0%B5/prac2.ipynb#X20sZmlsZQ%3D%3D?line=53'>54</a>\u001b[0m         \u001b[39mself\u001b[39;49m\u001b[39m.\u001b[39;49moptimizer\u001b[39m.\u001b[39;49mzero_grad()\n\u001b[0;32m     <a href='vscode-notebook-cell:/c%3A/Users/blizz/OneDrive/%D0%A0%D0%B0%D0%B1%D0%BE%D1%87%D0%B8%D0%B9%20%D1%81%D1%82%D0%BE%D0%BB/%D0%B2%D1%82%D0%BE%D1%80%D0%BE%D0%B9%20%D0%BA%D1%83%D1%80%D1%81/%D0%BF%D0%B5%D1%80%D0%B2%D1%8B%D0%B9%20%D1%81%D0%B5%D0%BC%D0%B5%D1%81%D1%82%D1%80/%D0%93%D0%BB%D1%83%D0%B1%D0%BE%D0%BA%D0%BE%D0%B5%20%D0%BE%D0%B1%D1%83%D1%87%D0%B5%D0%BD%D0%B8%D0%B5/prac2.ipynb#X20sZmlsZQ%3D%3D?line=55'>56</a>\u001b[0m         images \u001b[39m=\u001b[39;49m images\u001b[39m.\u001b[39;49mtype(torch\u001b[39m.\u001b[39;49mfloat32)\n",
      "File \u001b[1;32mc:\\Users\\blizz\\AppData\\Local\\Programs\\Python\\Python311\\Lib\\site-packages\\torch\\utils\\data\\dataloader.py:441\u001b[0m, in \u001b[0;36mDataLoader.__iter__\u001b[1;34m(self)\u001b[0m\n\u001b[0;32m    439\u001b[0m     \u001b[39mreturn\u001b[39;00m \u001b[39mself\u001b[39m\u001b[39m.\u001b[39m_iterator\n\u001b[0;32m    440\u001b[0m \u001b[39melse\u001b[39;00m:\n\u001b[1;32m--> 441\u001b[0m     \u001b[39mreturn\u001b[39;00m \u001b[39mself\u001b[39;49m\u001b[39m.\u001b[39;49m_get_iterator()\n",
      "File \u001b[1;32mc:\\Users\\blizz\\AppData\\Local\\Programs\\Python\\Python311\\Lib\\site-packages\\torch\\utils\\data\\dataloader.py:388\u001b[0m, in \u001b[0;36mDataLoader._get_iterator\u001b[1;34m(self)\u001b[0m\n\u001b[0;32m    386\u001b[0m \u001b[39melse\u001b[39;00m:\n\u001b[0;32m    387\u001b[0m     \u001b[39mself\u001b[39m\u001b[39m.\u001b[39mcheck_worker_number_rationality()\n\u001b[1;32m--> 388\u001b[0m     \u001b[39mreturn\u001b[39;00m _MultiProcessingDataLoaderIter(\u001b[39mself\u001b[39;49m)\n",
      "File \u001b[1;32mc:\\Users\\blizz\\AppData\\Local\\Programs\\Python\\Python311\\Lib\\site-packages\\torch\\utils\\data\\dataloader.py:1042\u001b[0m, in \u001b[0;36m_MultiProcessingDataLoaderIter.__init__\u001b[1;34m(self, loader)\u001b[0m\n\u001b[0;32m   1035\u001b[0m w\u001b[39m.\u001b[39mdaemon \u001b[39m=\u001b[39m \u001b[39mTrue\u001b[39;00m\n\u001b[0;32m   1036\u001b[0m \u001b[39m# NB: Process.start() actually take some time as it needs to\u001b[39;00m\n\u001b[0;32m   1037\u001b[0m \u001b[39m#     start a process and pass the arguments over via a pipe.\u001b[39;00m\n\u001b[0;32m   1038\u001b[0m \u001b[39m#     Therefore, we only add a worker to self._workers list after\u001b[39;00m\n\u001b[0;32m   1039\u001b[0m \u001b[39m#     it started, so that we do not call .join() if program dies\u001b[39;00m\n\u001b[0;32m   1040\u001b[0m \u001b[39m#     before it starts, and __del__ tries to join but will get:\u001b[39;00m\n\u001b[0;32m   1041\u001b[0m \u001b[39m#     AssertionError: can only join a started process.\u001b[39;00m\n\u001b[1;32m-> 1042\u001b[0m w\u001b[39m.\u001b[39;49mstart()\n\u001b[0;32m   1043\u001b[0m \u001b[39mself\u001b[39m\u001b[39m.\u001b[39m_index_queues\u001b[39m.\u001b[39mappend(index_queue)\n\u001b[0;32m   1044\u001b[0m \u001b[39mself\u001b[39m\u001b[39m.\u001b[39m_workers\u001b[39m.\u001b[39mappend(w)\n",
      "File \u001b[1;32mc:\\Users\\blizz\\AppData\\Local\\Programs\\Python\\Python311\\Lib\\multiprocessing\\process.py:121\u001b[0m, in \u001b[0;36mBaseProcess.start\u001b[1;34m(self)\u001b[0m\n\u001b[0;32m    118\u001b[0m \u001b[39massert\u001b[39;00m \u001b[39mnot\u001b[39;00m _current_process\u001b[39m.\u001b[39m_config\u001b[39m.\u001b[39mget(\u001b[39m'\u001b[39m\u001b[39mdaemon\u001b[39m\u001b[39m'\u001b[39m), \\\n\u001b[0;32m    119\u001b[0m        \u001b[39m'\u001b[39m\u001b[39mdaemonic processes are not allowed to have children\u001b[39m\u001b[39m'\u001b[39m\n\u001b[0;32m    120\u001b[0m _cleanup()\n\u001b[1;32m--> 121\u001b[0m \u001b[39mself\u001b[39m\u001b[39m.\u001b[39m_popen \u001b[39m=\u001b[39m \u001b[39mself\u001b[39;49m\u001b[39m.\u001b[39;49m_Popen(\u001b[39mself\u001b[39;49m)\n\u001b[0;32m    122\u001b[0m \u001b[39mself\u001b[39m\u001b[39m.\u001b[39m_sentinel \u001b[39m=\u001b[39m \u001b[39mself\u001b[39m\u001b[39m.\u001b[39m_popen\u001b[39m.\u001b[39msentinel\n\u001b[0;32m    123\u001b[0m \u001b[39m# Avoid a refcycle if the target function holds an indirect\u001b[39;00m\n\u001b[0;32m    124\u001b[0m \u001b[39m# reference to the process object (see bpo-30775)\u001b[39;00m\n",
      "File \u001b[1;32mc:\\Users\\blizz\\AppData\\Local\\Programs\\Python\\Python311\\Lib\\multiprocessing\\context.py:224\u001b[0m, in \u001b[0;36mProcess._Popen\u001b[1;34m(process_obj)\u001b[0m\n\u001b[0;32m    222\u001b[0m \u001b[39m@staticmethod\u001b[39m\n\u001b[0;32m    223\u001b[0m \u001b[39mdef\u001b[39;00m \u001b[39m_Popen\u001b[39m(process_obj):\n\u001b[1;32m--> 224\u001b[0m     \u001b[39mreturn\u001b[39;00m _default_context\u001b[39m.\u001b[39;49mget_context()\u001b[39m.\u001b[39;49mProcess\u001b[39m.\u001b[39;49m_Popen(process_obj)\n",
      "File \u001b[1;32mc:\\Users\\blizz\\AppData\\Local\\Programs\\Python\\Python311\\Lib\\multiprocessing\\context.py:336\u001b[0m, in \u001b[0;36mSpawnProcess._Popen\u001b[1;34m(process_obj)\u001b[0m\n\u001b[0;32m    333\u001b[0m \u001b[39m@staticmethod\u001b[39m\n\u001b[0;32m    334\u001b[0m \u001b[39mdef\u001b[39;00m \u001b[39m_Popen\u001b[39m(process_obj):\n\u001b[0;32m    335\u001b[0m     \u001b[39mfrom\u001b[39;00m \u001b[39m.\u001b[39;00m\u001b[39mpopen_spawn_win32\u001b[39;00m \u001b[39mimport\u001b[39;00m Popen\n\u001b[1;32m--> 336\u001b[0m     \u001b[39mreturn\u001b[39;00m Popen(process_obj)\n",
      "File \u001b[1;32mc:\\Users\\blizz\\AppData\\Local\\Programs\\Python\\Python311\\Lib\\multiprocessing\\popen_spawn_win32.py:94\u001b[0m, in \u001b[0;36mPopen.__init__\u001b[1;34m(self, process_obj)\u001b[0m\n\u001b[0;32m     92\u001b[0m \u001b[39mtry\u001b[39;00m:\n\u001b[0;32m     93\u001b[0m     reduction\u001b[39m.\u001b[39mdump(prep_data, to_child)\n\u001b[1;32m---> 94\u001b[0m     reduction\u001b[39m.\u001b[39;49mdump(process_obj, to_child)\n\u001b[0;32m     95\u001b[0m \u001b[39mfinally\u001b[39;00m:\n\u001b[0;32m     96\u001b[0m     set_spawning_popen(\u001b[39mNone\u001b[39;00m)\n",
      "File \u001b[1;32mc:\\Users\\blizz\\AppData\\Local\\Programs\\Python\\Python311\\Lib\\multiprocessing\\reduction.py:60\u001b[0m, in \u001b[0;36mdump\u001b[1;34m(obj, file, protocol)\u001b[0m\n\u001b[0;32m     58\u001b[0m \u001b[39mdef\u001b[39;00m \u001b[39mdump\u001b[39m(obj, file, protocol\u001b[39m=\u001b[39m\u001b[39mNone\u001b[39;00m):\n\u001b[0;32m     59\u001b[0m \u001b[39m    \u001b[39m\u001b[39m'''Replacement for pickle.dump() using ForkingPickler.'''\u001b[39;00m\n\u001b[1;32m---> 60\u001b[0m     ForkingPickler(file, protocol)\u001b[39m.\u001b[39;49mdump(obj)\n",
      "\u001b[1;31mKeyboardInterrupt\u001b[0m: "
     ]
    }
   ],
   "source": [
    "transform = torch_model.DenseNet121_Weights.DEFAULT.transforms()\n",
    "\n",
    "train_dataset = torchvision.datasets.CIFAR10(root = os.getcwd(), train = True, download = True, transform = transform)\n",
    "test_dataset = torchvision.datasets.CIFAR10(root = os.getcwd(), train = False, download = True, transform = transform)\n",
    "\n",
    "train_data_loader = torch.utils.data.DataLoader(train_dataset, batch_size = 128, shuffle = True, num_workers=mp.cpu_count() - 2)\n",
    "test_data_loader = torch.utils.data.DataLoader(test_dataset, batch_size = 128, shuffle = False, num_workers=mp.cpu_count() - 2)\n",
    "\n",
    "NETWORK = torch_model.densenet121(torch_model.DenseNet121_Weights.DEFAULT)\n",
    "\n",
    "for param in NETWORK.parameters():\n",
    "    param.requires_grad = False\n",
    "\n",
    "NETWORK.classifier = optim1(1024)\n",
    "\n",
    "OPTIMIZER = torch.optim.Adam(\n",
    "    NETWORK.classifier.parameters(), lr=LEARNING_RATE\n",
    ")\n",
    "\n",
    "EPOCHS = 5\n",
    "\n",
    "start_time = time.time()\n",
    "trained_model = train(NETWORK, DEVICE, train_data_loader, test_data_loader, OPTIMIZER, LOSS, EPOCHS)\n",
    "\n",
    "print()\n",
    "print(f\"Total time: {time.time() - start_time:.2f}\")"
   ]
  },
  {
   "cell_type": "markdown",
   "metadata": {},
   "source": [
    "optimization 2"
   ]
  },
  {
   "cell_type": "code",
   "execution_count": null,
   "metadata": {},
   "outputs": [],
   "source": [
    "transform = torch_model.DenseNet121_Weights.DEFAULT.transforms()\n",
    "\n",
    "train_dataset = torchvision.datasets.CIFAR10(root = os.getcwd(), train = True, download = True, transform = transform)\n",
    "test_dataset = torchvision.datasets.CIFAR10(root = os.getcwd(), train = False, download = True, transform = transform)\n",
    "\n",
    "train_data_loader = torch.utils.data.DataLoader(train_dataset, batch_size = 128, shuffle = True, num_workers=mp.cpu_count() - 2)\n",
    "test_data_loader = torch.utils.data.DataLoader(test_dataset, batch_size = 128, shuffle = False, num_workers=mp.cpu_count() - 2)\n",
    "\n",
    "NETWORK = torch_model.densenet121(torch_model.DenseNet121_Weights.DEFAULT)\n",
    "\n",
    "for param in NETWORK.parameters():\n",
    "    param.requires_grad = False\n",
    "\n",
    "NETWORK.classifier = optim2(1024)\n",
    "\n",
    "OPTIMIZER = torch.optim.Adam(\n",
    "    NETWORK.classifier.parameters(), lr=LEARNING_RATE\n",
    ")\n",
    "\n",
    "EPOCHS = 5\n",
    "\n",
    "start_time = time.time()\n",
    "trained_model = train(NETWORK, DEVICE, train_data_loader, test_data_loader, OPTIMIZER, LOSS, EPOCHS)\n",
    "\n",
    "print()\n",
    "print(f\"Total time: {time.time() - start_time:.2f}\")"
   ]
  },
  {
   "cell_type": "markdown",
   "metadata": {},
   "source": [
    "ResNeXt50_32X4D"
   ]
  },
  {
   "cell_type": "markdown",
   "metadata": {},
   "source": [
    "optimization 1"
   ]
  },
  {
   "cell_type": "code",
   "execution_count": null,
   "metadata": {},
   "outputs": [],
   "source": [
    "transform = torch_model.ResNeXt50_32X4D_Weights.DEFAULT.transforms()\n",
    "\n",
    "train_dataset = torchvision.datasets.CIFAR10(root = os.getcwd(), train = True, download = True, transform = transform)\n",
    "test_dataset = torchvision.datasets.CIFAR10(root = os.getcwd(), train = False, download = True, transform = transform)\n",
    "\n",
    "train_data_loader = torch.utils.data.DataLoader(train_dataset, batch_size = 128, shuffle = True, num_workers=mp.cpu_count() - 2)\n",
    "test_data_loader = torch.utils.data.DataLoader(test_dataset, batch_size = 128, shuffle = False, num_workers=mp.cpu_count() - 2)\n",
    "\n",
    "NETWORK = torch_model.resnext50_32x4d(torch_model.ResNeXt50_32X4D_Weights.DEFAULT)\n",
    "\n",
    "for param in NETWORK.parameters():\n",
    "    param.requires_grad = False\n",
    "\n",
    "NETWORK.fc = optim1(2048)\n",
    "\n",
    "OPTIMIZER = torch.optim.Adam(\n",
    "    NETWORK.fc.parameters(), lr=LEARNING_RATE\n",
    ")\n",
    "\n",
    "EPOCHS = 5\n",
    "\n",
    "start_time = time.time()\n",
    "trained_model = train(NETWORK, DEVICE, train_data_loader, test_data_loader, OPTIMIZER, LOSS, EPOCHS)\n",
    "\n",
    "print()\n",
    "print(f\"Total time: {time.time() - start_time:.2f}\")"
   ]
  },
  {
   "cell_type": "markdown",
   "metadata": {},
   "source": [
    "optimization 2"
   ]
  },
  {
   "cell_type": "code",
   "execution_count": null,
   "metadata": {},
   "outputs": [],
   "source": [
    "transform = torch_model.ResNeXt50_32X4D_Weights.DEFAULT.transforms()\n",
    "\n",
    "train_dataset = torchvision.datasets.CIFAR10(root = os.getcwd(), train = True, download = True, transform = transform)\n",
    "test_dataset = torchvision.datasets.CIFAR10(root = os.getcwd(), train = False, download = True, transform = transform)\n",
    "\n",
    "train_data_loader = torch.utils.data.DataLoader(train_dataset, batch_size = 128, shuffle = True, num_workers=mp.cpu_count() - 2)\n",
    "test_data_loader = torch.utils.data.DataLoader(test_dataset, batch_size = 128, shuffle = False, num_workers=mp.cpu_count() - 2)\n",
    "\n",
    "NETWORK = torch_model.resnext50_32x4d(torch_model.ResNeXt50_32X4D_Weights.DEFAULT)\n",
    "\n",
    "for param in NETWORK.parameters():\n",
    "    param.requires_grad = False\n",
    "\n",
    "NETWORK.fc = optim2(2048)\n",
    "\n",
    "OPTIMIZER = torch.optim.Adam(\n",
    "    NETWORK.fc.parameters(), lr=LEARNING_RATE\n",
    ")\n",
    "\n",
    "EPOCHS = 5\n",
    "\n",
    "start_time = time.time()\n",
    "trained_model = train(NETWORK, DEVICE, train_data_loader, test_data_loader, OPTIMIZER, LOSS, EPOCHS)\n",
    "\n",
    "print()\n",
    "print(f\"Total time: {time.time() - start_time:.2f}\")"
   ]
  },
  {
   "cell_type": "markdown",
   "metadata": {},
   "source": [
    "ViT_B_16"
   ]
  },
  {
   "cell_type": "markdown",
   "metadata": {},
   "source": [
    "optimization 1"
   ]
  },
  {
   "cell_type": "code",
   "execution_count": null,
   "metadata": {},
   "outputs": [],
   "source": [
    "transform = torch_model.ViT_B_16_Weights.DEFAULT.transforms()\n",
    "\n",
    "train_dataset = torchvision.datasets.CIFAR10(root = os.getcwd(), train = True, download = True, transform = transform)\n",
    "test_dataset = torchvision.datasets.CIFAR10(root = os.getcwd(), train = False, download = True, transform = transform)\n",
    "\n",
    "train_data_loader = torch.utils.data.DataLoader(train_dataset, batch_size = 128, shuffle = True, num_workers=mp.cpu_count() - 2)\n",
    "test_data_loader = torch.utils.data.DataLoader(test_dataset, batch_size = 128, shuffle = False, num_workers=mp.cpu_count() - 2)\n",
    "\n",
    "NETWORK = torch_model.vit_b_16(torch_model.ViT_B_16_Weights.DEFAULT)\n",
    "\n",
    "for param in NETWORK.parameters():\n",
    "    param.requires_grad = False\n",
    "\n",
    "NETWORK.heads = optim1(768)\n",
    "\n",
    "OPTIMIZER = torch.optim.Adam(\n",
    "    NETWORK.heads.parameters(), lr=LEARNING_RATE\n",
    ")\n",
    "\n",
    "EPOCHS = 5\n",
    "\n",
    "start_time = time.time()\n",
    "trained_model = train(NETWORK, DEVICE, train_data_loader, test_data_loader, OPTIMIZER, LOSS, EPOCHS)\n",
    "\n",
    "print()\n",
    "print(f\"Total time: {time.time() - start_time:.2f}\")"
   ]
  },
  {
   "cell_type": "markdown",
   "metadata": {},
   "source": [
    "optimization 2"
   ]
  },
  {
   "cell_type": "code",
   "execution_count": null,
   "metadata": {},
   "outputs": [],
   "source": [
    "transform = torch_model.ViT_B_16_Weights.DEFAULT.transforms()\n",
    "\n",
    "train_dataset = torchvision.datasets.CIFAR10(root = os.getcwd(), train = True, download = True, transform = transform)\n",
    "test_dataset = torchvision.datasets.CIFAR10(root = os.getcwd(), train = False, download = True, transform = transform)\n",
    "\n",
    "train_data_loader = torch.utils.data.DataLoader(train_dataset, batch_size = 128, shuffle = True, num_workers=mp.cpu_count() - 2)\n",
    "test_data_loader = torch.utils.data.DataLoader(test_dataset, batch_size = 128, shuffle = False, num_workers=mp.cpu_count() - 2)\n",
    "\n",
    "NETWORK = torch_model.vit_b_16(torch_model.ViT_B_16_Weights.DEFAULT)\n",
    "\n",
    "for param in NETWORK.parameters():\n",
    "    param.requires_grad = False\n",
    "\n",
    "NETWORK.heads = optim2(768)\n",
    "\n",
    "OPTIMIZER = torch.optim.Adam(\n",
    "    NETWORK.heads.parameters(), lr=LEARNING_RATE\n",
    ")\n",
    "\n",
    "EPOCHS = 5\n",
    "\n",
    "start_time = time.time()\n",
    "trained_model = train(NETWORK, DEVICE, train_data_loader, test_data_loader, OPTIMIZER, LOSS, EPOCHS)\n",
    "\n",
    "print()\n",
    "print(f\"Total time: {time.time() - start_time:.2f}\")"
   ]
  },
  {
   "cell_type": "markdown",
   "metadata": {},
   "source": [
    "Гистограмма"
   ]
  },
  {
   "cell_type": "code",
   "execution_count": 11,
   "metadata": {},
   "outputs": [
    {
     "data": {
      "image/png": "[encoded data removed]",
      "text/plain": [
       "<Figure size 1600x600 with 1 Axes>"
      ]
     },
     "metadata": {},
     "output_type": "display_data"
    }
   ],
   "source": [
    "data = { \n",
    "    \"my_DenseNet\": 0.8690,\n",
    "\n",
    "    \"resnet18\\noptm1\": 0.7792,\n",
    "    \"resnet18\\noptm2\": 0.7899,\n",
    "\n",
    "    \"DenseNet121\\noptm1\": 0.8004,\n",
    "    \"DenseNet121\\noptm2\": 0.8038,\n",
    "\n",
    "    \"ResNeXt50_32X4D\\noptm1\": 0.8319,\n",
    "    \"ResNeXt50_32X4D\\noptm2\": 0.8255,\n",
    "\n",
    "    \"ViT_B_16\\noptm1\": 0.9503,\n",
    "    \"ViT_B_16\\noptm2\": 0.9530,\n",
    "}\n",
    "\n",
    "\n",
    "sns.set(rc={'figure.figsize': (16, 6)})\n",
    "\n",
    "ax = sns.barplot(data=data)\n",
    "\n",
    "for i in ax.containers:\n",
    "    ax.bar_label(i,)"
   ]
  }
 ],
 "metadata": {
  "kernelspec": {
   "display_name": "Python 3",
   "language": "python",
   "name": "python3"
  },
  "language_info": {
   "codemirror_mode": {
    "name": "ipython",
    "version": 3
   },
   "file_extension": ".py",
   "mimetype": "text/x-python",
   "name": "python",
   "nbconvert_exporter": "python",
   "pygments_lexer": "ipython3",
   "version": "3.11.3"
  }
 },
 "nbformat": 4,
 "nbformat_minor": 2
}
