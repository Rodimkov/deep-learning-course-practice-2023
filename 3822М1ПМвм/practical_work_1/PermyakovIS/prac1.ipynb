{
 "cells": [
  {
   "cell_type": "code",
   "execution_count": 1,
   "metadata": {},
   "outputs": [
    {
     "name": "stderr",
     "output_type": "stream",
     "text": [
      "c:\\Users\\blizz\\AppData\\Local\\Programs\\Python\\Python311\\Lib\\site-packages\\torchvision\\io\\image.py:13: UserWarning: Failed to load image Python extension: '[WinError 127] Не найдена указанная процедура'If you don't plan on using image functionality from `torchvision.io`, you can ignore this warning. Otherwise, there might be something wrong with your environment. Did you have `libjpeg` or `libpng` installed before building `torchvision` from source?\n",
      "  warn(\n"
     ]
    }
   ],
   "source": [
    "import math\n",
    "import torch\n",
    "import torchvision\n",
    "import torchvision.datasets\n",
    "import torchvision.transforms\n",
    "import torch.utils.data\n",
    "import torch.nn as nn\n",
    "import torch.nn.functional as F\n",
    "import numpy\n",
    "import os\n",
    "import time\n",
    "import matplotlib.pyplot\n"
   ]
  },
  {
   "cell_type": "code",
   "execution_count": 2,
   "metadata": {},
   "outputs": [
    {
     "name": "stdout",
     "output_type": "stream",
     "text": [
      "True\n"
     ]
    }
   ],
   "source": [
    "train_on_gpu = torch.cuda.is_available()\n",
    "print(train_on_gpu)"
   ]
  },
  {
   "cell_type": "code",
   "execution_count": 3,
   "metadata": {},
   "outputs": [
    {
     "name": "stdout",
     "output_type": "stream",
     "text": [
      "Files already downloaded and verified\n",
      "Files already downloaded and verified\n"
     ]
    }
   ],
   "source": [
    "transform_train = torchvision.transforms.Compose([\n",
    "    torchvision.transforms.RandomCrop(32, padding=4),\n",
    "    torchvision.transforms.RandomHorizontalFlip(),\n",
    "    torchvision.transforms.ToTensor(),\n",
    "    torchvision.transforms.Normalize((0.4914, 0.4822, 0.4465), (0.247, 0.2435, 0.2616)),\n",
    "])\n",
    "\n",
    "transform_test = torchvision.transforms.Compose([\n",
    "    torchvision.transforms.ToTensor(),\n",
    "    torchvision.transforms.Normalize((0.4914, 0.4822, 0.4465), (0.247, 0.2435, 0.2616)),\n",
    "])\n",
    "\n",
    "trainset = torchvision.datasets.CIFAR10(\n",
    "    root='./data', train=True, download=True, transform=transform_train)\n",
    "trainloader = torch.utils.data.DataLoader(\n",
    "    trainset, batch_size=256, shuffle=True)\n",
    "\n",
    "testset = torchvision.datasets.CIFAR10(\n",
    "    root='./data', train=False, download=True, transform=transform_test)\n",
    "testloader = torch.utils.data.DataLoader(\n",
    "    testset, batch_size=256, shuffle=False)"
   ]
  },
  {
   "cell_type": "code",
   "execution_count": 13,
   "metadata": {},
   "outputs": [
    {
     "name": "stdout",
     "output_type": "stream",
     "text": [
      "Label: 9\n"
     ]
    },
    {
     "data": {
      "image/png": "[encoded data removed]",
      "text/plain": [
       "<Figure size 640x480 with 1 Axes>"
      ]
     },
     "metadata": {},
     "output_type": "display_data"
    }
   ],
   "source": [
    "names = ('frog', 'dog', 'plane', 'car', 'cat', 'deer', 'bird', 'horse', 'ship', 'truck')\n",
    "\n",
    "def denorm(image, means, stds):\n",
    "    means = torch.tensor(means).reshape(3, 1, 1)\n",
    "    stds = torch.tensor(stds).reshape(3, 1, 1)\n",
    "    return image * stds + means\n",
    "\n",
    "def show_images(images, title):\n",
    "    fig, axes = matplotlib.pyplot.subplots(5, 5, figsize = (5, 5))\n",
    "    fig.suptitle(title)\n",
    "    matplotlib.pyplot.setp(matplotlib.pyplot.gcf().get_axes(), xticks = [], yticks = [])\n",
    "    for i, ax in enumerate(axes.flat):\n",
    "        img = denorm(images[i][0], params, stds)\n",
    "        img = img.numpy().transpose(1, 2, 0)\n",
    "        ax.imshow((img * 255).astype('uint8'))\n",
    "\n",
    "def view_image(image, title):\n",
    "    img = denorm(image[0], [0.4913996756076813, 0.48215848207473755, 0.44653090834617615], [0.24703224003314972, 0.24348513782024384, 0.26158785820007324])\n",
    "    img = img.numpy().transpose(1, 2, 0)\n",
    "    matplotlib.pyplot.title(\"{}: {}\".format(title, names[image[1]]))\n",
    "    matplotlib.pyplot.imshow((img * 255).astype('uint8'))\n",
    "\n",
    "ind = 1\n",
    "view_image(trainset[ind], 'Sample')\n",
    "print('Label: {}'.format(trainset[ind][1]))"
   ]
  },
  {
   "cell_type": "markdown",
   "metadata": {},
   "source": [
    "densenet"
   ]
  },
  {
   "cell_type": "code",
   "execution_count": 4,
   "metadata": {},
   "outputs": [],
   "source": [
    "class Bottleneck(nn.Module):\n",
    "    def __init__(self, in_planes, growth_rate):\n",
    "        super(Bottleneck, self).__init__()\n",
    "        self.bn1 = nn.BatchNorm2d(in_planes)\n",
    "        self.conv1 = nn.Conv2d(in_planes, 4*growth_rate, kernel_size=1, bias=False)\n",
    "        self.bn2 = nn.BatchNorm2d(4*growth_rate)\n",
    "        self.conv2 = nn.Conv2d(4*growth_rate, growth_rate, kernel_size=3, padding=1, bias=False)\n",
    "\n",
    "    def forward(self, x):\n",
    "        out = self.conv1(F.relu(self.bn1(x)))\n",
    "        out = self.conv2(F.relu(self.bn2(out)))\n",
    "        out = torch.cat([out,x], 1)\n",
    "        return out\n",
    "\n",
    "\n",
    "class Transition(nn.Module):\n",
    "    def __init__(self, in_planes, out_planes):\n",
    "        super(Transition, self).__init__()\n",
    "        self.bn = nn.BatchNorm2d(in_planes)\n",
    "        self.conv = nn.Conv2d(in_planes, out_planes, kernel_size=1, bias=False)\n",
    "\n",
    "    def forward(self, x):\n",
    "        out = self.conv(F.relu(self.bn(x)))\n",
    "        out = F.avg_pool2d(out, 2)\n",
    "        return out\n",
    "\n",
    "\n",
    "class DenseNet(nn.Module):\n",
    "    def __init__(self, block, nblocks, growth_rate=12, reduction=0.5, num_classes=10):\n",
    "        super(DenseNet, self).__init__()\n",
    "        self.growth_rate = growth_rate\n",
    "\n",
    "        num_planes = 2*growth_rate\n",
    "        self.conv1 = nn.Conv2d(3, num_planes, kernel_size=3, padding=1, bias=False)\n",
    "\n",
    "        self.dense1 = self._make_dense_layers(block, num_planes, nblocks[0])\n",
    "        num_planes += nblocks[0]*growth_rate\n",
    "        out_planes = int(math.floor(num_planes*reduction))\n",
    "        self.trans1 = Transition(num_planes, out_planes)\n",
    "        num_planes = out_planes\n",
    "\n",
    "        self.dense2 = self._make_dense_layers(block, num_planes, nblocks[1])\n",
    "        num_planes += nblocks[1]*growth_rate\n",
    "        out_planes = int(math.floor(num_planes*reduction))\n",
    "        self.trans2 = Transition(num_planes, out_planes)\n",
    "        num_planes = out_planes\n",
    "\n",
    "        self.dense3 = self._make_dense_layers(block, num_planes, nblocks[2])\n",
    "        num_planes += nblocks[2]*growth_rate\n",
    "        out_planes = int(math.floor(num_planes*reduction))\n",
    "        self.trans3 = Transition(num_planes, out_planes)\n",
    "        num_planes = out_planes\n",
    "\n",
    "        self.dense4 = self._make_dense_layers(block, num_planes, nblocks[3])\n",
    "        num_planes += nblocks[3]*growth_rate\n",
    "\n",
    "        self.bn = nn.BatchNorm2d(num_planes)\n",
    "        self.linear = nn.Linear(num_planes, num_classes)\n",
    "\n",
    "    def _make_dense_layers(self, block, in_planes, nblock):\n",
    "        layers = []\n",
    "        for i in range(nblock):\n",
    "            layers.append(block(in_planes, self.growth_rate))\n",
    "            in_planes += self.growth_rate\n",
    "        return nn.Sequential(*layers)\n",
    "\n",
    "    def forward(self, x):\n",
    "        out = self.conv1(x)\n",
    "        out = self.trans1(self.dense1(out))\n",
    "        out = self.trans2(self.dense2(out))\n",
    "        out = self.trans3(self.dense3(out))\n",
    "        out = self.dense4(out)\n",
    "        out = F.avg_pool2d(F.relu(self.bn(out)), 4)\n",
    "        out = out.view(out.size(0), -1)\n",
    "        out = self.linear(out)\n",
    "        return out\n",
    "\n",
    "def DenseNet121():\n",
    "    return DenseNet(Bottleneck, [6,12,24,16], growth_rate=12)"
   ]
  },
  {
   "cell_type": "code",
   "execution_count": 5,
   "metadata": {},
   "outputs": [
    {
     "data": {
      "text/plain": [
       "device(type='cuda')"
      ]
     },
     "execution_count": 5,
     "metadata": {},
     "output_type": "execute_result"
    }
   ],
   "source": [
    "cnn_model = DenseNet121()\n",
    "\n",
    "loss_function = nn.CrossEntropyLoss()\n",
    "optimizer = torch.optim.SGD(cnn_model.parameters(), lr=0.1, momentum=0.9, weight_decay=1e-4)\n",
    "\n",
    "\n",
    "device = torch.device(\"cuda\" if torch.cuda.is_available() else \"cpu\")\n",
    "cnn_model.to(device)\n",
    "device"
   ]
  },
  {
   "cell_type": "code",
   "execution_count": 6,
   "metadata": {},
   "outputs": [],
   "source": [
    "def get_accuracy(model, data_loader, device):\n",
    "    tp = 0\n",
    "    n = 0\n",
    "    with torch.no_grad():\n",
    "        for images, labels in data_loader:\n",
    "            labels = labels.to(device)\n",
    "            images = images.to(device)\n",
    "            outputs = model(images)\n",
    "            _, predicted = torch.max(outputs.data, 1)\n",
    "            n += labels.size(0)\n",
    "            tp += (predicted == labels).sum()\n",
    "    return tp / n\n",
    "\n",
    "def get_loss(model, data_loader, device):\n",
    "    loss = 0\n",
    "    n = 0\n",
    "    with torch.no_grad():\n",
    "        for images, labels in data_loader:\n",
    "            labels = labels.to(device)\n",
    "            images = images.to(device)\n",
    "            outputs = model(images)\n",
    "            loss += loss_function(outputs, labels)\n",
    "            n += labels.size(0)\n",
    "    return loss / n\n",
    "\n",
    "def accuracy(outputs, labels):\n",
    "    _, predicted = torch.max(outputs.data, 1)\n",
    "    return torch.tensor(torch.sum(predicted == labels).item() / len(predicted))\n",
    "\n",
    "def train(cnn_model, data_loader, epochs, loss_function, optimizer, device):\n",
    "    start = time.time()\n",
    "    for epoch in range(epochs):\n",
    "        startep = time.time()\n",
    "        accs = []\n",
    "        lss = []\n",
    "\n",
    "        for i, (images, labels) in enumerate(data_loader):\n",
    "\n",
    "            images = images.to(device)\n",
    "            labels = labels.to(device)\n",
    "\n",
    "            #print(1)\n",
    "            optimizer.zero_grad()\n",
    "            #print(2)\n",
    "            outputs = cnn_model(images)\n",
    "            #print(3)\n",
    "            loss = loss_function(outputs, labels)\n",
    "            #print(4)\n",
    "            loss.backward()\n",
    "            #print(5)\n",
    "            optimizer.step()\n",
    "\n",
    "            acc = accuracy(outputs, labels)\n",
    "            lss.append(loss)\n",
    "            accs.append(acc)\n",
    "\n",
    "            endep = time.time()\n",
    "\n",
    "        print('Epoch {}: loss = {}, acc = {}, time = {}'.format(epoch + 1, torch.stack(lss).mean(), torch.stack(accs).mean(), endep-startep))\n",
    "    end = time.time()\n",
    "    print('Total time {}'.format(end - start))\n"
   ]
  },
  {
   "cell_type": "code",
   "execution_count": 7,
   "metadata": {},
   "outputs": [
    {
     "name": "stdout",
     "output_type": "stream",
     "text": [
      "Epoch 1: loss = 1.5604145526885986, acc = 0.42161989212036133, time = 72.50375604629517\n",
      "Epoch 2: loss = 1.048887014389038, acc = 0.6250039935112, time = 70.76117587089539\n",
      "Epoch 3: loss = 0.8009975552558899, acc = 0.7154416441917419, time = 70.6006510257721\n",
      "Epoch 4: loss = 0.6494734883308411, acc = 0.7731943726539612, time = 70.63005685806274\n",
      "Epoch 5: loss = 0.5500002503395081, acc = 0.8076609969139099, time = 70.62505197525024\n",
      "Epoch 6: loss = 0.48343899846076965, acc = 0.8328921794891357, time = 70.59202265739441\n",
      "Epoch 7: loss = 0.43238669633865356, acc = 0.8498286008834839, time = 70.5716142654419\n",
      "Epoch 8: loss = 0.3966194689273834, acc = 0.8621851205825806, time = 70.57600784301758\n",
      "Epoch 9: loss = 0.3623863458633423, acc = 0.8727240562438965, time = 71.14452314376831\n",
      "Epoch 10: loss = 0.3337022662162781, acc = 0.8830835819244385, time = 70.7501654624939\n",
      "Epoch 11: loss = 0.31314313411712646, acc = 0.8917809128761292, time = 70.86126637458801\n",
      "Epoch 12: loss = 0.3008894622325897, acc = 0.8942800760269165, time = 70.84425139427185\n",
      "Epoch 13: loss = 0.2768605053424835, acc = 0.9025749564170837, time = 70.86126637458801\n",
      "Epoch 14: loss = 0.26559221744537354, acc = 0.9081711769104004, time = 71.7390627861023\n",
      "Epoch 15: loss = 0.25076475739479065, acc = 0.9119937419891357, time = 72.08537721633911\n",
      "Epoch 16: loss = 0.23794513940811157, acc = 0.9155811667442322, time = 72.11640501022339\n",
      "Epoch 17: loss = 0.22694918513298035, acc = 0.9188018441200256, time = 72.03833436965942\n",
      "Epoch 18: loss = 0.21796658635139465, acc = 0.9238520264625549, time = 72.17946195602417\n",
      "Epoch 19: loss = 0.21196138858795166, acc = 0.9251912832260132, time = 72.01931691169739\n",
      "Epoch 20: loss = 0.20304274559020996, acc = 0.9283362627029419, time = 72.03633236885071\n",
      "Epoch 21: loss = 0.19242346286773682, acc = 0.9317163825035095, time = 72.06435751914978\n",
      "Epoch 22: loss = 0.1853121966123581, acc = 0.9338727593421936, time = 71.96426701545715\n",
      "Epoch 23: loss = 0.18209445476531982, acc = 0.936124861240387, time = 72.05935311317444\n",
      "Epoch 24: loss = 0.17156046628952026, acc = 0.9390584826469421, time = 72.10239243507385\n",
      "Epoch 25: loss = 0.1641615480184555, acc = 0.9423508644104004, time = 72.21749663352966\n",
      "Epoch 26: loss = 0.16128404438495636, acc = 0.9427774548530579, time = 72.31658697128296\n",
      "Epoch 27: loss = 0.15732325613498688, acc = 0.9436184763908386, time = 72.06936240196228\n",
      "Epoch 28: loss = 0.15523722767829895, acc = 0.9437141418457031, time = 72.04734206199646\n",
      "Epoch 29: loss = 0.1439756453037262, acc = 0.9490792155265808, time = 72.02632331848145\n",
      "Epoch 30: loss = 0.14735326170921326, acc = 0.9463488459587097, time = 281.45826411247253\n",
      "Epoch 31: loss = 0.13787920773029327, acc = 0.9502232074737549, time = 115.58282589912415\n",
      "Epoch 32: loss = 0.13705728948116302, acc = 0.9522082209587097, time = 71.31067419052124\n",
      "Epoch 33: loss = 0.13277095556259155, acc = 0.9528858661651611, time = 71.31017851829529\n",
      "Epoch 34: loss = 0.1336679309606552, acc = 0.9530133605003357, time = 71.31067395210266\n",
      "Epoch 35: loss = 0.12861737608909607, acc = 0.953874409198761, time = 71.32869052886963\n",
      "Epoch 36: loss = 0.123399518430233, acc = 0.9564692378044128, time = 71.28965520858765\n",
      "Epoch 37: loss = 0.12222079932689667, acc = 0.9570551514625549, time = 71.34070110321045\n",
      "Epoch 38: loss = 0.11830034106969833, acc = 0.9579201340675354, time = 71.33069252967834\n",
      "Epoch 39: loss = 0.11443622410297394, acc = 0.9590481519699097, time = 282.37409496307373\n",
      "Epoch 40: loss = 0.11475465446710587, acc = 0.9604471921920776, time = 284.9634439945221\n",
      "Epoch 41: loss = 0.11409076303243637, acc = 0.9603316783905029, time = 285.2036612033844\n",
      "Epoch 42: loss = 0.11642862856388092, acc = 0.958757221698761, time = 285.1567451953888\n",
      "Epoch 43: loss = 0.11106821894645691, acc = 0.9607979655265808, time = 149.15481424331665\n",
      "Epoch 44: loss = 0.1097407191991806, acc = 0.9606744647026062, time = 72.25152730941772\n",
      "Epoch 45: loss = 0.10879608988761902, acc = 0.9619100689888, time = 71.78310227394104\n",
      "Epoch 46: loss = 0.10898204147815704, acc = 0.9620057940483093, time = 71.81012725830078\n",
      "Epoch 47: loss = 0.10232775658369064, acc = 0.9638512134552002, time = 71.78510475158691\n",
      "Epoch 48: loss = 0.11063279956579208, acc = 0.9608936905860901, time = 71.85216522216797\n",
      "Epoch 49: loss = 0.10713808983564377, acc = 0.9611926078796387, time = 285.5810034275055\n",
      "Epoch 50: loss = 0.09568516165018082, acc = 0.9658442139625549, time = 285.3958351612091\n",
      "Epoch 51: loss = 0.10053884238004684, acc = 0.965246319770813, time = 285.1566185951233\n",
      "Epoch 52: loss = 0.09576829522848129, acc = 0.9652861952781677, time = 282.8835563659668\n",
      "Epoch 53: loss = 0.10172715038061142, acc = 0.9632134437561035, time = 284.82732009887695\n",
      "Epoch 54: loss = 0.10665448009967804, acc = 0.9619300365447998, time = 285.4158537387848\n",
      "Epoch 55: loss = 0.09074253588914871, acc = 0.9677016735076904, time = 285.23728823661804\n",
      "Epoch 56: loss = 0.08951666951179504, acc = 0.9686424136161804, time = 285.4108488559723\n",
      "Epoch 57: loss = 0.09388680011034012, acc = 0.9666812419891357, time = 285.31576228141785\n",
      "Epoch 58: loss = 0.09507641196250916, acc = 0.9668406844139099, time = 284.5037353038788\n",
      "Epoch 59: loss = 0.10008830577135086, acc = 0.9652702212333679, time = 283.06972551345825\n",
      "Epoch 60: loss = 0.09832892566919327, acc = 0.9651705622673035, time = 285.63505268096924\n",
      "Epoch 61: loss = 0.09228494018316269, acc = 0.9673827886581421, time = 285.5990192890167\n",
      "Epoch 62: loss = 0.09247633814811707, acc = 0.967199444770813, time = 285.31376099586487\n",
      "Epoch 63: loss = 0.08752762526273727, acc = 0.9690848588943481, time = 285.52194929122925\n",
      "Epoch 64: loss = 0.09440213441848755, acc = 0.9659079909324646, time = 285.51904344558716\n",
      "Epoch 65: loss = 0.087434783577919, acc = 0.9694554805755615, time = 283.69929671287537\n",
      "Epoch 66: loss = 0.08997171372175217, acc = 0.9680445194244385, time = 283.9164938926697\n",
      "Epoch 67: loss = 0.0909925103187561, acc = 0.9686383605003357, time = 282.2279624938965\n",
      "Epoch 68: loss = 0.0930628627538681, acc = 0.9666972160339355, time = 285.44988441467285\n",
      "Epoch 69: loss = 0.0863523855805397, acc = 0.969323992729187, time = 285.49592638015747\n",
      "Epoch 70: loss = 0.08700613677501678, acc = 0.9677813649177551, time = 285.50793719291687\n",
      "Epoch 71: loss = 0.09374929964542389, acc = 0.9669523239135742, time = 285.68169236183167\n",
      "Epoch 72: loss = 0.08813431859016418, acc = 0.9692682027816772, time = 283.1117639541626\n",
      "Epoch 73: loss = 0.07986872643232346, acc = 0.9718071818351746, time = 284.5510687828064\n",
      "Epoch 74: loss = 0.08757459372282028, acc = 0.9690688848495483, time = 285.54797315597534\n",
      "Epoch 75: loss = 0.08545063436031342, acc = 0.9702367782592773, time = 283.8894693851471\n",
      "Epoch 76: loss = 0.08402002602815628, acc = 0.9704360961914062, time = 280.6635434627533\n",
      "Epoch 77: loss = 0.09051825106143951, acc = 0.9680485129356384, time = 280.6241204738617\n",
      "Epoch 78: loss = 0.08462060987949371, acc = 0.9703722596168518, time = 281.1606252193451\n",
      "Epoch 79: loss = 0.08784849941730499, acc = 0.9701610207557678, time = 282.9135844707489\n",
      "Epoch 80: loss = 0.08367234468460083, acc = 0.9703921675682068, time = 285.12659072875977\n",
      "Epoch 81: loss = 0.08681332319974899, acc = 0.9686822891235352, time = 285.4699025154114\n",
      "Epoch 82: loss = 0.08345037698745728, acc = 0.9701131582260132, time = 285.24169516563416\n",
      "Epoch 83: loss = 0.08286701887845993, acc = 0.9712452292442322, time = 285.48191356658936\n",
      "Epoch 84: loss = 0.08411070704460144, acc = 0.9701769948005676, time = 285.56098532676697\n",
      "Epoch 85: loss = 0.08144025504589081, acc = 0.9719308614730835, time = 284.5410602092743\n",
      "Epoch 86: loss = 0.08300415426492691, acc = 0.9713807106018066, time = 283.19083547592163\n",
      "Epoch 87: loss = 0.0904940664768219, acc = 0.968351423740387, time = 285.68309569358826\n",
      "Epoch 88: loss = 0.0839325413107872, acc = 0.9709542989730835, time = 285.4699022769928\n",
      "Epoch 89: loss = 0.08980710059404373, acc = 0.9681361317634583, time = 285.4268636703491\n",
      "Epoch 90: loss = 0.08282109349966049, acc = 0.9710021018981934, time = 285.49792766571045\n",
      "Epoch 91: loss = 0.08543762564659119, acc = 0.9704719185829163, time = 285.4628965854645\n",
      "Epoch 92: loss = 0.08579997718334198, acc = 0.9700454473495483, time = 283.69929671287537\n",
      "Epoch 93: loss = 0.07809499651193619, acc = 0.9727678894996643, time = 283.91749453544617\n",
      "Epoch 94: loss = 0.08226706087589264, acc = 0.9709900617599487, time = 285.6810939311981\n",
      "Epoch 95: loss = 0.08282505720853806, acc = 0.9714006781578064, time = 285.38942527770996\n",
      "Epoch 96: loss = 0.07847318053245544, acc = 0.9726283550262451, time = 285.41885709762573\n",
      "Epoch 97: loss = 0.08431381732225418, acc = 0.9707629084587097, time = 285.48191356658936\n",
      "Epoch 98: loss = 0.07977543771266937, acc = 0.9729472398757935, time = 285.6080274581909\n",
      "Epoch 99: loss = 0.08593185245990753, acc = 0.9698062539100647, time = 283.16781425476074\n",
      "Epoch 100: loss = 0.07615378499031067, acc = 0.974035382270813, time = 284.5650818347931\n",
      "Total time 19417.006204605103\n"
     ]
    }
   ],
   "source": [
    "train(cnn_model, trainloader, 100, loss_function, optimizer, device)"
   ]
  },
  {
   "cell_type": "code",
   "execution_count": 8,
   "metadata": {},
   "outputs": [
    {
     "name": "stdout",
     "output_type": "stream",
     "text": [
      "Loss = 0.0018476194236427546, acc = 0.8690999746322632\n"
     ]
    }
   ],
   "source": [
    "print('Loss = {}, acc = {}'.format(get_loss(cnn_model, testloader, device), get_accuracy(cnn_model, testloader, device)))"
   ]
  }
 ],
 "metadata": {
  "kernelspec": {
   "display_name": "Python 3",
   "language": "python",
   "name": "python3"
  },
  "language_info": {
   "codemirror_mode": {
    "name": "ipython",
    "version": 3
   },
   "file_extension": ".py",
   "mimetype": "text/x-python",
   "name": "python",
   "nbconvert_exporter": "python",
   "pygments_lexer": "ipython3",
   "version": "3.11.3"
  }
 },
 "nbformat": 4,
 "nbformat_minor": 2
}
