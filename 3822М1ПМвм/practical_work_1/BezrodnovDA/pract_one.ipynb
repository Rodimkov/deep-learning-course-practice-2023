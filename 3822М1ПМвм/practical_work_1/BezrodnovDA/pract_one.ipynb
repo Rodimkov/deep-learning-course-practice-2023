{
  "cells": [
    {
      "cell_type": "markdown",
      "source": [
        "#Разработка сверточной нейронной сети с использованием PyTorch"
      ],
      "metadata": {
        "id": "pTxCes80_laK"
      }
    },
    {
      "cell_type": "code",
      "execution_count": 2,
      "metadata": {
        "id": "yvOtJy-iJB9Z"
      },
      "outputs": [],
      "source": [
        "import torch\n",
        "import torch.nn as nn\n",
        "import torch.nn.functional as F\n",
        "import torch.optim as optim\n",
        "import torch.backends.cudnn as cudnn\n",
        "\n",
        "import torchvision\n",
        "import torchvision.transforms as transforms\n",
        "\n",
        "import os\n",
        "import argparse\n",
        "import time\n",
        "from time import perf_counter\n",
        "import sys\n",
        "\n",
        "from matplotlib import pyplot as plt\n",
        "import numpy as np"
      ]
    },
    {
      "cell_type": "markdown",
      "source": [
        "Загрузка датасета и определение корректности его загрузки"
      ],
      "metadata": {
        "id": "SVk_GQAD_s3X"
      }
    },
    {
      "cell_type": "code",
      "execution_count": 3,
      "metadata": {
        "colab": {
          "base_uri": "https://localhost:8080/"
        },
        "id": "uDSHDu3YPE-d",
        "outputId": "cfb0dbb2-81e2-498d-8645-102bba1cd30e"
      },
      "outputs": [
        {
          "output_type": "stream",
          "name": "stdout",
          "text": [
            "Downloading https://www.cs.toronto.edu/~kriz/cifar-10-python.tar.gz to ./data/cifar-10-python.tar.gz\n"
          ]
        },
        {
          "output_type": "stream",
          "name": "stderr",
          "text": [
            "100%|██████████| 170498071/170498071 [00:08<00:00, 21013075.95it/s]\n"
          ]
        },
        {
          "output_type": "stream",
          "name": "stdout",
          "text": [
            "Extracting ./data/cifar-10-python.tar.gz to ./data\n",
            "Files already downloaded and verified\n"
          ]
        }
      ],
      "source": [
        "transform_train = transforms.Compose([\n",
        "    transforms.RandomCrop(32, padding=4),\n",
        "    transforms.RandomHorizontalFlip(),\n",
        "    transforms.ToTensor(),\n",
        "    transforms.Normalize((0.4914, 0.4822, 0.4465), (0.2023, 0.1994, 0.2010)),\n",
        "])\n",
        "\n",
        "transform_test = transforms.Compose([\n",
        "    transforms.ToTensor(),\n",
        "    transforms.Normalize((0.4914, 0.4822, 0.4465), (0.2023, 0.1994, 0.2010)),\n",
        "])\n",
        "\n",
        "trainset = torchvision.datasets.CIFAR10(\n",
        "    root='./data', train=True, download=True, transform=transform_train)\n",
        "trainloader = torch.utils.data.DataLoader(\n",
        "    trainset, batch_size=128, shuffle=True, num_workers=2)\n",
        "\n",
        "testset = torchvision.datasets.CIFAR10(\n",
        "    root='./data', train=False, download=True, transform=transform_test)\n",
        "testloader = torch.utils.data.DataLoader(\n",
        "    testset, batch_size=100, shuffle=False, num_workers=2)"
      ]
    },
    {
      "cell_type": "code",
      "execution_count": 4,
      "metadata": {
        "colab": {
          "base_uri": "https://localhost:8080/"
        },
        "id": "9DZ4bOFKBpJ1",
        "outputId": "47f81c47-aabe-41ea-cf17-9553124294a6"
      },
      "outputs": [
        {
          "output_type": "stream",
          "name": "stdout",
          "text": [
            "Number of train samples: 50000\n",
            "Number of test samples: 10000\n"
          ]
        }
      ],
      "source": [
        "print('Number of train samples: {}'.format(len(trainset)))\n",
        "\n",
        "print('Number of test samples: {}'.format(len(testset)))\n"
      ]
    },
    {
      "cell_type": "code",
      "execution_count": 5,
      "metadata": {
        "colab": {
          "base_uri": "https://localhost:8080/",
          "height": 980
        },
        "id": "1hqrbdntDtTZ",
        "outputId": "3e803c14-614f-4f91-e98a-73c08f7247bd"
      },
      "outputs": [
        {
          "output_type": "stream",
          "name": "stderr",
          "text": [
            "WARNING:matplotlib.image:Clipping input data to the valid range for imshow with RGB data ([0..1] for floats or [0..255] for integers).\n"
          ]
        },
        {
          "output_type": "stream",
          "name": "stdout",
          "text": [
            "torch.Size([3, 32, 32])\n",
            "truck\n"
          ]
        },
        {
          "output_type": "display_data",
          "data": {
            "text/plain": [
              "<Figure size 200x200 with 1 Axes>"
            ],
            "image/png": "[encoded data removed]"
          },
          "metadata": {}
        },
        {
          "output_type": "stream",
          "name": "stderr",
          "text": [
            "WARNING:matplotlib.image:Clipping input data to the valid range for imshow with RGB data ([0..1] for floats or [0..255] for integers).\n"
          ]
        },
        {
          "output_type": "stream",
          "name": "stdout",
          "text": [
            "deer\n"
          ]
        },
        {
          "output_type": "display_data",
          "data": {
            "text/plain": [
              "<Figure size 200x200 with 1 Axes>"
            ],
            "image/png": "[encoded data removed]"
          },
          "metadata": {}
        },
        {
          "output_type": "stream",
          "name": "stderr",
          "text": [
            "WARNING:matplotlib.image:Clipping input data to the valid range for imshow with RGB data ([0..1] for floats or [0..255] for integers).\n"
          ]
        },
        {
          "output_type": "stream",
          "name": "stdout",
          "text": [
            "bird\n"
          ]
        },
        {
          "output_type": "display_data",
          "data": {
            "text/plain": [
              "<Figure size 200x200 with 1 Axes>"
            ],
            "image/png": "[encoded data removed]"
          },
          "metadata": {}
        },
        {
          "output_type": "stream",
          "name": "stdout",
          "text": [
            "frog\n"
          ]
        },
        {
          "output_type": "stream",
          "name": "stderr",
          "text": [
            "WARNING:matplotlib.image:Clipping input data to the valid range for imshow with RGB data ([0..1] for floats or [0..255] for integers).\n"
          ]
        },
        {
          "output_type": "display_data",
          "data": {
            "text/plain": [
              "<Figure size 200x200 with 1 Axes>"
            ],
            "image/png": "[encoded data removed]"
          },
          "metadata": {}
        }
      ],
      "source": [
        "def image_show(image_data):\n",
        "    np_image = image_data.numpy()\n",
        "    np_image = np.transpose(np_image, (1,2,0))\n",
        "    plt.figure(figsize = (2,2))\n",
        "    plt.imshow(np_image)\n",
        "    plt.show()\n",
        "\n",
        "data_iter = iter(trainloader)\n",
        "images,labels = next(data_iter)\n",
        "img_data = images[0]\n",
        "print(img_data.shape)\n",
        "classes = trainset.classes\n",
        "for i in range(1, 5):\n",
        "    print(classes[labels[i].item()])\n",
        "    image_show(images[i])"
      ]
    },
    {
      "cell_type": "code",
      "execution_count": 6,
      "metadata": {
        "colab": {
          "base_uri": "https://localhost:8080/",
          "height": 980
        },
        "id": "tZLxSUcPGu_I",
        "outputId": "a8698d34-d6fe-4d21-9ec6-702be91b20f0"
      },
      "outputs": [
        {
          "output_type": "stream",
          "name": "stderr",
          "text": [
            "WARNING:matplotlib.image:Clipping input data to the valid range for imshow with RGB data ([0..1] for floats or [0..255] for integers).\n"
          ]
        },
        {
          "output_type": "stream",
          "name": "stdout",
          "text": [
            "torch.Size([3, 32, 32])\n",
            "ship\n"
          ]
        },
        {
          "output_type": "display_data",
          "data": {
            "text/plain": [
              "<Figure size 200x200 with 1 Axes>"
            ],
            "image/png": "[encoded data removed]"
          },
          "metadata": {}
        },
        {
          "output_type": "stream",
          "name": "stdout",
          "text": [
            "ship\n"
          ]
        },
        {
          "output_type": "stream",
          "name": "stderr",
          "text": [
            "WARNING:matplotlib.image:Clipping input data to the valid range for imshow with RGB data ([0..1] for floats or [0..255] for integers).\n"
          ]
        },
        {
          "output_type": "display_data",
          "data": {
            "text/plain": [
              "<Figure size 200x200 with 1 Axes>"
            ],
            "image/png": "[encoded data removed]"
          },
          "metadata": {}
        },
        {
          "output_type": "stream",
          "name": "stderr",
          "text": [
            "WARNING:matplotlib.image:Clipping input data to the valid range for imshow with RGB data ([0..1] for floats or [0..255] for integers).\n"
          ]
        },
        {
          "output_type": "stream",
          "name": "stdout",
          "text": [
            "airplane\n"
          ]
        },
        {
          "output_type": "display_data",
          "data": {
            "text/plain": [
              "<Figure size 200x200 with 1 Axes>"
            ],
            "image/png": "[encoded data removed]"
          },
          "metadata": {}
        },
        {
          "output_type": "stream",
          "name": "stderr",
          "text": [
            "WARNING:matplotlib.image:Clipping input data to the valid range for imshow with RGB data ([0..1] for floats or [0..255] for integers).\n"
          ]
        },
        {
          "output_type": "stream",
          "name": "stdout",
          "text": [
            "frog\n"
          ]
        },
        {
          "output_type": "display_data",
          "data": {
            "text/plain": [
              "<Figure size 200x200 with 1 Axes>"
            ],
            "image/png": "[encoded data removed]"
          },
          "metadata": {}
        }
      ],
      "source": [
        "data_iter = iter(testloader)\n",
        "images,labels = next(data_iter)\n",
        "img_data = images[0]\n",
        "print(img_data.shape)\n",
        "for i in range(1, 5):\n",
        "    print(classes[labels[i].item()])\n",
        "    image_show(images[i])"
      ]
    },
    {
      "cell_type": "markdown",
      "source": [
        "Реализация сети SENet"
      ],
      "metadata": {
        "id": "IJ3SobK0DDHF"
      }
    },
    {
      "cell_type": "code",
      "execution_count": 7,
      "metadata": {
        "id": "uUZM2FN_UumP"
      },
      "outputs": [],
      "source": [
        "class PreActBlock(nn.Module):\n",
        "    def __init__(self, in_planes, planes, stride=1):\n",
        "        super(PreActBlock, self).__init__()\n",
        "        self.bn1 = nn.BatchNorm2d(in_planes)\n",
        "        self.conv1 = nn.Conv2d(in_planes, planes, kernel_size=3, stride=stride, padding=1, bias=False)\n",
        "        self.bn2 = nn.BatchNorm2d(planes)\n",
        "        self.conv2 = nn.Conv2d(planes, planes, kernel_size=3, stride=1, padding=1, bias=False)\n",
        "\n",
        "        if stride != 1 or in_planes != planes:\n",
        "            self.shortcut = nn.Sequential(\n",
        "                nn.Conv2d(in_planes, planes, kernel_size=1, stride=stride, bias=False)\n",
        "            )\n",
        "\n",
        "        self.fc1 = nn.Conv2d(planes, planes//16, kernel_size=1)\n",
        "        self.fc2 = nn.Conv2d(planes//16, planes, kernel_size=1)\n",
        "\n",
        "    def forward(self, x):\n",
        "        out = F.relu(self.bn1(x))\n",
        "        shortcut = self.shortcut(out) if hasattr(self, 'shortcut') else x\n",
        "        out = self.conv1(out)\n",
        "        out = self.conv2(F.relu(self.bn2(out)))\n",
        "\n",
        "        w = F.avg_pool2d(out, out.size(2))\n",
        "        w = F.relu(self.fc1(w))\n",
        "        w = F.sigmoid(self.fc2(w))\n",
        "        out = out * w\n",
        "        out += shortcut\n",
        "        return out\n",
        "\n",
        "\n",
        "class SENet(nn.Module):\n",
        "    def __init__(self, block, num_blocks, num_classes=10):\n",
        "        super(SENet, self).__init__()\n",
        "        self.in_planes = 64\n",
        "\n",
        "        self.conv1 = nn.Conv2d(3, 64, kernel_size=3, stride=1, padding=1, bias=False)\n",
        "        self.bn1 = nn.BatchNorm2d(64)\n",
        "        self.layer1 = self._make_layer(block,  64, num_blocks[0], stride=1)\n",
        "        self.layer2 = self._make_layer(block, 128, num_blocks[1], stride=2)\n",
        "        self.layer3 = self._make_layer(block, 256, num_blocks[2], stride=2)\n",
        "        self.layer4 = self._make_layer(block, 512, num_blocks[3], stride=2)\n",
        "        self.linear = nn.Linear(512, num_classes)\n",
        "\n",
        "    def _make_layer(self, block, planes, num_blocks, stride):\n",
        "        strides = [stride] + [1]*(num_blocks-1)\n",
        "        layers = []\n",
        "        for stride in strides:\n",
        "            layers.append(block(self.in_planes, planes, stride))\n",
        "            self.in_planes = planes\n",
        "        return nn.Sequential(*layers)\n",
        "\n",
        "    def forward(self, x):\n",
        "        out = F.relu(self.bn1(self.conv1(x)))\n",
        "        out = self.layer1(out)\n",
        "        out = self.layer2(out)\n",
        "        out = self.layer3(out)\n",
        "        out = self.layer4(out)\n",
        "        out = F.avg_pool2d(out, 4)\n",
        "        out = out.view(out.size(0), -1)\n",
        "        out = self.linear(out)\n",
        "        return out"
      ]
    },
    {
      "cell_type": "code",
      "execution_count": 20,
      "metadata": {
        "id": "sqrgQqHAV10O"
      },
      "outputs": [],
      "source": [
        "loss_func = torch.nn.CrossEntropyLoss()\n",
        "model = SENet(PreActBlock, [2,2,2,2])\n",
        "device = torch.device(\"cuda\" if torch.cuda.is_available() else \"cpu\")\n",
        "model.to(device)\n",
        "\n",
        "optimizer = torch.optim.SGD(model.parameters(), lr = 0.01, momentum=0.9, weight_decay=5e-4)\n",
        "scheduler = torch.optim.lr_scheduler.CosineAnnealingLR(optimizer, T_max=200)\n",
        "\n",
        "def current_accuracy(outputs, labels):\n",
        "    _, predicted = torch.max(outputs.data, 1)\n",
        "    return torch.tensor(torch.sum(predicted == labels).item() / len(predicted))"
      ]
    },
    {
      "cell_type": "markdown",
      "source": [
        "Обучение"
      ],
      "metadata": {
        "id": "7CAvVW1oDSKy"
      }
    },
    {
      "cell_type": "code",
      "execution_count": 21,
      "metadata": {
        "colab": {
          "base_uri": "https://localhost:8080/"
        },
        "id": "SCefwMwzVPpX",
        "outputId": "9e9a2f77-b770-4737-ea7f-40d6ec5fa806"
      },
      "outputs": [
        {
          "output_type": "stream",
          "name": "stdout",
          "text": [
            "Epoch 0: loss = 1.4901835918426514, acc = 0.44779011607170105, time = 49.0372655580004\n",
            "Epoch 1: loss = 1.0020959377288818, acc = 0.6396939158439636, time = 48.61668350800028\n",
            "Epoch 2: loss = 0.7754130363464355, acc = 0.7258951663970947, time = 48.56622240999968\n",
            "Epoch 3: loss = 0.6414339542388916, acc = 0.7777013778686523, time = 48.29105559399977\n",
            "Epoch 4: loss = 0.5618970394134521, acc = 0.8056145906448364, time = 48.26479252199988\n",
            "Epoch 5: loss = 0.4991190731525421, acc = 0.8284407258033752, time = 48.433680049999566\n",
            "Epoch 6: loss = 0.4473845362663269, acc = 0.8449088931083679, time = 48.75707484299892\n",
            "Epoch 7: loss = 0.41248342394828796, acc = 0.8567814826965332, time = 48.31345264899937\n",
            "Epoch 8: loss = 0.37768399715423584, acc = 0.8699408769607544, time = 48.25014538399955\n",
            "Epoch 9: loss = 0.3478020131587982, acc = 0.87941974401474, time = 48.30195188899961\n",
            "Epoch 10: loss = 0.3314482867717743, acc = 0.8863730430603027, time = 48.41648407899993\n",
            "Epoch 11: loss = 0.3051176965236664, acc = 0.8940976858139038, time = 48.499369334998846\n",
            "Epoch 12: loss = 0.28764012455940247, acc = 0.9007152915000916, time = 48.56693561300017\n",
            "Epoch 13: loss = 0.2664276361465454, acc = 0.9067135453224182, time = 48.40501865099941\n",
            "Epoch 14: loss = 0.2590760290622711, acc = 0.9103739857673645, time = 48.41936105500099\n",
            "Epoch 15: loss = 0.2371331751346588, acc = 0.91780686378479, time = 48.46421876800014\n",
            "Epoch 16: loss = 0.22616803646087646, acc = 0.9204283952713013, time = 48.49674297599995\n",
            "Epoch 17: loss = 0.21558760106563568, acc = 0.9250599145889282, time = 48.560375811000995\n",
            "Epoch 18: loss = 0.20657742023468018, acc = 0.9289602041244507, time = 48.3905896870001\n",
            "Epoch 19: loss = 0.19889605045318604, acc = 0.9293198585510254, time = 48.373510086999886\n",
            "Epoch 20: loss = 0.18601088225841522, acc = 0.9337396025657654, time = 48.3910874510002\n",
            "Epoch 21: loss = 0.1824180781841278, acc = 0.9368606209754944, time = 48.467840941999384\n",
            "Epoch 22: loss = 0.17410904169082642, acc = 0.9396659135818481, time = 48.33083455400083\n",
            "Epoch 23: loss = 0.16661013662815094, acc = 0.9416999816894531, time = 48.46733206099998\n",
            "Epoch 24: loss = 0.15112651884555817, acc = 0.9476222991943359, time = 48.33254553900042\n",
            "Epoch 25: loss = 0.14915581047534943, acc = 0.9476702213287354, time = 48.32507454400002\n",
            "Epoch 26: loss = 0.1461489498615265, acc = 0.9492326974868774, time = 48.4773105889999\n",
            "Epoch 27: loss = 0.13588450849056244, acc = 0.9521779417991638, time = 48.44712424300087\n",
            "Epoch 28: loss = 0.1344924122095108, acc = 0.9521299600601196, time = 48.43895066099867\n",
            "Epoch 29: loss = 0.13089855015277863, acc = 0.9530330300331116, time = 48.45384437899884\n"
          ]
        }
      ],
      "source": [
        "for epoch in range(30):\n",
        "    loss_list = []\n",
        "    acc_list = []\n",
        "    time_one = perf_counter()\n",
        "    for batch_idx, (images, labels) in enumerate(trainloader):\n",
        "        images, labels = images.to(device), labels.to(device)\n",
        "        optimizer.zero_grad()\n",
        "        outputs = model(images)\n",
        "        loss = loss_func(outputs, labels)\n",
        "        loss_list.append(loss)\n",
        "        acc_list.append(current_accuracy(outputs, labels))\n",
        "        loss.backward()\n",
        "        optimizer.step()\n",
        "\n",
        "    time_two = perf_counter()\n",
        "    time = time_two-time_one\n",
        "    print('Epoch {}: loss = {}, acc = {}, time = {}'.format(epoch, torch.stack(loss_list).mean(), torch.stack(acc_list).mean(), time))"
      ]
    },
    {
      "cell_type": "code",
      "source": [
        "loss_list_test = []\n",
        "acc_list_test = []\n",
        "for batch_idx, (images, labels) in enumerate(testloader):\n",
        "    images, labels = images.to(device), labels.to(device)\n",
        "    optimizer.zero_grad()\n",
        "    outputs = model(images)\n",
        "    loss = loss_func(outputs, labels)\n",
        "    loss_list.append(loss)\n",
        "    acc_list.append(current_accuracy(outputs, labels))\n",
        "    loss.backward()\n",
        "    optimizer.step()\n",
        "\n",
        "print('Test loss = {}, Test acc = {}'.format(torch.stack(loss_list).mean(), torch.stack(acc_list).mean()))"
      ],
      "metadata": {
        "colab": {
          "base_uri": "https://localhost:8080/"
        },
        "id": "Y2oWW9SwuY3l",
        "outputId": "426320b0-8786-407d-9188-43521b469703"
      },
      "execution_count": 22,
      "outputs": [
        {
          "output_type": "stream",
          "name": "stdout",
          "text": [
            "Test loss = 0.1816520094871521, Test acc = 0.9372219443321228\n"
          ]
        }
      ]
    }
  ],
  "metadata": {
    "accelerator": "GPU",
    "colab": {
      "provenance": []
    },
    "kernelspec": {
      "display_name": "Python 3",
      "name": "python3"
    },
    "language_info": {
      "name": "python"
    }
  },
  "nbformat": 4,
  "nbformat_minor": 0
}