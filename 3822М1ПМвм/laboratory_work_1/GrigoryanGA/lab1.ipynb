{
 "cells": [
  {
   "cell_type": "markdown",
   "id": "c3187a51-44ab-4388-87c9-ad84fc9df12d",
   "metadata": {},
   "source": [
    "# Подкдючаем библиотеки"
   ]
  },
  {
   "cell_type": "code",
   "execution_count": 2,
   "id": "b99556d3-8ef4-4891-a434-4d5940bc797e",
   "metadata": {
    "execution": {
     "iopub.execute_input": "2023-11-01T19:06:11.922053Z",
     "iopub.status.busy": "2023-11-01T19:06:11.921498Z",
     "iopub.status.idle": "2023-11-01T19:06:18.747006Z",
     "shell.execute_reply": "2023-11-01T19:06:18.746400Z",
     "shell.execute_reply.started": "2023-11-01T19:06:11.922025Z"
    },
    "tags": []
   },
   "outputs": [],
   "source": [
    "import torch\n",
    "\n",
    "import torch.nn as nn\n",
    "\n",
    "from torchvision.datasets.utils import download_url\n",
    "from torchvision.datasets import ImageFolder\n",
    "from torchvision.transforms import ToTensor\n",
    "\n",
    "import tarfile\n",
    "\n",
    "import matplotlib.pyplot as plt\n",
    "%matplotlib inline\n",
    "\n",
    "from tqdm.notebook import tqdm, trange\n",
    "\n",
    "import time\n",
    "\n",
    "import os"
   ]
  },
  {
   "cell_type": "markdown",
   "id": "73a9984d-2495-4c6d-b545-ad472ae2bad6",
   "metadata": {},
   "source": [
    "# Скачиваем датасет"
   ]
  },
  {
   "cell_type": "code",
   "execution_count": 3,
   "id": "ab16390a-6921-4f43-a25c-0690c4d5c31c",
   "metadata": {
    "execution": {
     "iopub.execute_input": "2023-11-01T19:06:18.748450Z",
     "iopub.status.busy": "2023-11-01T19:06:18.747925Z",
     "iopub.status.idle": "2023-11-01T19:06:18.759999Z",
     "shell.execute_reply": "2023-11-01T19:06:18.759427Z",
     "shell.execute_reply.started": "2023-11-01T19:06:18.748427Z"
    },
    "tags": []
   },
   "outputs": [
    {
     "name": "stdout",
     "output_type": "stream",
     "text": [
      "Using downloaded and verified file: ./cifar10.tgz\n"
     ]
    }
   ],
   "source": [
    "dataset_url = \"https://s3.amazonaws.com/fast-ai-imageclas/cifar10.tgz\"\n",
    "download_url(dataset_url, '.')"
   ]
  },
  {
   "cell_type": "code",
   "execution_count": 4,
   "id": "f016541e-d1ca-474a-a4a1-fba21588c6a2",
   "metadata": {
    "execution": {
     "iopub.execute_input": "2023-11-01T19:06:18.761618Z",
     "iopub.status.busy": "2023-11-01T19:06:18.761009Z",
     "iopub.status.idle": "2023-11-01T19:07:36.060298Z",
     "shell.execute_reply": "2023-11-01T19:07:36.059587Z",
     "shell.execute_reply.started": "2023-11-01T19:06:18.761590Z"
    },
    "tags": []
   },
   "outputs": [],
   "source": [
    "with tarfile.open('./cifar10.tgz', 'r:gz') as tar:\n",
    "    tar.extractall(path='./data')"
   ]
  },
  {
   "cell_type": "code",
   "execution_count": 8,
   "id": "097ab098-c380-4338-bfff-8c41b388dceb",
   "metadata": {
    "execution": {
     "iopub.execute_input": "2023-11-01T19:12:24.599123Z",
     "iopub.status.busy": "2023-11-01T19:12:24.598463Z",
     "iopub.status.idle": "2023-11-01T19:12:24.844041Z",
     "shell.execute_reply": "2023-11-01T19:12:24.843467Z",
     "shell.execute_reply.started": "2023-11-01T19:12:24.599082Z"
    },
    "tags": []
   },
   "outputs": [],
   "source": [
    "data_dir = './data/cifar10'\n",
    "dataTrain = ImageFolder(data_dir+'/train', transform=ToTensor())\n",
    "dataTest = ImageFolder(data_dir+'/test', transform=ToTensor())"
   ]
  },
  {
   "cell_type": "code",
   "execution_count": 9,
   "id": "1b40331d-bb99-4c3d-bf74-c3db9930d59f",
   "metadata": {
    "execution": {
     "iopub.execute_input": "2023-11-01T19:12:27.623326Z",
     "iopub.status.busy": "2023-11-01T19:12:27.622662Z",
     "iopub.status.idle": "2023-11-01T19:12:27.645239Z",
     "shell.execute_reply": "2023-11-01T19:12:27.644674Z",
     "shell.execute_reply.started": "2023-11-01T19:12:27.623291Z"
    },
    "tags": []
   },
   "outputs": [
    {
     "name": "stdout",
     "output_type": "stream",
     "text": [
      "50000 10002\n"
     ]
    }
   ],
   "source": [
    "print(len(dataTrain), len(dataTest))"
   ]
  },
  {
   "cell_type": "code",
   "execution_count": 10,
   "id": "ba5e3206-25a7-4f00-864b-f93c55c859c0",
   "metadata": {
    "execution": {
     "iopub.execute_input": "2023-11-01T19:12:29.921363Z",
     "iopub.status.busy": "2023-11-01T19:12:29.920727Z",
     "iopub.status.idle": "2023-11-01T19:12:30.114969Z",
     "shell.execute_reply": "2023-11-01T19:12:30.114347Z",
     "shell.execute_reply.started": "2023-11-01T19:12:29.921333Z"
    },
    "tags": []
   },
   "outputs": [
    {
     "data": {
      "text/plain": [
       "torch.Size([3, 32, 32])"
      ]
     },
     "execution_count": 10,
     "metadata": {},
     "output_type": "execute_result"
    }
   ],
   "source": [
    "dataTrain[0][0].shape"
   ]
  },
  {
   "cell_type": "markdown",
   "id": "f486f65a-e6ab-4bb9-a891-61b9973da144",
   "metadata": {
    "execution": {
     "iopub.execute_input": "2023-11-02T14:27:49.073788Z",
     "iopub.status.busy": "2023-11-02T14:27:49.073135Z",
     "iopub.status.idle": "2023-11-02T14:27:49.092848Z",
     "shell.execute_reply": "2023-11-02T14:27:49.092202Z",
     "shell.execute_reply.started": "2023-11-02T14:27:49.073753Z"
    },
    "tags": []
   },
   "source": [
    "# Проверка данных"
   ]
  },
  {
   "cell_type": "markdown",
   "id": "8ea3f07e-0226-4622-8299-c6df423e9c09",
   "metadata": {},
   "source": [
    "Покажем список классов"
   ]
  },
  {
   "cell_type": "code",
   "execution_count": 40,
   "id": "05f3df34-6b98-44a3-a43c-82ce367a16a3",
   "metadata": {
    "execution": {
     "iopub.execute_input": "2023-11-01T14:09:37.319687Z",
     "iopub.status.busy": "2023-11-01T14:09:37.319007Z",
     "iopub.status.idle": "2023-11-01T14:09:37.336469Z",
     "shell.execute_reply": "2023-11-01T14:09:37.335781Z",
     "shell.execute_reply.started": "2023-11-01T14:09:37.319657Z"
    },
    "tags": []
   },
   "outputs": [
    {
     "data": {
      "text/plain": [
       "['airplane',\n",
       " 'automobile',\n",
       " 'bird',\n",
       " 'cat',\n",
       " 'deer',\n",
       " 'dog',\n",
       " 'frog',\n",
       " 'horse',\n",
       " 'ship',\n",
       " 'truck']"
      ]
     },
     "execution_count": 40,
     "metadata": {},
     "output_type": "execute_result"
    }
   ],
   "source": [
    "labelNames = sorted(os.listdir('./data/cifar10/train'))\n",
    "labelNames"
   ]
  },
  {
   "cell_type": "code",
   "execution_count": 53,
   "id": "2272402a-b501-4508-b9a8-38f2bdc42cd8",
   "metadata": {
    "execution": {
     "iopub.execute_input": "2023-11-01T14:15:10.890315Z",
     "iopub.status.busy": "2023-11-01T14:15:10.889491Z",
     "iopub.status.idle": "2023-11-01T14:15:10.921328Z",
     "shell.execute_reply": "2023-11-01T14:15:10.920588Z",
     "shell.execute_reply.started": "2023-11-01T14:15:10.890273Z"
    },
    "tags": []
   },
   "outputs": [],
   "source": [
    "examples = [None] * 10\n",
    "count = 0\n",
    "for i in range(len(dataTrain)):\n",
    "    if examples[dataTrain[i][1]] is None:\n",
    "        examples[dataTrain[i][1]] = dataTrain[i][0]\n",
    "        count += 1\n",
    "    if count == len(labelNames):\n",
    "        break"
   ]
  },
  {
   "cell_type": "markdown",
   "id": "f63618d8-001c-47ad-83ef-8c5d9076dc2d",
   "metadata": {},
   "source": [
    "Далее приведем по примеру фото на каждый класс"
   ]
  },
  {
   "cell_type": "code",
   "execution_count": 62,
   "id": "e90df44c-65ae-4a4a-9c09-1781abe9c4ba",
   "metadata": {
    "execution": {
     "iopub.execute_input": "2023-11-01T14:19:02.214166Z",
     "iopub.status.busy": "2023-11-01T14:19:02.213436Z",
     "iopub.status.idle": "2023-11-01T14:19:04.189595Z",
     "shell.execute_reply": "2023-11-01T14:19:04.188675Z",
     "shell.execute_reply.started": "2023-11-01T14:19:02.214136Z"
    },
    "tags": []
   },
   "outputs": [
    {
     "data": {
      "image/png": "[encoded data removed]",
      "text/plain": [
       "<Figure size 1440x1080 with 12 Axes>"
      ]
     },
     "metadata": {
      "needs_background": "light"
     },
     "output_type": "display_data"
    }
   ],
   "source": [
    "fig, axes = plt.subplots(3, 4, figsize = (20, 15))\n",
    "for i in range(len(labelNames)):\n",
    "    axes[i // 4, i % 4].imshow(examples[i].permute(1, 2, 0))\n",
    "    axes[i // 4, i % 4].set_title(labelNames[i], fontsize = 20)"
   ]
  },
  {
   "cell_type": "markdown",
   "id": "ea2739d1-63e1-4033-8f95-a5d4a2dac967",
   "metadata": {},
   "source": [
    "Создадим загрузчик данных для обучения"
   ]
  },
  {
   "cell_type": "code",
   "execution_count": null,
   "id": "d44855e9-5f9a-4e8a-bc40-a956ce6718b7",
   "metadata": {
    "execution": {
     "iopub.execute_input": "2023-10-31T08:33:39.285635Z",
     "iopub.status.busy": "2023-10-31T08:33:39.285106Z",
     "iopub.status.idle": "2023-10-31T08:33:39.295258Z",
     "shell.execute_reply": "2023-10-31T08:33:39.294713Z",
     "shell.execute_reply.started": "2023-10-31T08:33:39.285612Z"
    },
    "tags": []
   },
   "outputs": [],
   "source": [
    "batch_size = 100\n",
    "\n",
    "train_data_loader = torch.utils.data.DataLoader(\n",
    "    dataTrain, batch_size = batch_size, shuffle = True\n",
    ")\n",
    "test_data_loader = torch.utils.data.DataLoader(\n",
    "    dataTest, batch_size = batch_size, shuffle = False\n",
    ")"
   ]
  },
  {
   "cell_type": "markdown",
   "id": "6147112d-1537-4b09-be95-260d6a578995",
   "metadata": {
    "execution": {
     "iopub.execute_input": "2023-11-02T14:37:50.815437Z",
     "iopub.status.busy": "2023-11-02T14:37:50.814680Z",
     "iopub.status.idle": "2023-11-02T14:37:50.842211Z",
     "shell.execute_reply": "2023-11-02T14:37:50.841487Z",
     "shell.execute_reply.started": "2023-11-02T14:37:50.815401Z"
    },
    "tags": []
   },
   "source": [
    "# Модель"
   ]
  },
  {
   "cell_type": "code",
   "execution_count": 32,
   "id": "7052c062-757b-4e73-bf4a-523d544d8492",
   "metadata": {
    "execution": {
     "iopub.execute_input": "2023-11-01T13:16:01.165608Z",
     "iopub.status.busy": "2023-11-01T13:16:01.164793Z",
     "iopub.status.idle": "2023-11-01T13:16:01.369601Z",
     "shell.execute_reply": "2023-11-01T13:16:01.368674Z",
     "shell.execute_reply.started": "2023-11-01T13:16:01.165570Z"
    },
    "tags": []
   },
   "outputs": [
    {
     "name": "stdout",
     "output_type": "stream",
     "text": [
      "(50, 30)\n",
      "(100, 30)\n",
      "15\n"
     ]
    },
    {
     "data": {
      "text/plain": [
       "ConvolutionalNeuralNetwork(\n",
       "  (network): Sequential(\n",
       "    (0): Conv2d(3, 64, kernel_size=(3, 3), stride=(1, 1), padding=(1, 1))\n",
       "    (1): ReLU()\n",
       "    (2): Conv2d(64, 128, kernel_size=(3, 3), stride=(1, 1), padding=(1, 1))\n",
       "    (3): ReLU()\n",
       "    (4): MaxPool2d(kernel_size=2, stride=2, padding=0, dilation=1, ceil_mode=False)\n",
       "    (5): Flatten(start_dim=1, end_dim=-1)\n",
       "    (6): Linear(in_features=32768, out_features=256, bias=True)\n",
       "    (7): ReLU()\n",
       "    (8): Linear(in_features=256, out_features=10, bias=True)\n",
       "  )\n",
       ")"
      ]
     },
     "execution_count": 32,
     "metadata": {},
     "output_type": "execute_result"
    }
   ],
   "source": [
    "class ConvolutionalNeuralNetwork(torch.nn.Module):\n",
    "    def __init__(self):    \n",
    "        self.network = nn.Sequential(\n",
    "                nn.Conv2d(3, 64, kernel_size=3, padding=1),\n",
    "                nn.ReLU(),\n",
    "                nn.Conv2d(64, 128, kernel_size=3, stride=1, padding=1),\n",
    "                nn.ReLU(),\n",
    "                nn.MaxPool2d(2, 2),\n",
    "\n",
    "                nn.Flatten(), \n",
    "                nn.Linear(128*16*16, 256),\n",
    "                nn.ReLU(),\n",
    "                nn.Linear(256, 10))\n",
    "\n",
    "    def forward(self, x):\n",
    "        return self.network(x)\n",
    "\n",
    "cnn_model = ConvolutionalNeuralNetwork()\n",
    "cnn_model"
   ]
  },
  {
   "cell_type": "markdown",
   "id": "d206d59f-8b8c-46f1-929c-f31ba28e3b95",
   "metadata": {},
   "source": [
    "# Обучение модели"
   ]
  },
  {
   "cell_type": "code",
   "execution_count": 33,
   "id": "6d6a2948-da31-4f3a-ae67-11bb6c31685f",
   "metadata": {
    "execution": {
     "iopub.execute_input": "2023-11-01T13:16:04.170200Z",
     "iopub.status.busy": "2023-11-01T13:16:04.169175Z",
     "iopub.status.idle": "2023-11-01T13:59:08.870339Z",
     "shell.execute_reply": "2023-11-01T13:59:08.869468Z",
     "shell.execute_reply.started": "2023-11-01T13:16:04.170150Z"
    },
    "tags": []
   },
   "outputs": [
    {
     "data": {
      "application/vnd.jupyter.widget-view+json": {
       "model_id": "cc585e8f313c4fa495e5860d90e6fa73",
       "version_major": 2,
       "version_minor": 0
      },
      "text/plain": [
       "  0%|          | 0/50 [00:00<?, ?it/s]"
      ]
     },
     "metadata": {},
     "output_type": "display_data"
    },
    {
     "data": {
      "application/vnd.jupyter.widget-view+json": {
       "model_id": "",
       "version_major": 2,
       "version_minor": 0
      },
      "text/plain": [
       "training:   0%|          | 0/500 [00:00<?, ?it/s]"
      ]
     },
     "metadata": {},
     "output_type": "display_data"
    },
    {
     "data": {
      "application/vnd.jupyter.widget-view+json": {
       "model_id": "",
       "version_major": 2,
       "version_minor": 0
      },
      "text/plain": [
       "Calculating train score:   0%|          | 0/500 [00:00<?, ?it/s]"
      ]
     },
     "metadata": {},
     "output_type": "display_data"
    },
    {
     "data": {
      "application/vnd.jupyter.widget-view+json": {
       "model_id": "",
       "version_major": 2,
       "version_minor": 0
      },
      "text/plain": [
       "Calculating test score:   0%|          | 0/101 [00:00<?, ?it/s]"
      ]
     },
     "metadata": {},
     "output_type": "display_data"
    },
    {
     "data": {
      "application/vnd.jupyter.widget-view+json": {
       "model_id": "",
       "version_major": 2,
       "version_minor": 0
      },
      "text/plain": [
       "training:   0%|          | 0/500 [00:00<?, ?it/s]"
      ]
     },
     "metadata": {},
     "output_type": "display_data"
    },
    {
     "data": {
      "application/vnd.jupyter.widget-view+json": {
       "model_id": "",
       "version_major": 2,
       "version_minor": 0
      },
      "text/plain": [
       "Calculating train score:   0%|          | 0/500 [00:00<?, ?it/s]"
      ]
     },
     "metadata": {},
     "output_type": "display_data"
    },
    {
     "data": {
      "application/vnd.jupyter.widget-view+json": {
       "model_id": "",
       "version_major": 2,
       "version_minor": 0
      },
      "text/plain": [
       "Calculating test score:   0%|          | 0/101 [00:00<?, ?it/s]"
      ]
     },
     "metadata": {},
     "output_type": "display_data"
    },
    {
     "data": {
      "application/vnd.jupyter.widget-view+json": {
       "model_id": "",
       "version_major": 2,
       "version_minor": 0
      },
      "text/plain": [
       "training:   0%|          | 0/500 [00:00<?, ?it/s]"
      ]
     },
     "metadata": {},
     "output_type": "display_data"
    },
    {
     "data": {
      "application/vnd.jupyter.widget-view+json": {
       "model_id": "",
       "version_major": 2,
       "version_minor": 0
      },
      "text/plain": [
       "Calculating train score:   0%|          | 0/500 [00:00<?, ?it/s]"
      ]
     },
     "metadata": {},
     "output_type": "display_data"
    },
    {
     "data": {
      "application/vnd.jupyter.widget-view+json": {
       "model_id": "",
       "version_major": 2,
       "version_minor": 0
      },
      "text/plain": [
       "Calculating test score:   0%|          | 0/101 [00:00<?, ?it/s]"
      ]
     },
     "metadata": {},
     "output_type": "display_data"
    },
    {
     "data": {
      "application/vnd.jupyter.widget-view+json": {
       "model_id": "",
       "version_major": 2,
       "version_minor": 0
      },
      "text/plain": [
       "training:   0%|          | 0/500 [00:00<?, ?it/s]"
      ]
     },
     "metadata": {},
     "output_type": "display_data"
    },
    {
     "data": {
      "application/vnd.jupyter.widget-view+json": {
       "model_id": "",
       "version_major": 2,
       "version_minor": 0
      },
      "text/plain": [
       "Calculating train score:   0%|          | 0/500 [00:00<?, ?it/s]"
      ]
     },
     "metadata": {},
     "output_type": "display_data"
    },
    {
     "data": {
      "application/vnd.jupyter.widget-view+json": {
       "model_id": "",
       "version_major": 2,
       "version_minor": 0
      },
      "text/plain": [
       "Calculating test score:   0%|          | 0/101 [00:00<?, ?it/s]"
      ]
     },
     "metadata": {},
     "output_type": "display_data"
    },
    {
     "data": {
      "application/vnd.jupyter.widget-view+json": {
       "model_id": "",
       "version_major": 2,
       "version_minor": 0
      },
      "text/plain": [
       "training:   0%|          | 0/500 [00:00<?, ?it/s]"
      ]
     },
     "metadata": {},
     "output_type": "display_data"
    },
    {
     "data": {
      "application/vnd.jupyter.widget-view+json": {
       "model_id": "",
       "version_major": 2,
       "version_minor": 0
      },
      "text/plain": [
       "Calculating train score:   0%|          | 0/500 [00:00<?, ?it/s]"
      ]
     },
     "metadata": {},
     "output_type": "display_data"
    },
    {
     "data": {
      "application/vnd.jupyter.widget-view+json": {
       "model_id": "",
       "version_major": 2,
       "version_minor": 0
      },
      "text/plain": [
       "Calculating test score:   0%|          | 0/101 [00:00<?, ?it/s]"
      ]
     },
     "metadata": {},
     "output_type": "display_data"
    },
    {
     "data": {
      "application/vnd.jupyter.widget-view+json": {
       "model_id": "",
       "version_major": 2,
       "version_minor": 0
      },
      "text/plain": [
       "training:   0%|          | 0/500 [00:00<?, ?it/s]"
      ]
     },
     "metadata": {},
     "output_type": "display_data"
    },
    {
     "data": {
      "application/vnd.jupyter.widget-view+json": {
       "model_id": "",
       "version_major": 2,
       "version_minor": 0
      },
      "text/plain": [
       "Calculating train score:   0%|          | 0/500 [00:00<?, ?it/s]"
      ]
     },
     "metadata": {},
     "output_type": "display_data"
    },
    {
     "data": {
      "application/vnd.jupyter.widget-view+json": {
       "model_id": "",
       "version_major": 2,
       "version_minor": 0
      },
      "text/plain": [
       "Calculating test score:   0%|          | 0/101 [00:00<?, ?it/s]"
      ]
     },
     "metadata": {},
     "output_type": "display_data"
    },
    {
     "data": {
      "application/vnd.jupyter.widget-view+json": {
       "model_id": "",
       "version_major": 2,
       "version_minor": 0
      },
      "text/plain": [
       "training:   0%|          | 0/500 [00:00<?, ?it/s]"
      ]
     },
     "metadata": {},
     "output_type": "display_data"
    },
    {
     "data": {
      "application/vnd.jupyter.widget-view+json": {
       "model_id": "",
       "version_major": 2,
       "version_minor": 0
      },
      "text/plain": [
       "Calculating train score:   0%|          | 0/500 [00:00<?, ?it/s]"
      ]
     },
     "metadata": {},
     "output_type": "display_data"
    },
    {
     "data": {
      "application/vnd.jupyter.widget-view+json": {
       "model_id": "",
       "version_major": 2,
       "version_minor": 0
      },
      "text/plain": [
       "Calculating test score:   0%|          | 0/101 [00:00<?, ?it/s]"
      ]
     },
     "metadata": {},
     "output_type": "display_data"
    },
    {
     "data": {
      "application/vnd.jupyter.widget-view+json": {
       "model_id": "",
       "version_major": 2,
       "version_minor": 0
      },
      "text/plain": [
       "training:   0%|          | 0/500 [00:00<?, ?it/s]"
      ]
     },
     "metadata": {},
     "output_type": "display_data"
    },
    {
     "data": {
      "application/vnd.jupyter.widget-view+json": {
       "model_id": "",
       "version_major": 2,
       "version_minor": 0
      },
      "text/plain": [
       "Calculating train score:   0%|          | 0/500 [00:00<?, ?it/s]"
      ]
     },
     "metadata": {},
     "output_type": "display_data"
    },
    {
     "data": {
      "application/vnd.jupyter.widget-view+json": {
       "model_id": "",
       "version_major": 2,
       "version_minor": 0
      },
      "text/plain": [
       "Calculating test score:   0%|          | 0/101 [00:00<?, ?it/s]"
      ]
     },
     "metadata": {},
     "output_type": "display_data"
    },
    {
     "data": {
      "application/vnd.jupyter.widget-view+json": {
       "model_id": "",
       "version_major": 2,
       "version_minor": 0
      },
      "text/plain": [
       "training:   0%|          | 0/500 [00:00<?, ?it/s]"
      ]
     },
     "metadata": {},
     "output_type": "display_data"
    },
    {
     "data": {
      "application/vnd.jupyter.widget-view+json": {
       "model_id": "",
       "version_major": 2,
       "version_minor": 0
      },
      "text/plain": [
       "Calculating train score:   0%|          | 0/500 [00:00<?, ?it/s]"
      ]
     },
     "metadata": {},
     "output_type": "display_data"
    },
    {
     "data": {
      "application/vnd.jupyter.widget-view+json": {
       "model_id": "",
       "version_major": 2,
       "version_minor": 0
      },
      "text/plain": [
       "Calculating test score:   0%|          | 0/101 [00:00<?, ?it/s]"
      ]
     },
     "metadata": {},
     "output_type": "display_data"
    },
    {
     "data": {
      "application/vnd.jupyter.widget-view+json": {
       "model_id": "",
       "version_major": 2,
       "version_minor": 0
      },
      "text/plain": [
       "training:   0%|          | 0/500 [00:00<?, ?it/s]"
      ]
     },
     "metadata": {},
     "output_type": "display_data"
    },
    {
     "data": {
      "application/vnd.jupyter.widget-view+json": {
       "model_id": "",
       "version_major": 2,
       "version_minor": 0
      },
      "text/plain": [
       "Calculating train score:   0%|          | 0/500 [00:00<?, ?it/s]"
      ]
     },
     "metadata": {},
     "output_type": "display_data"
    },
    {
     "data": {
      "application/vnd.jupyter.widget-view+json": {
       "model_id": "",
       "version_major": 2,
       "version_minor": 0
      },
      "text/plain": [
       "Calculating test score:   0%|          | 0/101 [00:00<?, ?it/s]"
      ]
     },
     "metadata": {},
     "output_type": "display_data"
    },
    {
     "data": {
      "application/vnd.jupyter.widget-view+json": {
       "model_id": "",
       "version_major": 2,
       "version_minor": 0
      },
      "text/plain": [
       "training:   0%|          | 0/500 [00:00<?, ?it/s]"
      ]
     },
     "metadata": {},
     "output_type": "display_data"
    },
    {
     "data": {
      "application/vnd.jupyter.widget-view+json": {
       "model_id": "",
       "version_major": 2,
       "version_minor": 0
      },
      "text/plain": [
       "Calculating train score:   0%|          | 0/500 [00:00<?, ?it/s]"
      ]
     },
     "metadata": {},
     "output_type": "display_data"
    },
    {
     "data": {
      "application/vnd.jupyter.widget-view+json": {
       "model_id": "",
       "version_major": 2,
       "version_minor": 0
      },
      "text/plain": [
       "Calculating test score:   0%|          | 0/101 [00:00<?, ?it/s]"
      ]
     },
     "metadata": {},
     "output_type": "display_data"
    },
    {
     "data": {
      "application/vnd.jupyter.widget-view+json": {
       "model_id": "",
       "version_major": 2,
       "version_minor": 0
      },
      "text/plain": [
       "training:   0%|          | 0/500 [00:00<?, ?it/s]"
      ]
     },
     "metadata": {},
     "output_type": "display_data"
    },
    {
     "data": {
      "application/vnd.jupyter.widget-view+json": {
       "model_id": "",
       "version_major": 2,
       "version_minor": 0
      },
      "text/plain": [
       "Calculating train score:   0%|          | 0/500 [00:00<?, ?it/s]"
      ]
     },
     "metadata": {},
     "output_type": "display_data"
    },
    {
     "data": {
      "application/vnd.jupyter.widget-view+json": {
       "model_id": "",
       "version_major": 2,
       "version_minor": 0
      },
      "text/plain": [
       "Calculating test score:   0%|          | 0/101 [00:00<?, ?it/s]"
      ]
     },
     "metadata": {},
     "output_type": "display_data"
    },
    {
     "data": {
      "application/vnd.jupyter.widget-view+json": {
       "model_id": "",
       "version_major": 2,
       "version_minor": 0
      },
      "text/plain": [
       "training:   0%|          | 0/500 [00:00<?, ?it/s]"
      ]
     },
     "metadata": {},
     "output_type": "display_data"
    },
    {
     "data": {
      "application/vnd.jupyter.widget-view+json": {
       "model_id": "",
       "version_major": 2,
       "version_minor": 0
      },
      "text/plain": [
       "Calculating train score:   0%|          | 0/500 [00:00<?, ?it/s]"
      ]
     },
     "metadata": {},
     "output_type": "display_data"
    },
    {
     "data": {
      "application/vnd.jupyter.widget-view+json": {
       "model_id": "",
       "version_major": 2,
       "version_minor": 0
      },
      "text/plain": [
       "Calculating test score:   0%|          | 0/101 [00:00<?, ?it/s]"
      ]
     },
     "metadata": {},
     "output_type": "display_data"
    },
    {
     "data": {
      "application/vnd.jupyter.widget-view+json": {
       "model_id": "",
       "version_major": 2,
       "version_minor": 0
      },
      "text/plain": [
       "training:   0%|          | 0/500 [00:00<?, ?it/s]"
      ]
     },
     "metadata": {},
     "output_type": "display_data"
    },
    {
     "data": {
      "application/vnd.jupyter.widget-view+json": {
       "model_id": "",
       "version_major": 2,
       "version_minor": 0
      },
      "text/plain": [
       "Calculating train score:   0%|          | 0/500 [00:00<?, ?it/s]"
      ]
     },
     "metadata": {},
     "output_type": "display_data"
    },
    {
     "data": {
      "application/vnd.jupyter.widget-view+json": {
       "model_id": "",
       "version_major": 2,
       "version_minor": 0
      },
      "text/plain": [
       "Calculating test score:   0%|          | 0/101 [00:00<?, ?it/s]"
      ]
     },
     "metadata": {},
     "output_type": "display_data"
    },
    {
     "data": {
      "application/vnd.jupyter.widget-view+json": {
       "model_id": "",
       "version_major": 2,
       "version_minor": 0
      },
      "text/plain": [
       "training:   0%|          | 0/500 [00:00<?, ?it/s]"
      ]
     },
     "metadata": {},
     "output_type": "display_data"
    },
    {
     "data": {
      "application/vnd.jupyter.widget-view+json": {
       "model_id": "",
       "version_major": 2,
       "version_minor": 0
      },
      "text/plain": [
       "Calculating train score:   0%|          | 0/500 [00:00<?, ?it/s]"
      ]
     },
     "metadata": {},
     "output_type": "display_data"
    },
    {
     "data": {
      "application/vnd.jupyter.widget-view+json": {
       "model_id": "",
       "version_major": 2,
       "version_minor": 0
      },
      "text/plain": [
       "Calculating test score:   0%|          | 0/101 [00:00<?, ?it/s]"
      ]
     },
     "metadata": {},
     "output_type": "display_data"
    },
    {
     "data": {
      "application/vnd.jupyter.widget-view+json": {
       "model_id": "",
       "version_major": 2,
       "version_minor": 0
      },
      "text/plain": [
       "training:   0%|          | 0/500 [00:00<?, ?it/s]"
      ]
     },
     "metadata": {},
     "output_type": "display_data"
    },
    {
     "data": {
      "application/vnd.jupyter.widget-view+json": {
       "model_id": "",
       "version_major": 2,
       "version_minor": 0
      },
      "text/plain": [
       "Calculating train score:   0%|          | 0/500 [00:00<?, ?it/s]"
      ]
     },
     "metadata": {},
     "output_type": "display_data"
    },
    {
     "data": {
      "application/vnd.jupyter.widget-view+json": {
       "model_id": "",
       "version_major": 2,
       "version_minor": 0
      },
      "text/plain": [
       "Calculating test score:   0%|          | 0/101 [00:00<?, ?it/s]"
      ]
     },
     "metadata": {},
     "output_type": "display_data"
    },
    {
     "name": "stdout",
     "output_type": "stream",
     "text": [
      "Learning finished\n",
      "Totoal time : 1880.5594100952148 sec\n"
     ]
    }
   ],
   "source": [
    "learning_rate = 0.1\n",
    "num_epochs = 50\n",
    "\n",
    "device = torch.device(\"cuda:0\" if torch.cuda.is_available() else \"cpu\")\n",
    "cnn_model.to(device)\n",
    "loss_function = torch.nn.CrossEntropyLoss()\n",
    "optimizer = torch.optim.SGD(cnn_model.parameters(), lr = learning_rate)\n",
    "\n",
    "def get_accuracy(data_loader, model, desc):\n",
    "    tp = 0\n",
    "    n = 0\n",
    "    with torch.no_grad():\n",
    "        for images, labels in tqdm(data_loader, leave=False, desc = desc):\n",
    "            labels = labels.to(device)\n",
    "            images = images.to(device)\n",
    "            outputs = model(images)\n",
    "            _, predicted = torch.max(outputs.data, 1)\n",
    "            n += labels.size(0)\n",
    "            tp += (predicted == labels).sum()\n",
    "    return tp / n\n",
    "\n",
    "trainScore, testScore = [0], [0]\n",
    "timeSpend = []\n",
    "\n",
    "pBar = trange(num_epochs, leave=True)\n",
    "for epoch in pBar:\n",
    "    timeStart = time.time()\n",
    "    pBar.set_postfix({'Last train score': round(float(trainScore[-1]), 5), 'test score' : round(float(testScore[-1]), 5)})\n",
    "    for (images, labels) in tqdm(train_data_loader, leave=False, desc = 'training'):\n",
    "        images = images.to(device)\n",
    "        labels = labels.to(device)\n",
    "\n",
    "        outputs = cnn_model(images)\n",
    "        loss = loss_function(outputs, labels)\n",
    "\n",
    "        optimizer.zero_grad()\n",
    "        loss.backward()\n",
    "        optimizer.step()\n",
    "        \n",
    "    timeSpend.append(time.time() - timeStart)\n",
    "        \n",
    "    trainScore.append(get_accuracy(train_data_loader, cnn_model, 'Calculating train score'))\n",
    "    testScore.append(get_accuracy(test_data_loader, cnn_model, 'Calculating test score'))\n",
    "    \n",
    "    if trainScore[-1] == 1 and testScore[-1] > 0.7:\n",
    "        print('Learning finished')\n",
    "        print(f'Totoal time : {sum(timeSpend)} sec')\n",
    "        break\n",
    "    "
   ]
  },
  {
   "cell_type": "markdown",
   "id": "1accbf60-850c-4d1a-bb27-da1b640309fc",
   "metadata": {},
   "source": [
    "# Результаты"
   ]
  },
  {
   "cell_type": "markdown",
   "id": "b145cf07-0d29-4bba-94ab-7fcb0cccfa5a",
   "metadata": {},
   "source": [
    "Покажем графики зависимости точностей (на тренировочной и тестовой выборках) и времени обучения от номера эпохи"
   ]
  },
  {
   "cell_type": "code",
   "execution_count": 34,
   "id": "569977fa-87a4-4cfe-b02f-f6973665f850",
   "metadata": {
    "execution": {
     "iopub.execute_input": "2023-11-01T13:59:08.872270Z",
     "iopub.status.busy": "2023-11-01T13:59:08.871770Z",
     "iopub.status.idle": "2023-11-01T13:59:09.161093Z",
     "shell.execute_reply": "2023-11-01T13:59:09.160319Z",
     "shell.execute_reply.started": "2023-11-01T13:59:08.872247Z"
    },
    "tags": []
   },
   "outputs": [
    {
     "data": {
      "image/png": "[encoded data removed]",
      "text/plain": [
       "<Figure size 1080x720 with 2 Axes>"
      ]
     },
     "metadata": {
      "needs_background": "light"
     },
     "output_type": "display_data"
    }
   ],
   "source": [
    "fig, [ax1, ax2] = plt.subplots(2, 1, figsize = (15, 10))\n",
    "ax1.plot([i for i in range(1, len(trainScore))], trainScore[1:], 'r-o', label = 'train score')\n",
    "ax1.plot([i for i in range(1, len(testScore))], testScore[1:], 'b-o', label = 'test score')\n",
    "ax1.legend(fontsize = 15)\n",
    "ax1.set_xlabel('epoch', fontsize = 20)\n",
    "ax1.set_ylabel('score', fontsize = 20)\n",
    "\n",
    "ax2.plot([i + 1 for i in range(len(timeSpend))], timeSpend, '-o')\n",
    "ax2.set_xlabel('epoch', fontsize = 20)\n",
    "ax2.set_ylabel('time spend (sec)', fontsize = 20)\n",
    "\n",
    "\n",
    "plt.show()"
   ]
  }
 ],
 "metadata": {
  "kernelspec": {
   "display_name": "DataSphere Kernel",
   "language": "python",
   "name": "python3"
  },
  "language_info": {
   "codemirror_mode": {
    "name": "ipython",
    "version": 3
   },
   "file_extension": ".py",
   "mimetype": "text/x-python",
   "name": "python",
   "nbconvert_exporter": "python",
   "pygments_lexer": "ipython3",
   "version": "3.7.7"
  }
 },
 "nbformat": 4,
 "nbformat_minor": 5
}
